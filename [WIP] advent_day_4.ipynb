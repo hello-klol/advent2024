{
 "cells": [
  {
   "cell_type": "code",
   "execution_count": 51,
   "id": "e8746075-1b8d-49c4-a697-93a509b019d4",
   "metadata": {},
   "outputs": [],
   "source": [
    "from aocd import get_data"
   ]
  },
  {
   "cell_type": "markdown",
   "id": "76b83f67-0ca5-4f1f-9b31-8c225cefdfa2",
   "metadata": {},
   "source": [
    "she'd like to know if you could help her with her word search (your puzzle input). She only has to find one word: XMAS.\n",
    "\n",
    "This word search allows words to be horizontal, vertical, diagonal, written backwards, or even overlapping other words. It's a little unusual, though, as you don't merely need to find one instance of XMAS - you need to find all of them. Here are a few ways XMAS might appear, where irrelevant characters have been replaced with .:\n",
    "\n",
    "```\n",
    "..X...\n",
    ".SAMX.\n",
    ".A..A.\n",
    "XMAS.S\n",
    ".X....\n",
    "```"
   ]
  },
  {
   "cell_type": "markdown",
   "id": "61514358-fcf8-438e-aadf-ff5686314ac9",
   "metadata": {},
   "source": [
    "The actual word search will be full of letters instead. For example:"
   ]
  },
  {
   "cell_type": "code",
   "execution_count": 24,
   "id": "4bc5e923-8313-4c56-8353-fa13b28a4b70",
   "metadata": {},
   "outputs": [],
   "source": [
    "example_ws = \"\"\"\n",
    "MMMSXXMASM\n",
    "MSAMXMSMSA\n",
    "AMXSXMAAMM\n",
    "MSAMASMSMX\n",
    "XMASAMXAMM\n",
    "XXAMMXXAMA\n",
    "SMSMSASXSS\n",
    "SAXAMASAAA\n",
    "MAMMMXMMMM\n",
    "MXMXAXMASX\n",
    "\"\"\""
   ]
  },
  {
   "cell_type": "markdown",
   "id": "60aea9dd-444c-4b55-84ce-75367b5e73b8",
   "metadata": {},
   "source": [
    "In this word search, XMAS occurs a total of 18 times; here's the same word search again, but where letters not involved in any XMAS have been replaced with `.`:\n",
    "\n",
    "```\n",
    "....XXMAS.\n",
    ".SAMXMS...\n",
    "...S..A...\n",
    "..A.A.MS.X\n",
    "XMASAMX.MM\n",
    "X.....XA.A\n",
    "S.S.S.S.SS\n",
    ".A.A.A.A.A\n",
    "..M.M.M.MM\n",
    ".X.X.XMASX\n",
    "```"
   ]
  },
  {
   "cell_type": "code",
   "execution_count": 11,
   "id": "a5efad47-0886-4f9b-9d3f-96fc178497ad",
   "metadata": {},
   "outputs": [],
   "source": [
    "import numpy as np\n",
    "import re"
   ]
  },
  {
   "cell_type": "markdown",
   "id": "0412bbc7-0fed-4fd9-8db2-151f8c97854c",
   "metadata": {},
   "source": [
    "Get instances reading forward horizontally"
   ]
  },
  {
   "cell_type": "code",
   "execution_count": 33,
   "id": "ce17875c-9353-466f-82fc-2af5662e2283",
   "metadata": {},
   "outputs": [
    {
     "data": {
      "text/plain": [
       "array(['MMMSXXMASM', 'MSAMXMSMSA', 'AMXSXMAAMM', 'MSAMASMSMX',\n",
       "       'XMASAMXAMM', 'XXAMMXXAMA', 'SMSMSASXSS', 'SAXAMASAAA',\n",
       "       'MAMMMXMMMM', 'MXMXAXMASX'], dtype='<U10')"
      ]
     },
     "execution_count": 33,
     "metadata": {},
     "output_type": "execute_result"
    }
   ],
   "source": [
    "rows = np.array(example_ws.strip().splitlines()); rows"
   ]
  },
  {
   "cell_type": "code",
   "execution_count": 34,
   "id": "2cda9c56-8aaf-4988-90b1-222dce6e46d6",
   "metadata": {},
   "outputs": [],
   "source": [
    "vectorized_extract_fwd = np.vectorize(lambda x: len(re.findall(r'XMAS', x)))\n",
    "vectorized_extract_bwd = np.vectorize(lambda x: len(re.findall(r'SAMX', x)))"
   ]
  },
  {
   "cell_type": "code",
   "execution_count": 36,
   "id": "09a6e66b-37fe-43df-b4a5-7d3aeb6850a1",
   "metadata": {},
   "outputs": [],
   "source": [
    "instances = 0\n",
    "instances += np.sum(vectorized_extract_fwd(rows))\n",
    "instances += np.sum(vectorized_extract_bwd(rows))"
   ]
  },
  {
   "cell_type": "code",
   "execution_count": 37,
   "id": "98bc70e2-7189-4e0c-af39-364bbacabd42",
   "metadata": {},
   "outputs": [
    {
     "data": {
      "text/plain": [
       "np.int64(5)"
      ]
     },
     "execution_count": 37,
     "metadata": {},
     "output_type": "execute_result"
    }
   ],
   "source": [
    "instances"
   ]
  },
  {
   "cell_type": "markdown",
   "id": "4bbc8580-5fdc-486e-b4e9-1dd612fcf16e",
   "metadata": {},
   "source": [
    "Now a little bit of manipilation to get cols and diagonals"
   ]
  },
  {
   "cell_type": "code",
   "execution_count": 39,
   "id": "6ced4867-7f9b-42a4-b0a0-96311737676a",
   "metadata": {},
   "outputs": [
    {
     "data": {
      "text/plain": [
       "['MMAMXXSSMM',\n",
       " 'MSMSMXMAAX',\n",
       " 'MAXAAASXMM',\n",
       " 'SMSMSMMAMX',\n",
       " 'XXXAAMSMMA',\n",
       " 'XMMSMXAAXX',\n",
       " 'MSAMXXSSMM',\n",
       " 'AMASAAXAMA',\n",
       " 'SSMMMMSAMS',\n",
       " 'MAMXMASAMX']"
      ]
     },
     "execution_count": 39,
     "metadata": {},
     "output_type": "execute_result"
    }
   ],
   "source": [
    "chars = np.array([list(line) for line in example_ws.strip().splitlines()])\n",
    "cols = np.array([''.join(col) for col in chars.T]); cols"
   ]
  },
  {
   "cell_type": "code",
   "execution_count": 40,
   "id": "5ecd5eaa-8702-430b-8f32-00ffa35097ff",
   "metadata": {},
   "outputs": [],
   "source": [
    "instances += np.sum(vectorized_extract_fwd(cols))\n",
    "instances += np.sum(vectorized_extract_bwd(cols))"
   ]
  },
  {
   "cell_type": "code",
   "execution_count": 41,
   "id": "12e829ef-9e04-4746-b4f1-b8562e8a3fc3",
   "metadata": {},
   "outputs": [
    {
     "data": {
      "text/plain": [
       "np.int64(8)"
      ]
     },
     "execution_count": 41,
     "metadata": {},
     "output_type": "execute_result"
    }
   ],
   "source": [
    "instances"
   ]
  },
  {
   "cell_type": "code",
   "execution_count": 49,
   "id": "973e0807-4f97-4247-8074-b9c90b2668bd",
   "metadata": {},
   "outputs": [],
   "source": [
    "def extract_diagonals(array):\n",
    "    diagonals = []\n",
    "\n",
    "    # main diagonals (bottom-left to top-right)\n",
    "    for offset in range(-array.shape[0] + 1, array.shape[1]):\n",
    "        diagonals.append(''.join(array.diagonal(offset)))\n",
    "\n",
    "    # anti-diagonals (bottom-right to top-left)\n",
    "    flipped_array = np.fliplr(array)\n",
    "    for offset in range(-flipped_array.shape[0] + 1, flipped_array.shape[1]):\n",
    "        diagonals.append(''.join(flipped_array.diagonal(offset)))\n",
    "\n",
    "    return diagonals\n",
    "\n",
    "\n",
    "diagonal_strings = extract_diagonals(chars)\n",
    "\n",
    "for diag in diagonal_strings:\n",
    "    instances += len(re.findall(r'XMAS', diag))\n",
    "    instances += len(re.findall(r'SAMX', diag))"
   ]
  },
  {
   "cell_type": "code",
   "execution_count": 50,
   "id": "c9d08708-1d63-400b-bb11-aaf640052dc4",
   "metadata": {},
   "outputs": [
    {
     "data": {
      "text/plain": [
       "np.int64(18)"
      ]
     },
     "execution_count": 50,
     "metadata": {},
     "output_type": "execute_result"
    }
   ],
   "source": [
    "instances"
   ]
  },
  {
   "cell_type": "markdown",
   "id": "96831a82-1e26-4d42-99d1-df1d6c934856",
   "metadata": {},
   "source": [
    "Now apply to our real data:"
   ]
  },
  {
   "cell_type": "code",
   "execution_count": 52,
   "id": "7d993da4-d5bd-4f8e-a95c-3230b2ce7cab",
   "metadata": {},
   "outputs": [
    {
     "data": {
      "text/plain": [
       "np.int64(2336)"
      ]
     },
     "execution_count": 52,
     "metadata": {},
     "output_type": "execute_result"
    }
   ],
   "source": [
    "data = get_data(day=4, year=2024)\n",
    "\n",
    "rows = np.array(data.strip().splitlines())\n",
    "chars = np.array([list(line) for line in data.strip().splitlines()])\n",
    "cols = np.array([''.join(col) for col in chars.T])\n",
    "diagonal_strings = extract_diagonals(chars)\n",
    "\n",
    "instances = 0\n",
    "instances += np.sum(vectorized_extract_fwd(rows))\n",
    "instances += np.sum(vectorized_extract_bwd(rows))\n",
    "instances += np.sum(vectorized_extract_fwd(cols))\n",
    "instances += np.sum(vectorized_extract_bwd(cols))\n",
    "for diag in diagonal_strings:\n",
    "    instances += len(re.findall(r'XMAS', diag))\n",
    "    instances += len(re.findall(r'SAMX', diag))\n",
    "\n",
    "instances"
   ]
  },
  {
   "cell_type": "code",
   "execution_count": null,
   "id": "f360c512-9b42-4cb2-a51b-ef3ebd903a00",
   "metadata": {},
   "outputs": [],
   "source": []
  }
 ],
 "metadata": {
  "kernelspec": {
   "display_name": "advent2024",
   "language": "python",
   "name": "advent2024"
  },
  "language_info": {
   "codemirror_mode": {
    "name": "ipython",
    "version": 3
   },
   "file_extension": ".py",
   "mimetype": "text/x-python",
   "name": "python",
   "nbconvert_exporter": "python",
   "pygments_lexer": "ipython3",
   "version": "3.11.4"
  }
 },
 "nbformat": 4,
 "nbformat_minor": 5
}
