{
 "cells": [
  {
   "cell_type": "code",
   "execution_count": 1,
   "id": "2384d9c6-57b4-4964-acf6-31d4f3d99f52",
   "metadata": {},
   "outputs": [],
   "source": [
    "from aocd import get_data"
   ]
  },
  {
   "cell_type": "markdown",
   "id": "6ad9b408-4c3d-4a28-872a-75f1d9e98bb9",
   "metadata": {},
   "source": [
    "# Day 9: Disk Fragmenter"
   ]
  },
  {
   "cell_type": "markdown",
   "id": "e7425a98-1333-4174-875b-d913ad8afa44",
   "metadata": {},
   "source": [
    "## Part One"
   ]
  },
  {
   "cell_type": "code",
   "execution_count": 2,
   "id": "4028fc39-b4d7-4c7d-b4fd-dc2fd7d4a893",
   "metadata": {},
   "outputs": [
    {
     "data": {
      "text/plain": [
       "array([2, 3, 3, 3, 1, 3, 3, 1, 2, 1, 4, 1, 4, 1, 3, 1, 4, 0, 2])"
      ]
     },
     "execution_count": 2,
     "metadata": {},
     "output_type": "execute_result"
    }
   ],
   "source": [
    "import numpy as np\n",
    "\n",
    "example_input = \"2333133121414131402\"\n",
    "counts = np.array(list(example_input), dtype=int); counts"
   ]
  },
  {
   "cell_type": "code",
   "execution_count": 3,
   "id": "4d5010bd-eba0-44c4-943f-3253c6760e62",
   "metadata": {},
   "outputs": [
    {
     "data": {
      "text/plain": [
       "19"
      ]
     },
     "execution_count": 3,
     "metadata": {},
     "output_type": "execute_result"
    }
   ],
   "source": [
    "len(counts)"
   ]
  },
  {
   "cell_type": "markdown",
   "id": "8949a117-76e1-4f89-b3be-313963661bb5",
   "metadata": {},
   "source": [
    "First we need to convert the input into the file representation:"
   ]
  },
  {
   "cell_type": "code",
   "execution_count": 4,
   "id": "57a256f7-8932-4ea1-9078-9b9777ee594e",
   "metadata": {},
   "outputs": [],
   "source": [
    "file_values = np.arange(0, len(list(example_input))//2 + 1)\n",
    "empty_values = np.full(len(list(example_input))//2 + 1, '.')"
   ]
  },
  {
   "cell_type": "code",
   "execution_count": 5,
   "id": "947dcc71-28a1-4439-99d8-eb8561ae6bd8",
   "metadata": {},
   "outputs": [
    {
     "data": {
      "text/plain": [
       "array(['0', '.', '1', '.', '2', '.', '3', '.', '4', '.', '5', '.', '6',\n",
       "       '.', '7', '.', '8', '.', '9', '.'], dtype='<U21')"
      ]
     },
     "execution_count": 5,
     "metadata": {},
     "output_type": "execute_result"
    }
   ],
   "source": [
    "import itertools\n",
    "interleaved = np.array(list(itertools.chain(*zip(file_values, empty_values))), dtype=str); interleaved"
   ]
  },
  {
   "cell_type": "code",
   "execution_count": 6,
   "id": "38fdf9b3-4551-4693-a581-9cde1fe87521",
   "metadata": {},
   "outputs": [
    {
     "data": {
      "text/plain": [
       "array(['0', '0', '.', '.', '.', '1', '1', '1', '.', '.', '.', '2', '.',\n",
       "       '.', '.', '3', '3', '3', '.', '4', '4', '.', '5', '5', '5', '5',\n",
       "       '.', '6', '6', '6', '6', '.', '7', '7', '7', '.', '8', '8', '8',\n",
       "       '8', '9', '9'], dtype='<U21')"
      ]
     },
     "execution_count": 6,
     "metadata": {},
     "output_type": "execute_result"
    }
   ],
   "source": [
    "blocks = np.repeat(interleaved[:len(counts)], counts); blocks"
   ]
  },
  {
   "cell_type": "code",
   "execution_count": 7,
   "id": "e862aed6-de8a-4dcd-a184-7c608a49e891",
   "metadata": {},
   "outputs": [
    {
     "data": {
      "text/plain": [
       "'00...111...2...333.44.5555.6666.777.888899'"
      ]
     },
     "execution_count": 7,
     "metadata": {},
     "output_type": "execute_result"
    }
   ],
   "source": [
    "''.join(blocks)"
   ]
  },
  {
   "cell_type": "markdown",
   "id": "de4744b2-a5e8-4c26-9435-110fe78f0fbf",
   "metadata": {},
   "source": [
    "#### Apprach 1:"
   ]
  },
  {
   "cell_type": "markdown",
   "id": "4b791e22-3fa7-4b9d-be44-60f17e32d61b",
   "metadata": {},
   "source": [
    "Now we have our file representation we need to actually do the work of defragging"
   ]
  },
  {
   "cell_type": "code",
   "execution_count": 8,
   "id": "25eaab60-da6d-4a84-afd1-62e4a9df9568",
   "metadata": {},
   "outputs": [],
   "source": [
    "def shift_blocks(arr):\n",
    "    while '.' in arr:\n",
    "        value = arr[-1]  # get last element \n",
    "        arr = np.delete(arr, -1)  # remove last element, numpy doesn't have pop()\n",
    "        \n",
    "        dot_index = np.where(arr == '.')[0][0]\n",
    "        arr[dot_index] = value\n",
    "    \n",
    "    return arr\n",
    "        "
   ]
  },
  {
   "cell_type": "code",
   "execution_count": 9,
   "id": "19a20784-c10a-4ed2-9985-3ee4edc2ef09",
   "metadata": {},
   "outputs": [
    {
     "data": {
      "text/plain": [
       "array(['0', '0', '9', '9', '8', '1', '1', '1', '8', '8', '8', '2', '7',\n",
       "       '7', '7', '3', '3', '3', '6', '4', '4', '6', '5', '5', '5', '5',\n",
       "       '6', '6'], dtype='<U21')"
      ]
     },
     "execution_count": 9,
     "metadata": {},
     "output_type": "execute_result"
    }
   ],
   "source": [
    "blocks = shift_blocks(blocks); blocks"
   ]
  },
  {
   "cell_type": "code",
   "execution_count": 10,
   "id": "6951ad4c-42d6-4789-b247-78c305cfdccb",
   "metadata": {},
   "outputs": [
    {
     "data": {
      "text/plain": [
       "np.int64(1928)"
      ]
     },
     "execution_count": 10,
     "metadata": {},
     "output_type": "execute_result"
    }
   ],
   "source": [
    "positions = np.arange(0, len(blocks))\n",
    "checksum = np.sum(positions * blocks.astype(int)); checksum"
   ]
  },
  {
   "cell_type": "markdown",
   "id": "8738140d-ae6c-4d3e-a9a8-2e5707bf0a01",
   "metadata": {},
   "source": [
    "#### Approach 2:"
   ]
  },
  {
   "cell_type": "markdown",
   "id": "38efce60-7584-420f-a490-343c73b804a6",
   "metadata": {},
   "source": [
    "`shift_blocks` isn't efficient for a larger dataset - we can do better"
   ]
  },
  {
   "cell_type": "code",
   "execution_count": 11,
   "id": "334438fa-d0d1-49c0-a543-934b07193d6c",
   "metadata": {},
   "outputs": [],
   "source": [
    "def replace_dots_with_reversed(arr):\n",
    "    # reverse array and remove dots\n",
    "    reversed_array = arr[::-1][arr[::-1] != '.']\n",
    "    # find all indices for dots and replace\n",
    "    dot_indices = np.where(arr == '.')\n",
    "    arr[dot_indices] = reversed_array[:len(arr[dot_indices])]\n",
    "    # num of ints in array should be the same as originally\n",
    "    return arr[:len(reversed_array)]"
   ]
  },
  {
   "cell_type": "code",
   "execution_count": 12,
   "id": "c9c17bae-6160-44eb-8b58-baa62fe1ef9d",
   "metadata": {},
   "outputs": [],
   "source": [
    "test_array = np.array(['1','.','.','2','.','3','4'])"
   ]
  },
  {
   "cell_type": "code",
   "execution_count": 13,
   "id": "6064816f-f529-43f3-b5f2-8464226f924b",
   "metadata": {},
   "outputs": [
    {
     "data": {
      "text/plain": [
       "array(['1', '4', '3', '2'], dtype='<U1')"
      ]
     },
     "execution_count": 13,
     "metadata": {},
     "output_type": "execute_result"
    }
   ],
   "source": [
    "replace_dots_with_reversed(test_array)"
   ]
  },
  {
   "cell_type": "code",
   "execution_count": 14,
   "id": "bb7dfd04-4f95-4f20-8de2-c374a33eb40b",
   "metadata": {},
   "outputs": [
    {
     "data": {
      "text/plain": [
       "array(['0', '0', '9', '9', '8', '1', '1', '1', '8', '8', '8', '2', '7',\n",
       "       '7', '7', '3', '3', '3', '6', '4', '4', '6', '5', '5', '5', '5',\n",
       "       '6', '6'], dtype='<U21')"
      ]
     },
     "execution_count": 14,
     "metadata": {},
     "output_type": "execute_result"
    }
   ],
   "source": [
    "replace_dots_with_reversed(blocks)"
   ]
  },
  {
   "cell_type": "code",
   "execution_count": 15,
   "id": "22f0f53d-d8d4-4b23-9eb1-bd334be47697",
   "metadata": {},
   "outputs": [],
   "source": [
    "data = get_data(day=9, year=2024)"
   ]
  },
  {
   "cell_type": "code",
   "execution_count": 16,
   "id": "760d04f3-4619-47dd-8460-e18cce5192c0",
   "metadata": {},
   "outputs": [],
   "source": [
    "import itertools\n",
    "\n",
    "def calculate(data):\n",
    "    # set up data\n",
    "    counts = np.array(list(data), dtype=int)\n",
    "    file_values = np.arange(0, len(data)//2 + 1)\n",
    "    empty_values = np.full(len(data)//2 + 1, '.')\n",
    "    interleaved = list(itertools.chain(*zip(file_values, empty_values)))\n",
    "    blocks = np.repeat(interleaved[:len(counts)], counts)\n",
    "\n",
    "    # run \"defragger\"\n",
    "    blocks = replace_dots_with_reversed(blocks)\n",
    "    \n",
    "    positions = np.arange(0, len(blocks))\n",
    "    checksum = np.sum(positions * blocks.astype(int))\n",
    "    \n",
    "    return checksum"
   ]
  },
  {
   "cell_type": "code",
   "execution_count": 17,
   "id": "b5c89b46-0cf6-4f0a-a19f-367e550162b9",
   "metadata": {},
   "outputs": [
    {
     "data": {
      "text/plain": [
       "np.int64(6370402949053)"
      ]
     },
     "execution_count": 17,
     "metadata": {},
     "output_type": "execute_result"
    }
   ],
   "source": [
    "calculate(data)"
   ]
  },
  {
   "cell_type": "markdown",
   "id": "d416fe67-9607-4543-895a-eb6728ce6a36",
   "metadata": {},
   "source": [
    "## Part Two"
   ]
  },
  {
   "cell_type": "markdown",
   "id": "b0d0a3cc-6dcc-440c-90a2-ae78e2e0a9bd",
   "metadata": {},
   "source": [
    "The eager amphipod already has a new plan: rather than move individual blocks, he'd like to try compacting the files on his disk by moving whole files instead.\n",
    "\n",
    "This time, attempt to move whole files to the leftmost span of free space blocks that could fit the file. Attempt to move each file exactly once in order of decreasing file ID number starting with the file with the highest file ID number. If there is no span of free space to the left of a file that is large enough to fit the file, the file does not move.\n",
    "\n",
    "Start over, now compacting the amphipod's hard drive using this new method instead. What is the resulting filesystem checksum?\n",
    "\n"
   ]
  },
  {
   "cell_type": "code",
   "execution_count": 18,
   "id": "f56e160e-b67d-404d-98c1-cf705b3dc448",
   "metadata": {},
   "outputs": [],
   "source": [
    "class Block:\n",
    "    b_id: int\n",
    "    length: int\n",
    "    tail: int\n",
    "\n",
    "    def __init__(self, b_id, length, tail):\n",
    "        self.b_id = int(b_id)\n",
    "        self.length = int(length)\n",
    "        self.tail = int(tail)\n",
    "\n",
    "    def __repr__(self):\n",
    "        return f\"{self.b_id}\" * self.length + \".\" * self.tail\n",
    "\n",
    "    def remove_tailspace(self):\n",
    "        \"When a file is placed immediately after this one, the tailspace is removed\"\n",
    "        self.tail = 0\n",
    "\n",
    "    def reduce_tailspace(self, length):\n",
    "        self.tail -= length\n",
    "\n",
    "    def check_sum(self, offset):\n",
    "        end_offset = (offset + self.length) - 1\n",
    "        factor = int(\n",
    "            (\n",
    "                (offset + end_offset)\n",
    "                * ((end_offset - offset) + 1)\n",
    "            ) / 2\n",
    "        )\n",
    "        return int(self.b_id) * factor\n",
    "        "
   ]
  },
  {
   "cell_type": "markdown",
   "id": "cd3fbb3a-3677-4e7b-a472-82e3ea819538",
   "metadata": {},
   "source": [
    "Now use the above to represent our example input:"
   ]
  },
  {
   "cell_type": "code",
   "execution_count": 19,
   "id": "8fdfd66f-8c47-48b3-ab1f-b56f2ee22f4b",
   "metadata": {},
   "outputs": [
    {
     "data": {
      "text/plain": [
       "array([2, 3, 3, 3, 1, 3, 3, 1, 2, 1, 4, 1, 4, 1, 3, 1, 4, 0, 2])"
      ]
     },
     "execution_count": 19,
     "metadata": {},
     "output_type": "execute_result"
    }
   ],
   "source": [
    "counts"
   ]
  },
  {
   "cell_type": "code",
   "execution_count": 20,
   "id": "9cd13aad-082b-431c-860b-26fef2278b53",
   "metadata": {},
   "outputs": [
    {
     "data": {
      "text/plain": [
       "array(['0', '.', '1', '.', '2', '.', '3', '.', '4', '.', '5', '.', '6',\n",
       "       '.', '7', '.', '8', '.', '9', '.'], dtype='<U21')"
      ]
     },
     "execution_count": 20,
     "metadata": {},
     "output_type": "execute_result"
    }
   ],
   "source": [
    "interleaved"
   ]
  },
  {
   "cell_type": "code",
   "execution_count": 21,
   "id": "0a37a6f7-3fa9-4d3f-a2ab-64f7134bd57a",
   "metadata": {},
   "outputs": [],
   "source": [
    "zipped = list(zip(counts, interleaved))\n",
    "\n",
    "files = []\n",
    "# loop through two elements at a time\n",
    "for i in range(0, len(zipped), 2):\n",
    "    file_length, file_val = zipped[i]\n",
    "    space_length, _ = zipped[i + 1] if i + 1 < len(zipped) else (0, None)\n",
    "    files.append(Block(file_val, file_length, space_length))"
   ]
  },
  {
   "cell_type": "code",
   "execution_count": 22,
   "id": "05192de0-26cb-4830-ac6e-f9281b97f191",
   "metadata": {},
   "outputs": [],
   "source": [
    "def defrag_blocks(blocks):\n",
    "    \n",
    "    i = len(blocks) - 1\n",
    "    \n",
    "    while i > 0:\n",
    "        source = blocks[i]\n",
    "        to_move = source.length\n",
    "        \n",
    "        for j in range(i):\n",
    "            dest = blocks[j]\n",
    "            \n",
    "            if dest.tail >= to_move:\n",
    "                moved = Block(source.b_id, to_move, dest.tail - to_move)\n",
    "                blocks.insert(j + 1, moved)\n",
    "                i += 1\n",
    "\n",
    "                dest.remove_tailspace()\n",
    "\n",
    "                del blocks[i]\n",
    "                \n",
    "                blocks[i - 1].tail += source.length + source.tail\n",
    "\n",
    "                break\n",
    "        i -= 1\n",
    "\n",
    "    return blocks"
   ]
  },
  {
   "cell_type": "code",
   "execution_count": 23,
   "id": "33d12a81-7d12-42b2-91d5-d808873085db",
   "metadata": {},
   "outputs": [
    {
     "data": {
      "text/plain": [
       "[00, 99, 2, 111, 777., 44., 333...., 5555., 6666....., 8888..]"
      ]
     },
     "execution_count": 23,
     "metadata": {},
     "output_type": "execute_result"
    }
   ],
   "source": [
    "defrag_blocks(files)"
   ]
  },
  {
   "cell_type": "markdown",
   "id": "8e7cca48-ce88-4002-86c6-e8fcbbafe5ab",
   "metadata": {},
   "source": [
    "'00992111777.44.333....5555.6666.....8888..'"
   ]
  },
  {
   "cell_type": "code",
   "execution_count": 24,
   "id": "67aebfb2-979f-4eb1-9a94-8867281f81fc",
   "metadata": {},
   "outputs": [
    {
     "data": {
      "text/plain": [
       "'00992111777.44.333....5555.6666.....8888..'"
      ]
     },
     "execution_count": 24,
     "metadata": {},
     "output_type": "execute_result"
    }
   ],
   "source": [
    "''.join([str(f) for f in files])"
   ]
  },
  {
   "cell_type": "code",
   "execution_count": 25,
   "id": "15f483cc-3680-425a-991f-032f6a38fff8",
   "metadata": {},
   "outputs": [],
   "source": [
    "def checksum(blocks):\n",
    "    c_sum = 0\n",
    "    offset = 0\n",
    "    for block in blocks:\n",
    "        c_sum += int(block.check_sum(offset))\n",
    "        offset += int(block.length) + int(block.tail)\n",
    "    return c_sum"
   ]
  },
  {
   "cell_type": "code",
   "execution_count": 26,
   "id": "ff15915f-8f48-40a3-b46d-7bde9a3b31d1",
   "metadata": {},
   "outputs": [
    {
     "data": {
      "text/plain": [
       "[00, 99, 2, 111, 777., 44., 333...., 5555., 6666....., 8888..]"
      ]
     },
     "execution_count": 26,
     "metadata": {},
     "output_type": "execute_result"
    }
   ],
   "source": [
    "files"
   ]
  },
  {
   "cell_type": "code",
   "execution_count": 27,
   "id": "b4b12325-4f2c-4373-8f44-1b5f204b20ed",
   "metadata": {},
   "outputs": [
    {
     "data": {
      "text/plain": [
       "2858"
      ]
     },
     "execution_count": 27,
     "metadata": {},
     "output_type": "execute_result"
    }
   ],
   "source": [
    "checksum(files)"
   ]
  },
  {
   "cell_type": "code",
   "execution_count": 29,
   "id": "42dc1b3b-45ec-4da1-b89b-32d3b58cad32",
   "metadata": {},
   "outputs": [],
   "source": [
    "counts = np.array(list(data), dtype=int)\n",
    "file_values = np.arange(0, len(data)//2 + 1)\n",
    "empty_values = np.full(len(data)//2 + 1, '.')\n",
    "interleaved = list(itertools.chain(*zip(file_values, empty_values)))"
   ]
  },
  {
   "cell_type": "code",
   "execution_count": 32,
   "id": "fe4ffc75-84c4-42a3-a085-a3e3cee9a7ff",
   "metadata": {},
   "outputs": [],
   "source": [
    "zipped = list(zip(counts, interleaved))\n",
    "\n",
    "files = []\n",
    "# loop through two elements at a time\n",
    "for i in range(0, len(zipped), 2):\n",
    "    file_length, file_val = zipped[i]\n",
    "    space_length, _ = zipped[i + 1] if i + 1 < len(zipped) else (0, None)\n",
    "    files.append(Block(file_val, file_length, space_length))"
   ]
  },
  {
   "cell_type": "code",
   "execution_count": null,
   "id": "6cab9799-1fc3-4bca-a7cb-762296b54781",
   "metadata": {},
   "outputs": [],
   "source": [
    "defrag_blocks(files)"
   ]
  },
  {
   "cell_type": "code",
   "execution_count": 35,
   "id": "9265de55-f329-4497-acd1-5ff1d7166927",
   "metadata": {},
   "outputs": [
    {
     "data": {
      "text/plain": [
       "6398096697992"
      ]
     },
     "execution_count": 35,
     "metadata": {},
     "output_type": "execute_result"
    }
   ],
   "source": [
    "checksum(files)"
   ]
  }
 ],
 "metadata": {
  "kernelspec": {
   "display_name": "advent2024",
   "language": "python",
   "name": "advent2024"
  },
  "language_info": {
   "codemirror_mode": {
    "name": "ipython",
    "version": 3
   },
   "file_extension": ".py",
   "mimetype": "text/x-python",
   "name": "python",
   "nbconvert_exporter": "python",
   "pygments_lexer": "ipython3",
   "version": "3.11.4"
  }
 },
 "nbformat": 4,
 "nbformat_minor": 5
}
