{
 "cells": [
  {
   "cell_type": "code",
   "execution_count": 1,
   "id": "47711eb0-3f7b-4bbd-8494-a0a7597aa380",
   "metadata": {},
   "outputs": [],
   "source": [
    "from aocd import get_data"
   ]
  },
  {
   "cell_type": "markdown",
   "id": "9e3f5b11-e836-445e-b659-8c302f6f7564",
   "metadata": {},
   "source": [
    "# Day 14: Restroom Redoubt"
   ]
  },
  {
   "cell_type": "markdown",
   "id": "610219a8-fa2b-4bdd-9e89-464e2b76eecd",
   "metadata": {},
   "source": [
    "## Part One"
   ]
  },
  {
   "cell_type": "markdown",
   "id": "8f33132d-7123-4f86-a588-c1df10c575ba",
   "metadata": {},
   "source": [
    "Predict the positions of robots moving within a bounded 2D space. Each robot is defined by:\n",
    "\n",
    "**Position (p):** Starting coordinates (x, y). <br/>\n",
    "**Velocity (v):** Change in coordinates (vx, vy) per second."
   ]
  },
  {
   "cell_type": "markdown",
   "id": "6a04b55a-5ea4-4b24-98d7-04bf4ada3e1f",
   "metadata": {},
   "source": [
    "The space:\n",
    "\n",
    "1. Has defined dimensions (101 x 103 tiles in the real problem, 11 x 7 in the example).\n",
    "2. Wraps around edges (teleporting robots to the opposite side when they reach a boundary).\n",
    "\n",
    "\n",
    "After simulating robot movements for a given time (100 seconds):<br/>\n",
    "  - Divide the space into quadrants (top-left, top-right, bottom-left, bottom-right), excluding robots on the middle lines.<br/>\n",
    "  - Count the number of robots in each quadrant.<br/>\n",
    "  - Calculate the safety factor by multiplying the number of robots in the quadrants.<br/>"
   ]
  },
  {
   "cell_type": "code",
   "execution_count": 28,
   "id": "fc79b0df-7b58-4d33-a8b4-11004a1f8aaa",
   "metadata": {},
   "outputs": [],
   "source": [
    "WIDTH, HEIGHT = 11, 7\n",
    "time = 100"
   ]
  },
  {
   "cell_type": "code",
   "execution_count": 29,
   "id": "84087091-1c1c-4cc9-8185-15a1f8db241a",
   "metadata": {},
   "outputs": [],
   "source": [
    "example_input = \"\"\"\n",
    "p=0,4 v=3,-3\n",
    "p=6,3 v=-1,-3\n",
    "p=10,3 v=-1,2\n",
    "p=2,0 v=2,-1\n",
    "p=0,0 v=1,3\n",
    "p=3,0 v=-2,-2\n",
    "p=7,6 v=-1,-3\n",
    "p=3,0 v=-1,-2\n",
    "p=9,3 v=2,3\n",
    "p=7,3 v=-1,2\n",
    "p=2,4 v=2,-3\n",
    "p=9,5 v=-3,-3\n",
    "\"\"\""
   ]
  },
  {
   "cell_type": "code",
   "execution_count": 30,
   "id": "a67e2161-7244-4e12-a138-5898d606f4e5",
   "metadata": {},
   "outputs": [
    {
     "data": {
      "text/plain": [
       "array([['0,4', '3,-3'],\n",
       "       ['6,3', '-1,-3'],\n",
       "       ['10,3', '-1,2'],\n",
       "       ['2,0', '2,-1'],\n",
       "       ['0,0', '1,3'],\n",
       "       ['3,0', '-2,-2'],\n",
       "       ['7,6', '-1,-3'],\n",
       "       ['3,0', '-1,-2'],\n",
       "       ['9,3', '2,3'],\n",
       "       ['7,3', '-1,2'],\n",
       "       ['2,4', '2,-3'],\n",
       "       ['9,5', '-3,-3']], dtype='<U5')"
      ]
     },
     "execution_count": 30,
     "metadata": {},
     "output_type": "execute_result"
    }
   ],
   "source": [
    "import re\n",
    "import numpy as np\n",
    "\n",
    "line_matcher = r'^p=(\\d{1,3},\\d{1,3}) v=(\\-?\\d{1,3},\\-?\\d{1,3})$'\n",
    "\n",
    "parse_result =  np.array(re.findall(line_matcher, example_input, re.MULTILINE)); parse_result"
   ]
  },
  {
   "cell_type": "code",
   "execution_count": 31,
   "id": "ae9c4a75-bd30-4ddf-bd40-d52cd25299a4",
   "metadata": {},
   "outputs": [],
   "source": [
    "positions = np.array([x.split(',') for x in parse_result[:, 0]], dtype=int)\n",
    "velocities = np.array([y.split(',') for y in parse_result[:, 1]], dtype=int)"
   ]
  },
  {
   "cell_type": "code",
   "execution_count": 32,
   "id": "120dd236-cd48-4b3a-a254-9745e347289b",
   "metadata": {},
   "outputs": [
    {
     "data": {
      "text/plain": [
       "array([[3, 5],\n",
       "       [5, 4],\n",
       "       [9, 0],\n",
       "       [4, 5],\n",
       "       [1, 6],\n",
       "       [1, 3],\n",
       "       [6, 0],\n",
       "       [2, 3],\n",
       "       [0, 2],\n",
       "       [6, 0],\n",
       "       [4, 5],\n",
       "       [6, 6]])"
      ]
     },
     "execution_count": 32,
     "metadata": {},
     "output_type": "execute_result"
    }
   ],
   "source": [
    "coords = (positions + (velocities * time)) % [WIDTH, HEIGHT]; coords"
   ]
  },
  {
   "cell_type": "code",
   "execution_count": 33,
   "id": "a07c2d77-83a3-4e54-82bc-67b7b3cd2d3b",
   "metadata": {},
   "outputs": [],
   "source": [
    "mid_x, mid_y = WIDTH // 2, HEIGHT // 2\n",
    "\n",
    "# quadrant counts\n",
    "top_left = np.sum((coords[:, 0] < mid_x) & (coords[:, 1] < mid_y))\n",
    "top_right = np.sum((coords[:, 0] > mid_x) & (coords[:, 1] < mid_y))\n",
    "bottom_left = np.sum((coords[:, 0] < mid_x) & (coords[:, 1] > mid_y))\n",
    "bottom_right = np.sum((coords[:, 0] > mid_x) & (coords[:, 1] > mid_y))\n"
   ]
  },
  {
   "cell_type": "code",
   "execution_count": 34,
   "id": "14177b45-54ee-4b8a-9a1c-b8d7b853335b",
   "metadata": {},
   "outputs": [
    {
     "data": {
      "text/plain": [
       "array([[9, 0],\n",
       "       [6, 0],\n",
       "       [6, 0]])"
      ]
     },
     "execution_count": 34,
     "metadata": {},
     "output_type": "execute_result"
    }
   ],
   "source": [
    "coords[(coords[:, 0] > mid_x) & (coords[:, 1] < mid_y)]"
   ]
  },
  {
   "cell_type": "code",
   "execution_count": 35,
   "id": "5ee8364e-9c85-4cf1-8fc3-a3cef5ab465a",
   "metadata": {},
   "outputs": [
    {
     "name": "stdout",
     "output_type": "stream",
     "text": [
      "Top-left: 1\n",
      "Top-right: 3\n",
      "Bottom-left: 4\n",
      "Bottom-right: 1\n"
     ]
    }
   ],
   "source": [
    "print(\"Top-left:\", top_left)\n",
    "print(\"Top-right:\", top_right)\n",
    "print(\"Bottom-left:\", bottom_left)\n",
    "print(\"Bottom-right:\", bottom_right)"
   ]
  },
  {
   "cell_type": "code",
   "execution_count": 36,
   "id": "26531dbe-4970-4734-b426-0fb2fd6e0b1c",
   "metadata": {},
   "outputs": [
    {
     "data": {
      "text/plain": [
       "np.int64(12)"
      ]
     },
     "execution_count": 36,
     "metadata": {},
     "output_type": "execute_result"
    }
   ],
   "source": [
    "safety_factor = top_left * top_right * bottom_left * bottom_right; safety_factor"
   ]
  },
  {
   "cell_type": "code",
   "execution_count": 37,
   "id": "25ebf2ae-d891-49d8-90df-31c4a3734ce9",
   "metadata": {},
   "outputs": [],
   "source": [
    "data = get_data(day=14, year=2024)"
   ]
  },
  {
   "cell_type": "code",
   "execution_count": 38,
   "id": "9839c757-71be-48dc-ab38-ace0d82f745b",
   "metadata": {},
   "outputs": [
    {
     "data": {
      "text/plain": [
       "500"
      ]
     },
     "execution_count": 38,
     "metadata": {},
     "output_type": "execute_result"
    }
   ],
   "source": [
    "len(data.splitlines())"
   ]
  },
  {
   "cell_type": "code",
   "execution_count": 42,
   "id": "3ae53070-fb5b-4d8f-840e-743de2350e7f",
   "metadata": {},
   "outputs": [
    {
     "data": {
      "text/plain": [
       "500"
      ]
     },
     "execution_count": 42,
     "metadata": {},
     "output_type": "execute_result"
    }
   ],
   "source": [
    "len(coords)"
   ]
  },
  {
   "cell_type": "code",
   "execution_count": 43,
   "id": "2fba2ff9-ce5e-4072-b2a3-121c5e51be64",
   "metadata": {},
   "outputs": [
    {
     "data": {
      "text/plain": [
       "50"
      ]
     },
     "execution_count": 43,
     "metadata": {},
     "output_type": "execute_result"
    }
   ],
   "source": [
    "mid_y"
   ]
  },
  {
   "cell_type": "code",
   "execution_count": 41,
   "id": "ce4fc2c1-2209-4c71-9785-d02791118403",
   "metadata": {},
   "outputs": [
    {
     "name": "stdout",
     "output_type": "stream",
     "text": [
      "Top-left: 138\n",
      "Top-right: 129\n",
      "Bottom-left: 108\n",
      "Bottom-right: 118\n"
     ]
    }
   ],
   "source": [
    "WIDTH, HEIGHT = 103, 101\n",
    "\n",
    "parse_result =  np.array(re.findall(line_matcher, data, re.MULTILINE))\n",
    "positions = np.array([x.split(',') for x in parse_result[:, 0]], dtype=int)\n",
    "velocities = np.array([y.split(',') for y in parse_result[:, 1]], dtype=int)\n",
    "\n",
    "coords = (positions + (velocities * time)) % [WIDTH, HEIGHT]\n",
    "\n",
    "mid_x, mid_y = WIDTH // 2, HEIGHT // 2\n",
    "\n",
    "# quadrant counts\n",
    "top_left = np.sum((coords[:, 0] < mid_x) & (coords[:, 1] < mid_y))\n",
    "top_right = np.sum((coords[:, 0] > mid_x) & (coords[:, 1] < mid_y))\n",
    "bottom_left = np.sum((coords[:, 0] < mid_x) & (coords[:, 1] > mid_y))\n",
    "bottom_right = np.sum((coords[:, 0] > mid_x) & (coords[:, 1] > mid_y))\n",
    "\n",
    "print(\"Top-left:\", top_left)\n",
    "print(\"Top-right:\", top_right)\n",
    "print(\"Bottom-left:\", bottom_left)\n",
    "print(\"Bottom-right:\", bottom_right)"
   ]
  },
  {
   "cell_type": "code",
   "execution_count": 44,
   "id": "7ff6d056-4f99-4b96-ae02-c231f4a74e53",
   "metadata": {},
   "outputs": [
    {
     "data": {
      "text/plain": [
       "226868688"
      ]
     },
     "execution_count": 44,
     "metadata": {},
     "output_type": "execute_result"
    }
   ],
   "source": [
    "safety_factor = top_left * top_right * bottom_left * bottom_right; int(safety_factor)"
   ]
  },
  {
   "cell_type": "markdown",
   "id": "eaff94aa-3b17-470a-a1e2-195c7fe76e1c",
   "metadata": {},
   "source": [
    "Too high: 226868688"
   ]
  },
  {
   "cell_type": "code",
   "execution_count": null,
   "id": "6bbf350d-4241-484b-9319-ac277feecfbf",
   "metadata": {},
   "outputs": [],
   "source": []
  }
 ],
 "metadata": {
  "kernelspec": {
   "display_name": "advent2024",
   "language": "python",
   "name": "advent2024"
  },
  "language_info": {
   "codemirror_mode": {
    "name": "ipython",
    "version": 3
   },
   "file_extension": ".py",
   "mimetype": "text/x-python",
   "name": "python",
   "nbconvert_exporter": "python",
   "pygments_lexer": "ipython3",
   "version": "3.11.4"
  }
 },
 "nbformat": 4,
 "nbformat_minor": 5
}
