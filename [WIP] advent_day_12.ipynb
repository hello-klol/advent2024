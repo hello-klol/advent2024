{
 "cells": [
  {
   "cell_type": "markdown",
   "id": "118dd416-8b3a-4669-8435-1948f04ae37b",
   "metadata": {},
   "source": [
    "# Day 12: Garden Groups"
   ]
  },
  {
   "cell_type": "markdown",
   "id": "cb5586c0-0a8c-4665-a884-3a1018160db4",
   "metadata": {},
   "source": [
    "## Part One"
   ]
  },
  {
   "cell_type": "markdown",
   "id": "67a1aaf1-dbae-456d-a29e-693f94448f5b",
   "metadata": {},
   "source": [
    "The goal of this problem is to determine the total price of fencing regions in a garden plot map. Each region is a group of contiguous (horizontally or vertically connected) garden plots of the same type.\n",
    "\n",
    "For each region:\n",
    "\n",
    "1. Area is the number of plots in the region.\n",
    "2. Perimeter is the number of sides of the plots on the region's boundary that are not adjacent to other plots of the same type.\n",
    "3. The price of fencing a region is given by:<br/>\n",
    "`Price = Area × Perimeter`<br/>\n",
    "4. The total price is the sum of the prices for all regions in the garden plot map.\n"
   ]
  },
  {
   "cell_type": "markdown",
   "id": "a7e716d8-7f71-414a-9d80-8dab41f4aa33",
   "metadata": {},
   "source": [
    "Steps:\n",
    "\n",
    "1. Identify Regions:<br/>\n",
    "  a. Traverse the garden plot map to identify contiguous regions of the same plant type.<br/>\n",
    "  b. Use DFS (Depth-First Search) or BFS (Breadth-First Search) to explore and mark each region.<br/>\n",
    "\n",
    "2. Calculate Area:<br/>\n",
    "  a. For each region, count the number of garden plots (this is the area).<br/>\n",
    "\n",
    "3. Calculate Perimeter:<br/>\n",
    "  a. For each plot in a region, check its neighbors.<br/>\n",
    "  b. If a side of the plot touches the boundary of the map or a different plant type, it contributes to the perimeter.<br/>\n",
    "\n",
    "4. Calculate Total Price:<br/>\n",
    "  a. For each region, calculate the price (area × perimeter).<br/>\n",
    "  b. Sum up the prices of all regions.<br/>"
   ]
  },
  {
   "cell_type": "code",
   "execution_count": 1,
   "id": "6f13161a-f9c7-4a87-80e1-3d5ed756683a",
   "metadata": {},
   "outputs": [],
   "source": [
    "import numpy as np"
   ]
  },
  {
   "cell_type": "code",
   "execution_count": 2,
   "id": "505af099-5b91-4a9e-879a-12dfd5a36913",
   "metadata": {},
   "outputs": [],
   "source": [
    "def is_in_bounds(cell, grid):\n",
    "    row, col = cell\n",
    "    rows, cols = grid.shape\n",
    "    return 0 <= row < rows and 0 <= col < cols"
   ]
  },
  {
   "cell_type": "code",
   "execution_count": 3,
   "id": "06e4c984-f649-4c13-8729-b2e70576cd5e",
   "metadata": {},
   "outputs": [],
   "source": [
    "directions = [(-1, 0), (1, 0), (0, -1), (0, 1)]\n",
    "\n",
    "def get_neighbours(cell, grid):\n",
    "    \"\"\"\n",
    "    Return the adjacent cells (up, down, left, right) for a given cell\n",
    "    \"\"\"\n",
    "    row, col = cell\n",
    "\n",
    "    neighbours = []\n",
    "    for dr, dc in directions:\n",
    "        new_cell = (row + dr, col + dc)\n",
    "        if is_in_bounds(new_cell, grid):\n",
    "            neighbours.append(new_cell)\n",
    "\n",
    "    return neighbours"
   ]
  },
  {
   "cell_type": "code",
   "execution_count": 4,
   "id": "5b7fee93-517f-4653-be8f-ded311d1122c",
   "metadata": {},
   "outputs": [],
   "source": [
    "def explore_region(grid, start_cell, visited):\n",
    "    \"\"\"\n",
    "    Use depth-first search to find all connected cells of the same plant type\n",
    "    Keep track of visited cells to avoid revisiting\n",
    "    \"\"\"\n",
    "    stack = [start_cell]\n",
    "    region = []\n",
    "    plant_type = grid[start_cell]\n",
    "\n",
    "    while not stack:  # while stack not empty\n",
    "        current = stack.pop()\n",
    "        if current not in visited:\n",
    "            visited.add(current)\n",
    "            region.append(current)\n",
    "            for neighbor in get_neighbors(current, grid):\n",
    "                if is_in_bounds(neighbor, grid) and grid[neighbor] == plant_type:\n",
    "                    stack.append(neighbor)\n",
    "\n",
    "    return region"
   ]
  },
  {
   "cell_type": "code",
   "execution_count": 5,
   "id": "855e6bf2-9e13-4e61-96f0-31d956f13c6b",
   "metadata": {},
   "outputs": [],
   "source": [
    "def calculate_perimeter(grid, region_cells):\n",
    "    \"\"\"\n",
    "    For each cell in a region, check its neighbouring sides\n",
    "    Increase the perimeter count if the side touches the boundary or a different plant type\n",
    "    \"\"\"\n",
    "    perimeter = 0\n",
    "    \n",
    "    for cell in region_cells:\n",
    "        region_type = grid[cell]\n",
    "        for neighbour in get_neighbours(cell, grid):\n",
    "            if grid[neighbour] != region_type:\n",
    "                perimeter += 1\n",
    "\n",
    "        rows, cols = grid.shape\n",
    "        \n",
    "    return perimeter"
   ]
  },
  {
   "cell_type": "code",
   "execution_count": 6,
   "id": "3aa0ba08-a4d7-401b-9bd6-008af6aeb80d",
   "metadata": {},
   "outputs": [],
   "source": [
    "def calculate_total_fencing_price(grid):\n",
    "    \"\"\"\n",
    "    Loop through each cell in the garden map\n",
    "    Use explore_region to identify regions and their areas\n",
    "    Calculate the perimeter for each region and computes the price\n",
    "    Sum up the total price for all regions\n",
    "    \"\"\"\n",
    "    visited = set()\n",
    "    total_price = 0\n",
    "\n",
    "    for cell in np.ndindex(grid.shape):\n",
    "        if cell not in visited:\n",
    "            region_cells = explore_region(grid, cell, visited)\n",
    "            area = len(region_cells)\n",
    "            perimeter = calculate_perimeter(grid, region_cells)\n",
    "            price = area * perimeter\n",
    "            total_price += price\n",
    "\n",
    "    return total_price"
   ]
  },
  {
   "cell_type": "code",
   "execution_count": 7,
   "id": "5e061df9-1d20-4cec-8fe5-d48c83cb56d9",
   "metadata": {},
   "outputs": [],
   "source": [
    "example_input = \"\"\"\n",
    "AAAA\n",
    "BBCD\n",
    "BBCC\n",
    "EEEC\n",
    "\"\"\""
   ]
  },
  {
   "cell_type": "code",
   "execution_count": 8,
   "id": "75165a78-f9b1-4a6e-9452-a135d6f35018",
   "metadata": {},
   "outputs": [
    {
     "data": {
      "text/plain": [
       "array([['A', 'A', 'A', 'A'],\n",
       "       ['B', 'B', 'C', 'D'],\n",
       "       ['B', 'B', 'C', 'C'],\n",
       "       ['E', 'E', 'E', 'C']], dtype='<U1')"
      ]
     },
     "execution_count": 8,
     "metadata": {},
     "output_type": "execute_result"
    }
   ],
   "source": [
    "lines = example_input.strip().split('\\n')\n",
    "matrix = np.array([list(line) for line in lines]); matrix"
   ]
  },
  {
   "cell_type": "code",
   "execution_count": 9,
   "id": "8fc478b7-59f0-45fc-8ac8-3cd4c1107d81",
   "metadata": {},
   "outputs": [
    {
     "data": {
      "text/plain": [
       "0"
      ]
     },
     "execution_count": 9,
     "metadata": {},
     "output_type": "execute_result"
    }
   ],
   "source": [
    "calculate_total_fencing_price(matrix)"
   ]
  },
  {
   "cell_type": "code",
   "execution_count": null,
   "id": "8bf6d6c2-d383-4a69-8745-d402ea6a3155",
   "metadata": {},
   "outputs": [],
   "source": []
  }
 ],
 "metadata": {
  "kernelspec": {
   "display_name": "advent2024",
   "language": "python",
   "name": "advent2024"
  },
  "language_info": {
   "codemirror_mode": {
    "name": "ipython",
    "version": 3
   },
   "file_extension": ".py",
   "mimetype": "text/x-python",
   "name": "python",
   "nbconvert_exporter": "python",
   "pygments_lexer": "ipython3",
   "version": "3.11.4"
  }
 },
 "nbformat": 4,
 "nbformat_minor": 5
}
