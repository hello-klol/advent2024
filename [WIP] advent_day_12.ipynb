{
 "cells": [
  {
   "cell_type": "code",
   "execution_count": 1,
   "id": "88cb0df6-e292-4bf9-bcc5-c0e238f8b828",
   "metadata": {},
   "outputs": [],
   "source": [
    "from aocd import get_data"
   ]
  },
  {
   "cell_type": "markdown",
   "id": "118dd416-8b3a-4669-8435-1948f04ae37b",
   "metadata": {},
   "source": [
    "# Day 12: Garden Groups"
   ]
  },
  {
   "cell_type": "markdown",
   "id": "cb5586c0-0a8c-4665-a884-3a1018160db4",
   "metadata": {},
   "source": [
    "## Part One"
   ]
  },
  {
   "cell_type": "markdown",
   "id": "67a1aaf1-dbae-456d-a29e-693f94448f5b",
   "metadata": {},
   "source": [
    "The goal of this problem is to determine the total price of fencing regions in a garden plot map. Each region is a group of contiguous (horizontally or vertically connected) garden plots of the same type.\n",
    "\n",
    "For each region:\n",
    "\n",
    "1. Area is the number of plots in the region.\n",
    "2. Perimeter is the number of sides of the plots on the region's boundary that are not adjacent to other plots of the same type.\n",
    "3. The price of fencing a region is given by:<br/>\n",
    "`Price = Area × Perimeter`<br/>\n",
    "4. The total price is the sum of the prices for all regions in the garden plot map.\n"
   ]
  },
  {
   "cell_type": "markdown",
   "id": "a7e716d8-7f71-414a-9d80-8dab41f4aa33",
   "metadata": {},
   "source": [
    "Steps:\n",
    "\n",
    "1. Identify Regions:<br/>\n",
    "  a. Traverse the garden plot map to identify contiguous regions of the same plant type.<br/>\n",
    "  b. Use DFS (Depth-First Search) or BFS (Breadth-First Search) to explore and mark each region.<br/>\n",
    "\n",
    "2. Calculate Area:<br/>\n",
    "  a. For each region, count the number of garden plots (this is the area).<br/>\n",
    "\n",
    "3. Calculate Perimeter:<br/>\n",
    "  a. For each plot in a region, check its neighbors.<br/>\n",
    "  b. If a side of the plot touches the boundary of the map or a different plant type, it contributes to the perimeter.<br/>\n",
    "\n",
    "4. Calculate Total Price:<br/>\n",
    "  a. For each region, calculate the price (area × perimeter).<br/>\n",
    "  b. Sum up the prices of all regions.<br/>"
   ]
  },
  {
   "cell_type": "code",
   "execution_count": 2,
   "id": "6f13161a-f9c7-4a87-80e1-3d5ed756683a",
   "metadata": {},
   "outputs": [],
   "source": [
    "import numpy as np"
   ]
  },
  {
   "cell_type": "code",
   "execution_count": 3,
   "id": "505af099-5b91-4a9e-879a-12dfd5a36913",
   "metadata": {},
   "outputs": [],
   "source": [
    "def is_in_bounds(cell, grid):\n",
    "    row, col = cell\n",
    "    rows, cols = grid.shape\n",
    "    return 0 <= row < rows and 0 <= col < cols"
   ]
  },
  {
   "cell_type": "code",
   "execution_count": 4,
   "id": "06e4c984-f649-4c13-8729-b2e70576cd5e",
   "metadata": {},
   "outputs": [],
   "source": [
    "directions = [(-1, 0), (1, 0), (0, -1), (0, 1)]\n",
    "\n",
    "def get_neighbours(cell, grid, directions=directions, include_edges=False):\n",
    "    \"\"\"\n",
    "    Return the adjacent cells (up, down, left, right) for a given cell\n",
    "    \"\"\"\n",
    "    row, col = cell\n",
    "\n",
    "    neighbours = []\n",
    "    for dr, dc in directions:\n",
    "        new_cell = (row + dr, col + dc)\n",
    "        if is_in_bounds(new_cell, grid):\n",
    "            neighbours.append(new_cell)\n",
    "        elif include_edges:\n",
    "            # if it's the edge return empty cell\n",
    "            neighbours.append((-1, -1))\n",
    "\n",
    "    return neighbours"
   ]
  },
  {
   "cell_type": "code",
   "execution_count": 5,
   "id": "8fb10ccf-eb1f-4b94-b49b-7569db949f51",
   "metadata": {},
   "outputs": [],
   "source": [
    "def is_empty(cell):\n",
    "    return -1 in cell"
   ]
  },
  {
   "cell_type": "code",
   "execution_count": 6,
   "id": "5b7fee93-517f-4653-be8f-ded311d1122c",
   "metadata": {},
   "outputs": [],
   "source": [
    "def explore_region(grid, start_cell, visited, verbose=False):\n",
    "    \"\"\"\n",
    "    Use depth-first search to find all connected cells of the same plant type\n",
    "    Keep track of visited cells to avoid revisiting\n",
    "    \"\"\"\n",
    "    stack = [start_cell]\n",
    "    region = []\n",
    "    plant_type = grid[start_cell]\n",
    "    if verbose:\n",
    "        print(f\"Exploring region {plant_type}...\")\n",
    "    \n",
    "    while stack:  # while stack not empty\n",
    "        current = stack.pop()\n",
    "        if current not in visited:\n",
    "            visited.add(current)\n",
    "            region.append(current)\n",
    "            for neighbour in get_neighbours(current, grid):\n",
    "                if grid[neighbour] == plant_type:\n",
    "                    stack.append(neighbour)\n",
    "\n",
    "    return region, visited"
   ]
  },
  {
   "cell_type": "code",
   "execution_count": 7,
   "id": "855e6bf2-9e13-4e61-96f0-31d956f13c6b",
   "metadata": {},
   "outputs": [],
   "source": [
    "def calculate_perimeter(grid, region_cells):\n",
    "    \"\"\"\n",
    "    For each cell in a region, check its neighbouring sides\n",
    "    Increase the perimeter count if the side touches the boundary or a different plant type\n",
    "    \"\"\"\n",
    "    perimeter = 0\n",
    "    \n",
    "    for cell in region_cells:\n",
    "        region_type = grid[cell]\n",
    "        # get neighbours doesn't return anything if we're at the edge of the grid\n",
    "        for neighbour in get_neighbours(cell, grid, include_edges=True):\n",
    "            if is_empty(neighbour):\n",
    "                perimeter += 1\n",
    "            elif grid[neighbour] != region_type:\n",
    "                perimeter += 1\n",
    "\n",
    "        rows, cols = grid.shape\n",
    "        \n",
    "    return perimeter"
   ]
  },
  {
   "cell_type": "code",
   "execution_count": 8,
   "id": "3aa0ba08-a4d7-401b-9bd6-008af6aeb80d",
   "metadata": {},
   "outputs": [],
   "source": [
    "def calculate_total_fencing_price(grid, verbose=False):\n",
    "    \"\"\"\n",
    "    Loop through each cell in the garden map\n",
    "    Use explore_region to identify regions and their areas\n",
    "    Calculate the perimeter for each region and compute the price\n",
    "    Sum up the total price for all regions\n",
    "    \"\"\"\n",
    "    visited = set()\n",
    "    total_price = 0\n",
    "\n",
    "    for cell in np.ndindex(grid.shape):\n",
    "        if cell not in visited:\n",
    "            region_cells, visited = explore_region(grid, cell, visited, verbose)\n",
    "            if verbose:\n",
    "                print(f\"{region_cells=}\")\n",
    "            area = len(region_cells)\n",
    "            perimeter = calculate_perimeter(grid, region_cells)\n",
    "            if verbose:\n",
    "                print(f\"{perimeter=}\")\n",
    "            price = area * perimeter\n",
    "            total_price += price\n",
    "\n",
    "    return total_price"
   ]
  },
  {
   "cell_type": "code",
   "execution_count": 9,
   "id": "5e061df9-1d20-4cec-8fe5-d48c83cb56d9",
   "metadata": {},
   "outputs": [],
   "source": [
    "example_input = \"\"\"\n",
    "AAAA\n",
    "BBCD\n",
    "BBCC\n",
    "EEEC\n",
    "\"\"\""
   ]
  },
  {
   "cell_type": "code",
   "execution_count": 10,
   "id": "75165a78-f9b1-4a6e-9452-a135d6f35018",
   "metadata": {},
   "outputs": [
    {
     "data": {
      "text/plain": [
       "array([['A', 'A', 'A', 'A'],\n",
       "       ['B', 'B', 'C', 'D'],\n",
       "       ['B', 'B', 'C', 'C'],\n",
       "       ['E', 'E', 'E', 'C']], dtype='<U1')"
      ]
     },
     "execution_count": 10,
     "metadata": {},
     "output_type": "execute_result"
    }
   ],
   "source": [
    "lines = example_input.strip().split('\\n')\n",
    "matrix = np.array([list(line) for line in lines]); matrix"
   ]
  },
  {
   "cell_type": "code",
   "execution_count": 11,
   "id": "8fc478b7-59f0-45fc-8ac8-3cd4c1107d81",
   "metadata": {},
   "outputs": [
    {
     "name": "stdout",
     "output_type": "stream",
     "text": [
      "Exploring region A...\n",
      "region_cells=[(0, 0), (0, 1), (0, 2), (0, 3)]\n",
      "perimeter=10\n",
      "Exploring region B...\n",
      "region_cells=[(1, 0), (1, 1), (2, 1), (2, 0)]\n",
      "perimeter=8\n",
      "Exploring region C...\n",
      "region_cells=[(1, 2), (2, 2), (2, 3), (3, 3)]\n",
      "perimeter=10\n",
      "Exploring region D...\n",
      "region_cells=[(1, 3)]\n",
      "perimeter=4\n",
      "Exploring region E...\n",
      "region_cells=[(3, 0), (3, 1), (3, 2)]\n",
      "perimeter=8\n"
     ]
    },
    {
     "data": {
      "text/plain": [
       "140"
      ]
     },
     "execution_count": 11,
     "metadata": {},
     "output_type": "execute_result"
    }
   ],
   "source": [
    "calculate_total_fencing_price(matrix, verbose=True)"
   ]
  },
  {
   "cell_type": "code",
   "execution_count": 12,
   "id": "8bf6d6c2-d383-4a69-8745-d402ea6a3155",
   "metadata": {},
   "outputs": [],
   "source": [
    "example_input_2 = \"\"\"\n",
    "OOOOO\n",
    "OXOXO\n",
    "OOOOO\n",
    "OXOXO\n",
    "OOOOO\n",
    "\"\"\""
   ]
  },
  {
   "cell_type": "code",
   "execution_count": 13,
   "id": "f095bfa4-7410-4f4e-9102-e98aaa6d571d",
   "metadata": {},
   "outputs": [
    {
     "data": {
      "text/plain": [
       "array([['O', 'O', 'O', 'O', 'O'],\n",
       "       ['O', 'X', 'O', 'X', 'O'],\n",
       "       ['O', 'O', 'O', 'O', 'O'],\n",
       "       ['O', 'X', 'O', 'X', 'O'],\n",
       "       ['O', 'O', 'O', 'O', 'O']], dtype='<U1')"
      ]
     },
     "execution_count": 13,
     "metadata": {},
     "output_type": "execute_result"
    }
   ],
   "source": [
    "lines = example_input_2.strip().split('\\n')\n",
    "matrix = np.array([list(line) for line in lines]); matrix"
   ]
  },
  {
   "cell_type": "code",
   "execution_count": 14,
   "id": "f77659b0-521b-4245-a377-564f34d19155",
   "metadata": {},
   "outputs": [
    {
     "name": "stdout",
     "output_type": "stream",
     "text": [
      "Exploring region O...\n",
      "region_cells=[(0, 0), (0, 1), (0, 2), (0, 3), (0, 4), (1, 4), (2, 4), (2, 3), (2, 2), (2, 1), (2, 0), (3, 0), (4, 0), (4, 1), (4, 2), (4, 3), (4, 4), (3, 4), (3, 2), (1, 0), (1, 2)]\n",
      "perimeter=36\n",
      "Exploring region X...\n",
      "region_cells=[(1, 1)]\n",
      "perimeter=4\n",
      "Exploring region X...\n",
      "region_cells=[(1, 3)]\n",
      "perimeter=4\n",
      "Exploring region X...\n",
      "region_cells=[(3, 1)]\n",
      "perimeter=4\n",
      "Exploring region X...\n",
      "region_cells=[(3, 3)]\n",
      "perimeter=4\n"
     ]
    },
    {
     "data": {
      "text/plain": [
       "772"
      ]
     },
     "execution_count": 14,
     "metadata": {},
     "output_type": "execute_result"
    }
   ],
   "source": [
    "calculate_total_fencing_price(matrix, verbose=True)"
   ]
  },
  {
   "cell_type": "code",
   "execution_count": 15,
   "id": "a552e82b-f518-458b-af3f-1ba55035c002",
   "metadata": {},
   "outputs": [],
   "source": [
    "data = get_data(day=12, year=2024)"
   ]
  },
  {
   "cell_type": "code",
   "execution_count": 16,
   "id": "2185d4bd-ae4d-4019-a760-ca4f3ccff8a0",
   "metadata": {},
   "outputs": [
    {
     "data": {
      "text/plain": [
       "array([['U', 'U', 'U', ..., 'J', 'J', 'J'],\n",
       "       ['U', 'U', 'K', ..., 'J', 'J', 'J'],\n",
       "       ['U', 'U', 'K', ..., 'J', 'J', 'J'],\n",
       "       ...,\n",
       "       ['S', 'S', 'S', ..., 'H', 'H', 'H'],\n",
       "       ['S', 'S', 'E', ..., 'H', 'H', 'H'],\n",
       "       ['S', 'S', 'S', ..., 'H', 'H', 'H']], dtype='<U1')"
      ]
     },
     "execution_count": 16,
     "metadata": {},
     "output_type": "execute_result"
    }
   ],
   "source": [
    "lines = data.strip().split('\\n')\n",
    "matrix = np.array([list(line) for line in lines]); matrix"
   ]
  },
  {
   "cell_type": "code",
   "execution_count": 17,
   "id": "8afda1ef-7ba4-484b-b262-47a50f4b550c",
   "metadata": {},
   "outputs": [
    {
     "data": {
      "text/plain": [
       "1363484"
      ]
     },
     "execution_count": 17,
     "metadata": {},
     "output_type": "execute_result"
    }
   ],
   "source": [
    "calculate_total_fencing_price(matrix, verbose=False)"
   ]
  },
  {
   "cell_type": "markdown",
   "id": "84c9da72-6bba-42fe-b2b4-34e2b68f04f4",
   "metadata": {},
   "source": [
    "## Part Two"
   ]
  },
  {
   "cell_type": "markdown",
   "id": "b63835ea-279b-4eca-9b6b-1eda8d852581",
   "metadata": {},
   "source": [
    "With the new addition of \"bulk pricing\", the price for fencing a region is calculated as:\n",
    "`Price = Area × Number of Sides`\n",
    "\n",
    "So we need a new function to calculate the number of sides in a region."
   ]
  },
  {
   "cell_type": "code",
   "execution_count": 80,
   "id": "3ad69dae-c549-4d6e-b37a-1433065cf147",
   "metadata": {},
   "outputs": [],
   "source": [
    "def region_sides(region_cells):\n",
    "    region = np.array(region_cells)\n",
    "    print(region)\n",
    "    edges = 0\n",
    "    \n",
    "    for r in set(region[:, 0]):\n",
    "        print(f\"{r=}\")\n",
    "        rows = region[region[:, 0] == r]\n",
    "        edges += find_consecutive_groups(rows[:, 1])\n",
    "\n",
    "    for c in set(region[:, 1]):\n",
    "        print(f\"{c=}\")\n",
    "        cols = region[region[:, 1] == c]\n",
    "        edges += find_consecutive_groups(cols[:, 0])\n",
    "            \n",
    "    return edges\n",
    "    \n",
    "\n",
    "def find_consecutive_groups(arr):\n",
    "    print(f\"{arr=}\")\n",
    "    groups = []\n",
    "    current_group = [arr[0]]\n",
    "\n",
    "    for i in range(1, len(arr)):\n",
    "        if arr[i] == arr[i - 1] + 1:\n",
    "            current_group.append(arr[i])\n",
    "        else:\n",
    "            groups.append(current_group)\n",
    "            current_group = [arr[i]]\n",
    "\n",
    "    groups.append(current_group)\n",
    "    \n",
    "    return len(groups)"
   ]
  },
  {
   "cell_type": "code",
   "execution_count": 81,
   "id": "cc9d775e-fe94-4184-bb7d-e75da268df6b",
   "metadata": {},
   "outputs": [],
   "source": [
    "def calculate_bulk_pricing_fencing_price(grid, verbose=False):\n",
    "    \"\"\"\n",
    "    Loop through each cell in the garden map\n",
    "    Use explore_region to identify regions and their areas\n",
    "    Calculate the *num unique sides* for each region and compute the price\n",
    "    Sum up the total price for all regions\n",
    "    \"\"\"\n",
    "    visited = set()\n",
    "    total_price = 0\n",
    "\n",
    "    for cell in np.ndindex(grid.shape):\n",
    "        if cell not in visited:\n",
    "            region_cells, visited = explore_region(grid, cell, visited)\n",
    "            if verbose:\n",
    "                print(f\"{region_cells=}\")\n",
    "            area = len(region_cells)\n",
    "            unique_sides = region_sides(region_cells)\n",
    "            if verbose:\n",
    "                print(f\"{unique_sides=}\")\n",
    "            price = area * unique_sides\n",
    "            total_price += price\n",
    "\n",
    "    return total_price"
   ]
  },
  {
   "cell_type": "code",
   "execution_count": 82,
   "id": "f39d72b8-f6cf-428f-ba9a-615229258344",
   "metadata": {},
   "outputs": [
    {
     "data": {
      "text/plain": [
       "array([['A', 'A', 'A', 'A'],\n",
       "       ['B', 'B', 'C', 'D'],\n",
       "       ['B', 'B', 'C', 'C'],\n",
       "       ['E', 'E', 'E', 'C']], dtype='<U1')"
      ]
     },
     "execution_count": 82,
     "metadata": {},
     "output_type": "execute_result"
    }
   ],
   "source": [
    "lines = example_input.strip().split('\\n')\n",
    "matrix = np.array([list(line) for line in lines]); matrix"
   ]
  },
  {
   "cell_type": "code",
   "execution_count": 83,
   "id": "bce3c0db-3627-434e-90f3-0332b2966e58",
   "metadata": {},
   "outputs": [
    {
     "name": "stdout",
     "output_type": "stream",
     "text": [
      "region_cells=[(0, 0), (0, 1), (0, 2), (0, 3)]\n",
      "[[0 0]\n",
      " [0 1]\n",
      " [0 2]\n",
      " [0 3]]\n",
      "r=np.int64(0)\n",
      "arr=array([0, 1, 2, 3])\n",
      "c=np.int64(0)\n",
      "arr=array([0])\n",
      "c=np.int64(1)\n",
      "arr=array([0])\n",
      "c=np.int64(2)\n",
      "arr=array([0])\n",
      "c=np.int64(3)\n",
      "arr=array([0])\n",
      "unique_sides=5\n",
      "region_cells=[(1, 0), (1, 1), (2, 1), (2, 0)]\n",
      "[[1 0]\n",
      " [1 1]\n",
      " [2 1]\n",
      " [2 0]]\n",
      "r=np.int64(1)\n",
      "arr=array([0, 1])\n",
      "r=np.int64(2)\n",
      "arr=array([1, 0])\n",
      "c=np.int64(0)\n",
      "arr=array([1, 2])\n",
      "c=np.int64(1)\n",
      "arr=array([1, 2])\n",
      "unique_sides=5\n",
      "region_cells=[(1, 2), (2, 2), (2, 3), (3, 3)]\n",
      "[[1 2]\n",
      " [2 2]\n",
      " [2 3]\n",
      " [3 3]]\n",
      "r=np.int64(1)\n",
      "arr=array([2])\n",
      "r=np.int64(2)\n",
      "arr=array([2, 3])\n",
      "r=np.int64(3)\n",
      "arr=array([3])\n",
      "c=np.int64(2)\n",
      "arr=array([1, 2])\n",
      "c=np.int64(3)\n",
      "arr=array([2, 3])\n",
      "unique_sides=5\n",
      "region_cells=[(1, 3)]\n",
      "[[1 3]]\n",
      "r=np.int64(1)\n",
      "arr=array([3])\n",
      "c=np.int64(3)\n",
      "arr=array([1])\n",
      "unique_sides=2\n",
      "region_cells=[(3, 0), (3, 1), (3, 2)]\n",
      "[[3 0]\n",
      " [3 1]\n",
      " [3 2]]\n",
      "r=np.int64(3)\n",
      "arr=array([0, 1, 2])\n",
      "c=np.int64(0)\n",
      "arr=array([3])\n",
      "c=np.int64(1)\n",
      "arr=array([3])\n",
      "c=np.int64(2)\n",
      "arr=array([3])\n",
      "unique_sides=4\n"
     ]
    },
    {
     "data": {
      "text/plain": [
       "74"
      ]
     },
     "execution_count": 83,
     "metadata": {},
     "output_type": "execute_result"
    }
   ],
   "source": [
    "calculate_bulk_pricing_fencing_price(matrix, verbose=True)"
   ]
  },
  {
   "cell_type": "code",
   "execution_count": null,
   "id": "1d6d7630-624f-40ca-bf78-ca00d719ab1e",
   "metadata": {},
   "outputs": [],
   "source": []
  },
  {
   "cell_type": "code",
   "execution_count": null,
   "id": "edadad0a-eaa9-493a-8eeb-d9e906588416",
   "metadata": {},
   "outputs": [],
   "source": []
  }
 ],
 "metadata": {
  "kernelspec": {
   "display_name": "advent2024",
   "language": "python",
   "name": "advent2024"
  },
  "language_info": {
   "codemirror_mode": {
    "name": "ipython",
    "version": 3
   },
   "file_extension": ".py",
   "mimetype": "text/x-python",
   "name": "python",
   "nbconvert_exporter": "python",
   "pygments_lexer": "ipython3",
   "version": "3.11.4"
  }
 },
 "nbformat": 4,
 "nbformat_minor": 5
}
