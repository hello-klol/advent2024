{
 "cells": [
  {
   "cell_type": "code",
   "execution_count": 1,
   "id": "c7bc8387-4c64-4af9-a1a1-3ed9891820a8",
   "metadata": {},
   "outputs": [],
   "source": [
    "from aocd import get_data"
   ]
  },
  {
   "cell_type": "markdown",
   "id": "db8d26b9-fb49-4afa-af25-9025eb5c6dde",
   "metadata": {},
   "source": [
    "# Day 13: Claw Contraption"
   ]
  },
  {
   "cell_type": "markdown",
   "id": "43806ea6-fc59-4cd0-8b96-bc285964ff21",
   "metadata": {},
   "source": [
    "# Part One"
   ]
  },
  {
   "cell_type": "markdown",
   "id": "4fbbe876-db16-4012-aaee-7f594b95d736",
   "metadata": {},
   "source": [
    "Determine the fewest tokens required to win as many prizes as possible across all machines.\n",
    "\n",
    "Each machine has two buttons (A and B), with specific movements along the X and Y axes. Button A costs 3 tokens and Button B costs 1 token.\n",
    "\n",
    "We need to solve for two equations:\n",
    "\n",
    "1. **X-axis Equation**: $$A_x \\cdot A + B_x \\cdot B = P_x$$\n",
    "2. **Y-axis Equation**: $$A_y \\cdot A + B_y \\cdot B = P_y$$\n",
    "\n",
    "For each machine, check if there exist integer values for A and B that satisfy both equations, (i.e. iterate over possible values of A and checking if the corresponding B values satisfy the second equation).\n",
    "\n",
    "If a solution exists, calculate the total cost 3A+B.\n",
    "\n",
    "Track the Minimum Cost and Maximum Prizes\n",
    "\n",
    "We have a couple of constraints:\n",
    "1. Each button can be pressed no more than 100 times.\n",
    "2. If no solution exists for a machine, it's not possible to win the prize there."
   ]
  },
  {
   "cell_type": "code",
   "execution_count": 2,
   "id": "91dec9b9-9004-4454-84fb-bcecd8ed05eb",
   "metadata": {},
   "outputs": [],
   "source": [
    "example_input = \"\"\"\n",
    "Button A: X+94, Y+34\n",
    "Button B: X+22, Y+67\n",
    "Prize: X=8400, Y=5400\n",
    "\n",
    "Button A: X+26, Y+66\n",
    "Button B: X+67, Y+21\n",
    "Prize: X=12748, Y=12176\n",
    "\n",
    "Button A: X+17, Y+86\n",
    "Button B: X+84, Y+37\n",
    "Prize: X=7870, Y=6450\n",
    "\n",
    "Button A: X+69, Y+23\n",
    "Button B: X+27, Y+71\n",
    "Prize: X=18641, Y=10279\n",
    "\"\"\""
   ]
  },
  {
   "cell_type": "code",
   "execution_count": 3,
   "id": "de7f2df0-b647-4961-aaf1-409c6074ca88",
   "metadata": {},
   "outputs": [],
   "source": [
    "def parse_input(input_text):\n",
    "    machines = []\n",
    "    blocks = input_text.strip().split(\"\\n\\n\")\n",
    "    \n",
    "    for block in blocks:\n",
    "        lines = block.strip().split(\"\\n\")\n",
    "        \n",
    "        Ax, Ay = map(int, lines[0].split(\": \")[1].replace(\"X+\", \"\").replace(\"Y+\", \"\").split(\", \"))\n",
    "        Bx, By = map(int, lines[1].split(\": \")[1].replace(\"X+\", \"\").replace(\"Y+\", \"\").split(\", \"))\n",
    "        Px, Py = map(int, lines[2].split(\": \")[1].replace(\"X=\", \"\").replace(\"Y=\", \"\").split(\", \"))\n",
    "        \n",
    "        machines.append(((Ax, Ay), (Bx, By), (Px, Py)))\n",
    "    \n",
    "    return machines"
   ]
  },
  {
   "cell_type": "code",
   "execution_count": 5,
   "id": "c31b39f9-f43f-491c-ad5d-b51a01d628a8",
   "metadata": {},
   "outputs": [
    {
     "data": {
      "text/plain": [
       "[((94, 34), (22, 67), (8400, 5400)),\n",
       " ((26, 66), (67, 21), (12748, 12176)),\n",
       " ((17, 86), (84, 37), (7870, 6450)),\n",
       " ((69, 23), (27, 71), (18641, 10279))]"
      ]
     },
     "execution_count": 5,
     "metadata": {},
     "output_type": "execute_result"
    }
   ],
   "source": [
    "parse_input(example_input)"
   ]
  },
  {
   "cell_type": "code",
   "execution_count": 6,
   "id": "9627d329-0a7f-4375-bf38-329df9eece9f",
   "metadata": {},
   "outputs": [],
   "source": [
    "def find_min_tokens(Ax, Ay, Bx, By, Px, Py, max_presses=100):\n",
    "    min_cost = float('inf')\n",
    "    \n",
    "    for a in range(max_presses + 1):\n",
    "        for b in range(max_presses + 1):\n",
    "            if a * Ax + b * Bx == Px and a * Ay + b * By == Py:\n",
    "                cost = 3 * a + b\n",
    "                min_cost = min(min_cost, cost)\n",
    "    \n",
    "    return min_cost if min_cost != float('inf') else None"
   ]
  },
  {
   "cell_type": "code",
   "execution_count": 7,
   "id": "a6f4a7bc-d6ad-47b7-acaa-35aca4487df9",
   "metadata": {},
   "outputs": [],
   "source": [
    "def solve(input_text):\n",
    "    machines = parse_input(input_text)\n",
    "    total_cost = 0\n",
    "    prizes_won = 0\n",
    "    \n",
    "    for (Ax, Ay), (Bx, By), (Px, Py) in machines:\n",
    "        cost = find_min_tokens(Ax, Ay, Bx, By, Px, Py)\n",
    "        if cost is not None:\n",
    "            prizes_won += 1\n",
    "            total_cost += cost\n",
    "    \n",
    "    return prizes_won, total_cost\n"
   ]
  },
  {
   "cell_type": "code",
   "execution_count": 8,
   "id": "1eb887e8-d0c3-469c-a06a-2ca03008710b",
   "metadata": {},
   "outputs": [
    {
     "name": "stdout",
     "output_type": "stream",
     "text": [
      "Prizes Won: 2\n",
      "Total Minimum Cost: 480\n"
     ]
    }
   ],
   "source": [
    "prizes_won, total_cost = solve(example_input)\n",
    "print(f\"Prizes Won: {prizes_won}\")\n",
    "print(f\"Total Minimum Cost: {total_cost}\")"
   ]
  },
  {
   "cell_type": "code",
   "execution_count": 9,
   "id": "b6688042-444c-42e1-b311-629c5d511809",
   "metadata": {},
   "outputs": [],
   "source": [
    "data = get_data(day=13, year=2024)"
   ]
  },
  {
   "cell_type": "code",
   "execution_count": 10,
   "id": "0cee034c-6efc-4aff-b6df-394a4e3b3dbd",
   "metadata": {},
   "outputs": [
    {
     "name": "stdout",
     "output_type": "stream",
     "text": [
      "Prizes Won: 177\n",
      "Total Minimum Cost: 36954\n"
     ]
    }
   ],
   "source": [
    "prizes_won, total_cost = solve(data)\n",
    "print(f\"Prizes Won: {prizes_won}\")\n",
    "print(f\"Total Minimum Cost: {total_cost}\")"
   ]
  },
  {
   "cell_type": "markdown",
   "id": "3488b569-88bd-4e3c-9cfb-72c54f09ea16",
   "metadata": {},
   "source": [
    "## Part Two"
   ]
  },
  {
   "cell_type": "code",
   "execution_count": null,
   "id": "bef6afd2-a1e3-41b0-bad0-54a0dd73b3da",
   "metadata": {},
   "outputs": [],
   "source": []
  }
 ],
 "metadata": {
  "kernelspec": {
   "display_name": "advent2024",
   "language": "python",
   "name": "advent2024"
  },
  "language_info": {
   "codemirror_mode": {
    "name": "ipython",
    "version": 3
   },
   "file_extension": ".py",
   "mimetype": "text/x-python",
   "name": "python",
   "nbconvert_exporter": "python",
   "pygments_lexer": "ipython3",
   "version": "3.11.4"
  }
 },
 "nbformat": 4,
 "nbformat_minor": 5
}
