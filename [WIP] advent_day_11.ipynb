{
 "cells": [
  {
   "cell_type": "code",
   "execution_count": 1,
   "id": "a296ebd0-30f1-48ae-a6cd-91d96b090d91",
   "metadata": {},
   "outputs": [],
   "source": [
    "from aocd import get_data"
   ]
  },
  {
   "cell_type": "markdown",
   "id": "3168c83d-ca57-4482-be78-174087e4aa65",
   "metadata": {},
   "source": [
    "# Day 11: Plutonian Pebbles"
   ]
  },
  {
   "cell_type": "markdown",
   "id": "c6d29fae-fbf1-4099-be3a-197f144d599a",
   "metadata": {},
   "source": [
    "## Part One"
   ]
  },
  {
   "cell_type": "markdown",
   "id": "23756299-730d-4c68-937f-0d1c5ac33700",
   "metadata": {},
   "source": [
    "Given a sequence of numbers (stones) arranged in a line. Each number evolves simultaneously with each blink based on a set of rules. The goal is to determine how many stones there will be after 25 blinks.\n",
    "\n",
    "The rules for evolving each stone are:\n",
    "\n",
    "**Rule 1:** If the stone is 0, replace it with 1.<br/>\n",
    "**Rule 2:** If the stone’s number has an even number of digits, split it into two stones: the left half and the right half of the digits.<br/>\n",
    "**Rule 3:** If none of the other rules apply, multiply the stone's number by 2024 and replace the stone with the result.\n",
    "\n",
    "The challenge is to apply these rules iteratively for 25 blinks and count the total number of stones after each blink."
   ]
  },
  {
   "cell_type": "markdown",
   "id": "0760305d-6d66-4b09-be38-99ec107f132e",
   "metadata": {},
   "source": [
    "Solution\n",
    "1. Start with an initial list of numbers (stones).\n",
    "2. For each blink (iteration), apply the transformation rules to each stone simultaneously.\n",
    "3. Expand the list of stones based on the transformation rules:<br/>\n",
    "  a. If the stone is 0, replace it with 1.<br/>\n",
    "  b. If the stone has an even number of digits, split it into two stones.<br/>\n",
    "  c. Otherwise, multiply the number by 2024.<br/>\n",
    "4. Repeat the process for 25 blinks.\n",
    "5. After 25 iterations, count the number of stones."
   ]
  },
  {
   "cell_type": "code",
   "execution_count": 2,
   "id": "16f8312a-c7b3-4789-b6df-bc29b7fbeec5",
   "metadata": {},
   "outputs": [],
   "source": [
    "def evolve_stones(stones, blinks):\n",
    "    for _ in range(blinks):\n",
    "        \n",
    "        # we build a new list of stones each time\n",
    "        new_stones = []  \n",
    "        for stone in stones:\n",
    "            \n",
    "            if stone == 0:\n",
    "                new_stones.append(1)  \n",
    "            \n",
    "            elif len(str(stone)) % 2 == 0:\n",
    "                digits = str(stone)\n",
    "                mid = len(digits) // 2\n",
    "                left_part = int(digits[:mid])\n",
    "                right_part = int(digits[mid:])\n",
    "                new_stones.extend([left_part, right_part])\n",
    "            \n",
    "            else:\n",
    "                new_stones.append(stone * 2024)\n",
    "\n",
    "        stones = new_stones\n",
    "\n",
    "    return len(stones)"
   ]
  },
  {
   "cell_type": "code",
   "execution_count": 3,
   "id": "d180d401-b555-4a13-adeb-91dd8e6ace90",
   "metadata": {},
   "outputs": [
    {
     "data": {
      "text/plain": [
       "55312"
      ]
     },
     "execution_count": 3,
     "metadata": {},
     "output_type": "execute_result"
    }
   ],
   "source": [
    "initial_stones = [125, 17]\n",
    "blinks = 25\n",
    "evolve_stones(initial_stones, blinks)"
   ]
  },
  {
   "cell_type": "code",
   "execution_count": 4,
   "id": "83fbc9d7-b990-4d18-bef1-542c74e6efa0",
   "metadata": {},
   "outputs": [
    {
     "data": {
      "text/plain": [
       "'7568 155731 0 972 1 6919238 80646 22'"
      ]
     },
     "execution_count": 4,
     "metadata": {},
     "output_type": "execute_result"
    }
   ],
   "source": [
    "data = get_data(day=11, year=2024); data"
   ]
  },
  {
   "cell_type": "code",
   "execution_count": 5,
   "id": "98f8c385-e999-47bc-b4c3-ea1e1df557a1",
   "metadata": {},
   "outputs": [],
   "source": [
    "import numpy as np\n",
    "initial_stones = np.array(data.split(' '), dtype=int)"
   ]
  },
  {
   "cell_type": "code",
   "execution_count": 6,
   "id": "2f270767-5d10-4cb4-ba77-67d783187f28",
   "metadata": {},
   "outputs": [
    {
     "data": {
      "text/plain": [
       "186424"
      ]
     },
     "execution_count": 6,
     "metadata": {},
     "output_type": "execute_result"
    }
   ],
   "source": [
    "blinks = 25\n",
    "evolve_stones(initial_stones, blinks)"
   ]
  },
  {
   "cell_type": "markdown",
   "id": "db9a2273-2d6c-4c2c-b0fd-cf03f27956c4",
   "metadata": {},
   "source": [
    "## Part Two"
   ]
  },
  {
   "cell_type": "markdown",
   "id": "d9463184-899c-4c18-9d9c-bc3f697e5990",
   "metadata": {},
   "source": [
    "How many stones would you have after blinking a total of 75 times?"
   ]
  },
  {
   "cell_type": "markdown",
   "id": "9f847166-b3be-48c3-9c92-eaa6904a5bfd",
   "metadata": {},
   "source": [
    "This list will expand quickly, let's see if we can make the evaluation faster by using vectorised mapping"
   ]
  },
  {
   "cell_type": "code",
   "execution_count": 7,
   "id": "5d8d018e-8a24-4eca-a310-822fda1300bd",
   "metadata": {},
   "outputs": [],
   "source": [
    "def evolve_stones(stones, blinks):\n",
    "    stones = np.array(stones, dtype=object) \n",
    "\n",
    "    for _ in range(blinks):\n",
    "        \n",
    "        def transform(stone):\n",
    "            if stone == 0:\n",
    "                return [1]\n",
    "            elif len(str(stone)) % 2 == 0:\n",
    "                digits = str(stone)\n",
    "                mid = len(digits) // 2\n",
    "                return [int(digits[:mid]), int(digits[mid:])]\n",
    "            else:\n",
    "                return [stone * 2024]\n",
    "        \n",
    "        # flatten using np.concatenate\n",
    "        stones = np.concatenate(list(map(transform, stones)))\n",
    "\n",
    "    return len(stones)"
   ]
  },
  {
   "cell_type": "code",
   "execution_count": null,
   "id": "fd37f7d7-a078-4712-b66d-dfc3e00de9c2",
   "metadata": {},
   "outputs": [],
   "source": [
    "blinks = 75\n",
    "evolve_stones(initial_stones, blinks)"
   ]
  },
  {
   "cell_type": "markdown",
   "id": "b418b458-ec34-4609-add6-283aee0aafcc",
   "metadata": {},
   "source": [
    "It takes too long and crashes D:"
   ]
  }
 ],
 "metadata": {
  "kernelspec": {
   "display_name": "advent2024",
   "language": "python",
   "name": "advent2024"
  },
  "language_info": {
   "codemirror_mode": {
    "name": "ipython",
    "version": 3
   },
   "file_extension": ".py",
   "mimetype": "text/x-python",
   "name": "python",
   "nbconvert_exporter": "python",
   "pygments_lexer": "ipython3",
   "version": "3.11.4"
  }
 },
 "nbformat": 4,
 "nbformat_minor": 5
}
