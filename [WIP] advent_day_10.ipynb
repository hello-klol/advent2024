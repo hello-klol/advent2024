{
 "cells": [
  {
   "cell_type": "code",
   "execution_count": 44,
   "id": "1e280ced-7d69-4b61-80e3-664a19b7ebb3",
   "metadata": {},
   "outputs": [],
   "source": [
    "from aocd import get_data"
   ]
  },
  {
   "cell_type": "markdown",
   "id": "e98ebcca-3d54-4def-b73e-997a5e8867eb",
   "metadata": {},
   "source": [
    "# Day 10: Hoof It"
   ]
  },
  {
   "cell_type": "markdown",
   "id": "99529ea8-32a6-4367-8839-eb3251815c71",
   "metadata": {},
   "source": [
    "## Part One"
   ]
  },
  {
   "cell_type": "markdown",
   "id": "84cc9004-f1d5-4407-8fb3-de54680a22db",
   "metadata": {},
   "source": [
    "A map shows the height at each position, with values ranging from 0 (lowest) to 9 (highest). \n",
    "Fill in hiking trails that start at height 0 and end at height 9, always increasing by exactly 1 at each step (no diagonal movement allowed).\n",
    "\n",
    "**Key Elements:**\n",
    "- **Trailhead:** Any position with height 0 that can start a hiking trail\n",
    "- **Validity:** Starts at height 0, ends at height 9, and increases by exactly 1 at each step (up, down, left, or right)\n",
    "- **Trailhead Score:** The number of positions with height 9 that are reachable via a hiking trail\n",
    "\n",
    "**Steps:**\n",
    "1. **Identify Trailheads:** Find all positions with height 0 (trailheads)\n",
    "2. **Trace Hiking Trails:** From each trailhead, trace valid hiking trails that only increase by 1 and do not allow diagonal steps\n",
    "3. **Calculate Scores:** For each trailhead, calculate how many 9-height positions are reachable\n",
    "4. **Sum of Scores:** Sum the scores of all trailheads to find the final answer\n",
    "\n",
    "\n",
    "**Challenge:**\n",
    "Implement an algorithm to find and trace these hiking trails from each trailhead and compute the sum of the trailhead scores.\n",
    "\n",
    "\n",
    "\n",
    "\n",
    "\n"
   ]
  },
  {
   "cell_type": "markdown",
   "id": "dfcb20ba-8d0f-41a7-8ad4-fcafa531527f",
   "metadata": {},
   "source": [
    "This trailhead has a score of 2:\n",
    "```\n",
    "...0...\n",
    "...1...\n",
    "...2...\n",
    "6543456\n",
    "7.....7\n",
    "8.....8\n",
    "9.....9\n",
    "```\n",
    "The positions marked `.` are impassable tiles to simplify this example; they do not appear on your actual topographic map."
   ]
  },
  {
   "cell_type": "markdown",
   "id": "3b37b176-a72c-4148-9007-567794c4f7b8",
   "metadata": {},
   "source": [
    "Here's a larger example:"
   ]
  },
  {
   "cell_type": "code",
   "execution_count": 1,
   "id": "89f2cef3-0c77-410b-8313-cc3f1cb059ba",
   "metadata": {},
   "outputs": [],
   "source": [
    "example_input = \"\"\"\n",
    "89010123\n",
    "78121874\n",
    "87430965\n",
    "96549874\n",
    "45678903\n",
    "32019012\n",
    "01329801\n",
    "10456732\n",
    "\"\"\""
   ]
  },
  {
   "cell_type": "markdown",
   "id": "cd6491d9-c888-4bc4-9c2a-c78c430638b2",
   "metadata": {},
   "source": [
    "This larger example has **9** trailheads.<br/>\n",
    "Considering the trailheads in reading order, they have scores of 5, 6, 5, 3, 1, 3, 5, 3, and 5. <br/>\n",
    "Adding these scores together, the sum of the scores of all trailheads is **36**."
   ]
  },
  {
   "cell_type": "code",
   "execution_count": 5,
   "id": "09891d8f-2ea0-48c1-a84e-e6493421ae4b",
   "metadata": {},
   "outputs": [],
   "source": [
    "import numpy as np"
   ]
  },
  {
   "cell_type": "code",
   "execution_count": 12,
   "id": "51ea3944-717b-4bf2-a25f-b5f2315f2139",
   "metadata": {},
   "outputs": [],
   "source": [
    "from collections import deque"
   ]
  },
  {
   "cell_type": "code",
   "execution_count": 25,
   "id": "bff6a53b-f0f3-414c-8dde-ed35be92bb35",
   "metadata": {},
   "outputs": [
    {
     "data": {
      "text/plain": [
       "array([[8, 9, 0, 1, 0, 1, 2, 3],\n",
       "       [7, 8, 1, 2, 1, 8, 7, 4],\n",
       "       [8, 7, 4, 3, 0, 9, 6, 5],\n",
       "       [9, 6, 5, 4, 9, 8, 7, 4],\n",
       "       [4, 5, 6, 7, 8, 9, 0, 3],\n",
       "       [3, 2, 0, 1, 9, 0, 1, 2],\n",
       "       [0, 1, 3, 2, 9, 8, 0, 1],\n",
       "       [1, 0, 4, 5, 6, 7, 3, 2]])"
      ]
     },
     "execution_count": 25,
     "metadata": {},
     "output_type": "execute_result"
    }
   ],
   "source": [
    "example_map = np.array([list(line) for line in example_input.strip().split(\"\\n\")], dtype=int); example_map"
   ]
  },
  {
   "cell_type": "code",
   "execution_count": 33,
   "id": "546f2eed-164e-4c0b-ba74-a40079e7cb0d",
   "metadata": {},
   "outputs": [
    {
     "data": {
      "text/plain": [
       "array([[0, 2],\n",
       "       [0, 4],\n",
       "       [2, 4],\n",
       "       [4, 6],\n",
       "       [5, 2],\n",
       "       [5, 5],\n",
       "       [6, 0],\n",
       "       [6, 6],\n",
       "       [7, 1]])"
      ]
     },
     "execution_count": 33,
     "metadata": {},
     "output_type": "execute_result"
    }
   ],
   "source": [
    "start_positions = np.argwhere(example_map==0); start_positions"
   ]
  },
  {
   "cell_type": "code",
   "execution_count": 34,
   "id": "68158da2-a935-4d26-9cf1-3a8f698def53",
   "metadata": {},
   "outputs": [],
   "source": [
    "valid_moves = [(-1, 0),(0, 1),(1, 0),(0, -1)]"
   ]
  },
  {
   "cell_type": "code",
   "execution_count": 35,
   "id": "5cd69bf8-3fa1-462a-90b5-53afacb4d26c",
   "metadata": {},
   "outputs": [],
   "source": [
    "def is_within_bounds(pos, grid):\n",
    "    return 0 <= pos[0] < len(grid) and 0 <= pos[1] < len(grid[0])\n",
    "    "
   ]
  },
  {
   "cell_type": "code",
   "execution_count": 60,
   "id": "87710611-f246-4b90-9ae4-3d5164cdd5e9",
   "metadata": {},
   "outputs": [],
   "source": [
    "def breadth_first_search(map_grid, start_x, start_y):\n",
    "\n",
    "    queue = deque([(start_x, start_y)]) \n",
    "    visited = set([(start_x, start_y)])\n",
    "    reachable_9s = 0\n",
    "\n",
    "    while queue:\n",
    "        x, y = queue.popleft()\n",
    "\n",
    "        if map_grid[x][y] == 9:\n",
    "            reachable_9s += 1\n",
    "\n",
    "        # explore\n",
    "        for dx, dy in valid_moves:\n",
    "            nx, ny = x + dx, y + dy\n",
    "            if is_within_bounds((nx, ny), map_grid) and (nx, ny) not in visited:\n",
    "                \n",
    "                if map_grid[nx][ny] == map_grid[x][y] + 1:  # is increment by 1 (what we're looking for)\n",
    "                    visited.add((nx, ny))\n",
    "                    queue.append((nx, ny))\n",
    "\n",
    "    return reachable_9s\n",
    "\n",
    "def solve_topographic_map(map_grid):\n",
    "    total_score = 0\n",
    "\n",
    "    start_positions = np.argwhere(map_grid==0)\n",
    "    for i, j in start_positions:\n",
    "        score = breadth_first_search(map_grid, i, j)\n",
    "        total_score += score\n",
    "\n",
    "    return total_score"
   ]
  },
  {
   "cell_type": "code",
   "execution_count": 61,
   "id": "e983fde4-a9cb-45b5-87bc-c2a87e65c5be",
   "metadata": {},
   "outputs": [
    {
     "name": "stdout",
     "output_type": "stream",
     "text": [
      "Sum of all trailhead scores: 36\n"
     ]
    }
   ],
   "source": [
    "result = solve_topographic_map(example_map)\n",
    "print(f\"Sum of all trailhead scores: {result}\")"
   ]
  },
  {
   "cell_type": "code",
   "execution_count": 62,
   "id": "95a88489-5276-45aa-8f72-e756a399766d",
   "metadata": {},
   "outputs": [],
   "source": [
    "data = get_data(day=10, year=2024)"
   ]
  },
  {
   "cell_type": "code",
   "execution_count": 63,
   "id": "3391fa5b-8a90-47d7-940b-0d9763cb98da",
   "metadata": {},
   "outputs": [],
   "source": [
    "t_map = np.array([list(map(int, row)) for row in data.splitlines()], dtype=int)"
   ]
  },
  {
   "cell_type": "code",
   "execution_count": 64,
   "id": "fedd7234-db9f-4506-8d37-bf0660bb98c3",
   "metadata": {},
   "outputs": [
    {
     "data": {
      "text/plain": [
       "(57, 57)"
      ]
     },
     "execution_count": 64,
     "metadata": {},
     "output_type": "execute_result"
    }
   ],
   "source": [
    "t_map.shape"
   ]
  },
  {
   "cell_type": "code",
   "execution_count": 66,
   "id": "a26ab4eb-6d5e-4cfa-9bd9-306a9e5b1e79",
   "metadata": {},
   "outputs": [
    {
     "name": "stdout",
     "output_type": "stream",
     "text": [
      "Sum of all trailhead scores: 782\n"
     ]
    }
   ],
   "source": [
    "print(f\"Sum of all trailhead scores: {solve_topographic_map(t_map)}\")"
   ]
  },
  {
   "cell_type": "markdown",
   "id": "9d0653e2-0e77-43a1-87f3-9669c7f3e0e8",
   "metadata": {},
   "source": [
    "## Part Two"
   ]
  },
  {
   "cell_type": "markdown",
   "id": "32d7937d-6fa6-4ab7-8ff6-e5aba308743d",
   "metadata": {},
   "source": [
    "There is a second way to measure a trailhead called its rating. A trailhead's rating is the number of distinct hiking trails which begin at that trailhead."
   ]
  },
  {
   "cell_type": "code",
   "execution_count": null,
   "id": "f3bbc0ac-fada-4a49-ae53-32678f777fa4",
   "metadata": {},
   "outputs": [],
   "source": []
  }
 ],
 "metadata": {
  "kernelspec": {
   "display_name": "advent2024",
   "language": "python",
   "name": "advent2024"
  },
  "language_info": {
   "codemirror_mode": {
    "name": "ipython",
    "version": 3
   },
   "file_extension": ".py",
   "mimetype": "text/x-python",
   "name": "python",
   "nbconvert_exporter": "python",
   "pygments_lexer": "ipython3",
   "version": "3.11.4"
  }
 },
 "nbformat": 4,
 "nbformat_minor": 5
}
