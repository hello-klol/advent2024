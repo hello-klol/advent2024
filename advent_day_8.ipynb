{
 "cells": [
  {
   "cell_type": "code",
   "execution_count": null,
   "id": "7f033049-70e8-4940-a246-2fa7b5c9e5c8",
   "metadata": {},
   "outputs": [],
   "source": [
    "from aocd import get_data"
   ]
  },
  {
   "cell_type": "markdown",
   "id": "412abc47-82e8-4200-84e5-1a669a2e4075",
   "metadata": {},
   "source": [
    "# Day 8: Resonant Collinearity"
   ]
  },
  {
   "cell_type": "markdown",
   "id": "60a895b2-43cd-439e-9ad2-e4d6614f4f43",
   "metadata": {},
   "source": [
    "## Part One"
   ]
  },
  {
   "cell_type": "markdown",
   "id": "325b1089-f09d-42c6-b529-b463450feeca",
   "metadata": {},
   "source": [
    "Given a 2D grid representing antennas with specific frequencies (letters, digits), identify locations called \"antinodes\" where signals resonate.\n",
    "\n",
    "Rules for Antinodes:\n",
    "\n",
    "**Same Frequency:** Two antennas must have the same frequency for there to be antinodes\n",
    "\n",
    "**Collinearity:** The antennas and antinodes lie on a straight line\n",
    "\n",
    "**Resonance Condition:** One antenna must be twice as far from the antinode as the other\n",
    "\n",
    "**Antinode Count:** Each valid antenna pair generates two antinodes (one on each side)\n",
    "\n",
    "**Objective:** Count the unique antinode locations within the grid bounds"
   ]
  },
  {
   "cell_type": "code",
   "execution_count": null,
   "id": "c0e3bde3-d082-48fa-b6b5-df2906037e54",
   "metadata": {},
   "outputs": [],
   "source": [
    "example_input = \"\"\"\n",
    "............\n",
    "........0...\n",
    ".....0......\n",
    ".......0....\n",
    "....0.......\n",
    "......A.....\n",
    "............\n",
    "............\n",
    "........A...\n",
    ".........A..\n",
    "............\n",
    "............\n",
    "\"\"\""
   ]
  },
  {
   "cell_type": "code",
   "execution_count": null,
   "id": "ba9c6872-ddd1-43c6-b70d-0a79ab39fe76",
   "metadata": {},
   "outputs": [],
   "source": [
    "import numpy as np\n",
    "\n",
    "example_grid = np.array([list(line) for line in example_input.strip().split(\"\\n\")]); example_grid"
   ]
  },
  {
   "cell_type": "code",
   "execution_count": null,
   "id": "2f64c419-f425-4194-b66f-f8ccf1c7d577",
   "metadata": {},
   "outputs": [],
   "source": [
    "example_grid.shape"
   ]
  },
  {
   "cell_type": "markdown",
   "id": "6f8b70fd-8eac-4d9a-a33e-be2d374ee3bc",
   "metadata": {},
   "source": [
    "Identify the positions of all antennae with their corresponding \"frequency\" values"
   ]
  },
  {
   "cell_type": "code",
   "execution_count": null,
   "id": "04f7ac42-96bb-4754-9f82-cd3c475b4502",
   "metadata": {},
   "outputs": [],
   "source": [
    "def parse_grid(grid):\n",
    "\n",
    "    # boolean mask for alphanumeric elements\n",
    "    mask = np.char.isalnum(grid)\n",
    "    \n",
    "    positions = np.argwhere(mask).astype(np.int64)\n",
    "    antenna_values = grid[mask]\n",
    "\n",
    "    # can't use np.column_stack because it would turn `positions` into strings to match `antenna_values` type\n",
    "    # so here's a workaround\n",
    "    antennae = np.empty((positions.shape[0], 3), dtype=object)\n",
    "    antennae[:, :2] = positions\n",
    "    antennae[:, 2] = antenna_values\n",
    "    \n",
    "    return antennae"
   ]
  },
  {
   "cell_type": "code",
   "execution_count": null,
   "id": "b7e17c8b-98ec-4fd9-a12f-7e21fbfab8e9",
   "metadata": {},
   "outputs": [],
   "source": [
    "antennae = parse_grid(example_grid); antennae"
   ]
  },
  {
   "cell_type": "markdown",
   "id": "dc978bdb-81eb-483d-9c56-b060c43ddd0e",
   "metadata": {},
   "source": [
    "- Loop through all possible pairs of antennas that have the same frequency\n",
    "- For each pair, find the potential antinode locations such that one antenna is twice as far from the antinode as the other\n",
    "- Ensure that the calculated antinode locations are within the bounds of the map\n",
    "- Use a `set` to store and deduplicate the valid antinode locations\n",
    "- Return the number of unique locations stored in the set"
   ]
  },
  {
   "cell_type": "markdown",
   "id": "2fa679d8-0bd7-4e3e-a19c-347271f9d41d",
   "metadata": {},
   "source": [
    "#### First Approach"
   ]
  },
  {
   "cell_type": "code",
   "execution_count": null,
   "id": "153d3430-8260-41be-b41e-6d7f2d32a2ff",
   "metadata": {},
   "outputs": [],
   "source": [
    "def within_bounds(node, grid):\n",
    "    rows, cols = grid.shape\n",
    "    return 0 <= node[0] < rows and 0 <= node[1] < cols"
   ]
  },
  {
   "cell_type": "code",
   "execution_count": null,
   "id": "656e3ad8-4577-4bc3-ac14-25cd71d35592",
   "metadata": {},
   "outputs": [],
   "source": [
    "antinodes = set()\n",
    "    \n",
    "for i in range(len(antennae)):\n",
    "    for j in range(i + 1, len(antennae)):\n",
    "        r1, c1, val1 = antennae[i]\n",
    "        r2, c2, val2 = antennae[j]\n",
    "        \n",
    "        if val1 != val2:\n",
    "            continue\n",
    "        \n",
    "        # deltas for calculating antinode locations\n",
    "        dr, dc = r2 - r1, c2 - c1\n",
    "        \n",
    "        # potential antinode locations\n",
    "        antinode1 = (r1 - dr, c1 - dc)\n",
    "        antinode2 = (r2 + dr, c2 + dc)\n",
    "        \n",
    "        # add valid antinodes that are within bounds\n",
    "        if within_bounds(antinode1, example_grid):\n",
    "            antinodes.add(antinode1)\n",
    "        if within_bounds(antinode2, example_grid):\n",
    "            antinodes.add(antinode2)"
   ]
  },
  {
   "cell_type": "code",
   "execution_count": null,
   "id": "d039677c-0e4f-4e0e-8863-c5484f0da56b",
   "metadata": {},
   "outputs": [],
   "source": [
    "len(antinodes)"
   ]
  },
  {
   "cell_type": "markdown",
   "id": "62977de0-f231-4785-b5a2-5ac98df7878f",
   "metadata": {},
   "source": [
    "#### Vecotorized"
   ]
  },
  {
   "cell_type": "code",
   "execution_count": null,
   "id": "b8009a3e-cd9f-429a-b873-b323f5483c7c",
   "metadata": {},
   "outputs": [],
   "source": [
    "antennae"
   ]
  },
  {
   "cell_type": "code",
   "execution_count": null,
   "id": "02164fb9-0187-4489-b7e4-81c64b74c316",
   "metadata": {},
   "outputs": [],
   "source": [
    "def find_antinodes(antennae, grid_shape):\n",
    "    \n",
    "    coords = antennae[:, :2]\n",
    "    antenna_values = antennae[:, -1]\n",
    "    \n",
    "    # create all unique pairs of indices (i, j) where i < j with this one weird trick\n",
    "    i_indices, j_indices = np.triu_indices(len(antennae), k=1)\n",
    "    \n",
    "    coords1 = coords[i_indices]\n",
    "    coords2 = coords[j_indices]\n",
    "    vals1 = antenna_values[i_indices]\n",
    "    vals2 = antenna_values[j_indices]\n",
    "    \n",
    "    matching_pairs = vals1 == vals2\n",
    "    \n",
    "    dr_dc = coords2[matching_pairs] - coords1[matching_pairs]\n",
    "    \n",
    "    # potential antinodes\n",
    "    antinode1 = coords1[matching_pairs] - dr_dc\n",
    "    antinode2 = coords2[matching_pairs] + dr_dc\n",
    "    \n",
    "    def within_bounds(coords, shape):\n",
    "        return np.all((coords >= 0) & (coords < shape), axis=1)\n",
    "    \n",
    "    valid_antinode1 = antinode1[within_bounds(antinode1, grid_shape)]\n",
    "    valid_antinode2 = antinode2[within_bounds(antinode2, grid_shape)]\n",
    "    \n",
    "    # combine and remove duplicates by converting to set of tuples\n",
    "    antinodes = set(map(tuple, valid_antinode1)) | set(map(tuple, valid_antinode2))\n",
    "    \n",
    "    return antinodes\n"
   ]
  },
  {
   "cell_type": "code",
   "execution_count": null,
   "id": "5bdf8ae6-af01-4e38-b879-672f4c0cd158",
   "metadata": {},
   "outputs": [],
   "source": [
    "len(find_antinodes(antennae, example_grid.shape))"
   ]
  },
  {
   "cell_type": "code",
   "execution_count": null,
   "id": "3c7f0349-c1d6-49e9-bb76-748c1ebc8be9",
   "metadata": {},
   "outputs": [],
   "source": [
    "data = get_data(day=8, year=2024)"
   ]
  },
  {
   "cell_type": "code",
   "execution_count": null,
   "id": "26367168-40b9-4a77-a890-ce025d17efa5",
   "metadata": {},
   "outputs": [],
   "source": [
    "grid = np.array([list(line) for line in data.strip().split(\"\\n\")])"
   ]
  },
  {
   "cell_type": "code",
   "execution_count": null,
   "id": "8d34e099-0526-4fc6-b96f-bddd1c2c6df8",
   "metadata": {},
   "outputs": [],
   "source": [
    "antennae = parse_grid(grid); antennae[:10]"
   ]
  },
  {
   "cell_type": "code",
   "execution_count": null,
   "id": "d2b67137-f84f-4ae5-8f2f-e2217e8759bd",
   "metadata": {},
   "outputs": [],
   "source": [
    "len(find_antinodes(antennae, grid.shape))"
   ]
  },
  {
   "cell_type": "markdown",
   "id": "c26fc3d0-104e-472b-bac6-ddb0a2fc5f82",
   "metadata": {},
   "source": [
    "## Part Two"
   ]
  },
  {
   "cell_type": "markdown",
   "id": "c9857348-6b6d-4fa4-857f-c699f88743c1",
   "metadata": {},
   "source": [
    "The extension in Part 2 introduces a new concept of *resonant harmonics*, which expands the way antinodes are determined compared to the original problem. \n",
    "\n",
    "An antinode occurs at any grid position exactly in line with at least two antennas of the same frequency, regardless of distance.\n",
    "\n",
    "The three T-frequency antennas are all exactly in line with two antennas, so they are all also antinodes."
   ]
  },
  {
   "cell_type": "code",
   "execution_count": null,
   "id": "c5ad9e77-4ab4-4b9e-a18c-8ea53f42aa98",
   "metadata": {},
   "outputs": [],
   "source": [
    "new_example = \"\"\"\n",
    "T....#....\n",
    "...T......\n",
    ".T....#...\n",
    ".........#\n",
    "..#.......\n",
    "..........\n",
    "...#......\n",
    "..........\n",
    "....#.....\n",
    "..........\n",
    "\"\"\""
   ]
  },
  {
   "cell_type": "code",
   "execution_count": null,
   "id": "8d41bfd6-b6be-4ff2-8b8a-51fc495c158b",
   "metadata": {},
   "outputs": [],
   "source": [
    "new_grid = np.array([list(line) for line in new_example.strip().split(\"\\n\")])"
   ]
  },
  {
   "cell_type": "code",
   "execution_count": null,
   "id": "1f1dda6a-7330-46b7-9a53-76cac767737a",
   "metadata": {},
   "outputs": [],
   "source": [
    "parse_grid(new_grid)"
   ]
  },
  {
   "cell_type": "markdown",
   "id": "169ec9a9-f8f0-4a8a-a88e-7a01398d6acd",
   "metadata": {},
   "source": [
    "What if we created a generator to provide antinodes instead:"
   ]
  },
  {
   "cell_type": "code",
   "execution_count": null,
   "id": "2bbc3b4d-2cdf-4ff1-890d-6e5f6f74d2f9",
   "metadata": {},
   "outputs": [],
   "source": [
    "def antinode_generator(grid):\n",
    "\n",
    "    def _generator(node_1, node_2):\n",
    "        r1, c1 = node_1\n",
    "        r2, c2 = node_2\n",
    "        dr, dc = r2 - r1, c2 - c1\n",
    "\n",
    "        node = node_1\n",
    "        while within_bounds(node, grid):\n",
    "            yield node\n",
    "            node = node[0] - dr, node[1] - dc\n",
    "\n",
    "        node = node_2\n",
    "        while within_bounds(node, grid):\n",
    "            yield node\n",
    "            node = node[0] + dr, node[1] + dc\n",
    "\n",
    "    return _generator"
   ]
  },
  {
   "cell_type": "code",
   "execution_count": null,
   "id": "f27269dc-aa3e-41ff-9e8f-94699101f55f",
   "metadata": {},
   "outputs": [],
   "source": [
    "def find_antinodes(antennae, grid):\n",
    "    antinodes = []\n",
    "    antenna_values = set(antennae[:, -1])\n",
    "\n",
    "    for i in range(len(antennae)):\n",
    "        for j in range(i + 1, len(antennae)):\n",
    "            x1, y1, val1 = antennae[i]\n",
    "            x2, y2, val2 = antennae[j]\n",
    "            \n",
    "            if val1 != val2:\n",
    "                continue\n",
    "\n",
    "            antinodes.extend(node for node in antinode_generator(grid)((x1,y1), (x2,y2)))\n",
    "    \n",
    "    return antinodes"
   ]
  },
  {
   "cell_type": "code",
   "execution_count": null,
   "id": "b0d5e515-5cc5-4bf1-b055-7d99c9c72920",
   "metadata": {},
   "outputs": [],
   "source": [
    "def get_antinodes(grid):\n",
    "    antinodes = set()\n",
    "    antennae = parse_grid(grid)\n",
    "    \n",
    "    for i, j in find_antinodes(antennae, grid):\n",
    "        antinodes.add((i,j))\n",
    "\n",
    "    return antinodes\n",
    "        "
   ]
  },
  {
   "cell_type": "code",
   "execution_count": null,
   "id": "1ac7906d-a056-4def-b443-50976173babd",
   "metadata": {},
   "outputs": [],
   "source": [
    "get_antinodes(new_grid)"
   ]
  },
  {
   "cell_type": "code",
   "execution_count": null,
   "id": "76cc3d25-aba0-4da9-b7bc-896f0f7abd5d",
   "metadata": {},
   "outputs": [],
   "source": [
    "len(get_antinodes(new_grid))"
   ]
  },
  {
   "cell_type": "code",
   "execution_count": null,
   "id": "6eaf9419-c823-4668-9b9a-0df5e6634e79",
   "metadata": {},
   "outputs": [],
   "source": [
    "len(get_antinodes(grid))"
   ]
  }
 ],
 "metadata": {
  "kernelspec": {
   "display_name": "advent2024",
   "language": "python",
   "name": "advent2024"
  },
  "language_info": {
   "codemirror_mode": {
    "name": "ipython",
    "version": 3
   },
   "file_extension": ".py",
   "mimetype": "text/x-python",
   "name": "python",
   "nbconvert_exporter": "python",
   "pygments_lexer": "ipython3",
   "version": "3.11.4"
  }
 },
 "nbformat": 4,
 "nbformat_minor": 5
}
