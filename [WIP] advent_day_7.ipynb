{
 "cells": [
  {
   "cell_type": "code",
   "execution_count": 2,
   "id": "6e559e6b-799c-4b1f-98ee-49d998352cfd",
   "metadata": {},
   "outputs": [],
   "source": [
    "from aocd import get_data"
   ]
  },
  {
   "cell_type": "markdown",
   "id": "091cbb0b-ca1e-47a5-a136-fb0564f911ce",
   "metadata": {},
   "source": [
    "Given a list of calibration equations, determine which ones can be made true by inserting `+` (add) or `*` (multiply) operators between the numbers. Operators are evaluated left-to-right (not by precedence), and numbers cannot be rearranged."
   ]
  },
  {
   "cell_type": "markdown",
   "id": "70c915f8-27c0-4216-b9b2-fe86f5ffb7ff",
   "metadata": {},
   "source": [
    "Each line represents an equation in the format:\n",
    "\n",
    "`target: num1 num2 num3 ...`\n",
    "\n",
    "`target` is the test value you need to match.\n",
    "\n",
    "`num1` `num2` `num3` ... are the numbers to combine using `+` and `*`."
   ]
  },
  {
   "cell_type": "markdown",
   "id": "38191af9-2a22-40d9-bea6-07e2ef84c15b",
   "metadata": {},
   "source": [
    "The final solution should return the sum of all `target` values for equations that can be made true by inserting `+` or `*`."
   ]
  },
  {
   "cell_type": "code",
   "execution_count": 1,
   "id": "e5d2689f-ed69-43b9-b1a5-08757d0cdc5c",
   "metadata": {},
   "outputs": [],
   "source": [
    "example_input = \"\"\"\n",
    "190: 10 19  \n",
    "3267: 81 40 27  \n",
    "83: 17 5  \n",
    "156: 15 6  \n",
    "7290: 6 8 6 15  \n",
    "161011: 16 10 13  \n",
    "192: 17 8 14  \n",
    "21037: 9 7 18 13  \n",
    "292: 11 6 16 20  \n",
    "\"\"\""
   ]
  },
  {
   "cell_type": "markdown",
   "id": "7726c5bd-38bf-48b9-8195-0a9b71608608",
   "metadata": {},
   "source": [
    "For the above example, the solution would be `3749`"
   ]
  },
  {
   "cell_type": "markdown",
   "id": "afa07259-b9d2-4d88-87a8-2719cd32eab8",
   "metadata": {},
   "source": [
    "Explanation:\n",
    "From the example:\n",
    "\n",
    "`190`: `10 19 → 10 * 19 = 190` ✅\n",
    "\n",
    "`3267`: `81 40 27 → 81 + 40 * 27 = 3267` ✅\n",
    "\n",
    "`292`: `11 6 16 20 → 11 + 6 * 16 + 20 = 292` ✅\n",
    "\n",
    "Other equations cannot match their target with any combination of `+` or `*`.\n",
    "\n",
    "The sum of valid targets: `190 + 3267 + 292 = 3749`."
   ]
  },
  {
   "cell_type": "markdown",
   "id": "dd2dba24-62fd-4be2-87e3-db2630be3aff",
   "metadata": {},
   "source": [
    "What we need to do:\n",
    "\n",
    "- For each equation, insert `+` or `*` between numbers in all possible combinations\n",
    "- Evaluate the expressions left-to-right\n",
    "- Check if any combination equals the target\n",
    "- If valid, add the target to the result\n",
    "- Return the sum of all valid targets"
   ]
  },
  {
   "cell_type": "code",
   "execution_count": null,
   "id": "9f00ab87-7ddc-45a9-8f3e-da8bfda4c5fc",
   "metadata": {},
   "outputs": [],
   "source": []
  }
 ],
 "metadata": {
  "kernelspec": {
   "display_name": "advent2024",
   "language": "python",
   "name": "advent2024"
  },
  "language_info": {
   "codemirror_mode": {
    "name": "ipython",
    "version": 3
   },
   "file_extension": ".py",
   "mimetype": "text/x-python",
   "name": "python",
   "nbconvert_exporter": "python",
   "pygments_lexer": "ipython3",
   "version": "3.11.4"
  }
 },
 "nbformat": 4,
 "nbformat_minor": 5
}
