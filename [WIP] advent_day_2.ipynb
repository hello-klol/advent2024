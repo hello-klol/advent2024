{
 "cells": [
  {
   "cell_type": "code",
   "execution_count": 9,
   "id": "72735faa-e332-4f70-9608-5c936f58be91",
   "metadata": {},
   "outputs": [],
   "source": [
    "from aocd import get_data"
   ]
  },
  {
   "cell_type": "markdown",
   "id": "f09de722-96ea-4d60-9a1f-6b910aaa56ff",
   "metadata": {},
   "source": [
    "Each report is a list of numbers called levels that are separated by spaces.\n",
    "\n",
    "In the example above, the reports can be found safe or unsafe by checking those rules:\n",
    "\n",
    "- `7 6 4 2 1`: Safe because the levels are all decreasing by 1 or 2.\n",
    "- `1 2 7 8 9`: Unsafe because 2 7 is an increase of 5.\n",
    "- `9 7 6 2 1`: Unsafe because 6 2 is a decrease of 4.\n",
    "- `1 3 2 4 5`: Unsafe because 1 3 is increasing but 3 2 is decreasing.\n",
    "- `8 6 4 4 1`: Unsafe because 4 4 is neither an increase or a decrease.\n",
    "- `1 3 6 7 9`: Safe because the levels are all increasing by 1, 2, or 3.\n",
    "So, in this example, 2 reports are safe.\n",
    "\n",
    "Analyze the unusual data from the engineers. How many reports are safe?"
   ]
  },
  {
   "cell_type": "code",
   "execution_count": 1,
   "id": "cf553869-296a-4ba9-8d48-01ff04e6799e",
   "metadata": {},
   "outputs": [],
   "source": [
    "import numpy as np\n",
    "\n",
    "def is_unsafe(diffs):\n",
    "    \"\"\"\n",
    "    Unused function from when I was messing around but I'm leaving it here\n",
    "    \"\"\"\n",
    "    increasing_too_much = np.any(diffs >= 4)\n",
    "    decreasing_too_much = np.any(diffs <= -4)\n",
    "    consecutive_same = np.any(diffs == 0)\n",
    "    increase_then_decrease = np.any((diffs[:-1] > 0) & (diffs[1:] < 0))\n",
    "    \n",
    "    return (\n",
    "        increasing_too_much or \n",
    "        decreasing_too_much or \n",
    "        consecutive_same or \n",
    "        increase_then_decrease\n",
    "    )\n",
    "    \n",
    "\n",
    "def is_safe(diffs):\n",
    "    all_decreasing_safely = np.all((diffs == -1) | (diffs == -2) | (diffs == -3))\n",
    "    all_increasing_safely = np.all((diffs == 1) | (diffs == 2) | (diffs == 3))\n",
    "\n",
    "    return all_decreasing_safely or all_increasing_safely\n",
    "\n",
    "\n",
    "def assess(arr):\n",
    "    # diffs between consecutive elements\n",
    "    diffs = np.diff(arr)\n",
    "\n",
    "    return is_safe(diffs)"
   ]
  },
  {
   "cell_type": "markdown",
   "id": "041dd6e5-9d65-4b26-87dd-8bafdb77ac97",
   "metadata": {},
   "source": [
    "Check against the examples given"
   ]
  },
  {
   "cell_type": "code",
   "execution_count": 2,
   "id": "95385b5c-f4e8-4677-b417-426d58dcb217",
   "metadata": {},
   "outputs": [],
   "source": [
    "a = (7, 6, 4, 2, 1)\n",
    "b = (1, 2, 7, 8, 9)\n",
    "c = (9, 7, 6, 2, 1)\n",
    "d = (1, 3, 2, 4, 5)\n",
    "e = (8, 6, 4, 4, 1)\n",
    "f = (1, 3, 6, 7, 9)"
   ]
  },
  {
   "cell_type": "code",
   "execution_count": 22,
   "id": "b54b671d-8a7e-4e82-9021-2f0ce2a3041a",
   "metadata": {},
   "outputs": [
    {
     "name": "stdout",
     "output_type": "stream",
     "text": [
      "True\n",
      "False\n",
      "False\n",
      "False\n",
      "False\n",
      "True\n"
     ]
    }
   ],
   "source": [
    "print(assess(a))\n",
    "print(assess(b))\n",
    "print(assess(c))\n",
    "print(assess(d))\n",
    "print(assess(e))\n",
    "print(assess(f))"
   ]
  },
  {
   "cell_type": "code",
   "execution_count": 10,
   "id": "8d86063d-91f6-4fb0-b24b-9ec832eacf58",
   "metadata": {},
   "outputs": [],
   "source": [
    "def count_true(arr):\n",
    "    arr = np.asarray(arr)\n",
    "    return np.sum(arr == True)"
   ]
  },
  {
   "cell_type": "markdown",
   "id": "baa867ab-83e7-4ead-8eb3-7aaae4552d27",
   "metadata": {},
   "source": [
    "We can't process this in a vectorized manner as the lines have variable lengths :("
   ]
  },
  {
   "cell_type": "code",
   "execution_count": 23,
   "id": "250dc968-9b91-4dea-956f-6d7b005cebed",
   "metadata": {},
   "outputs": [],
   "source": [
    "num_safe = 0\n",
    "for line in get_data(day=2, year=2024).splitlines():\n",
    "    array = np.fromstring(line, dtype=int, sep=\" \")\n",
    "    num_safe += assess(array)"
   ]
  },
  {
   "cell_type": "code",
   "execution_count": 24,
   "id": "10de8b2e-2fea-415f-a006-cf854788f44d",
   "metadata": {},
   "outputs": [
    {
     "data": {
      "text/plain": [
       "np.int64(639)"
      ]
     },
     "execution_count": 24,
     "metadata": {},
     "output_type": "execute_result"
    }
   ],
   "source": [
    "count_true(results)"
   ]
  },
  {
   "cell_type": "markdown",
   "id": "a228fc96-c33d-4ab4-a206-bbb7218766da",
   "metadata": {},
   "source": [
    "The Problem Dampener is a reactor-mounted module that lets the reactor safety systems tolerate a single bad level in what would otherwise be a safe report. It's like the bad level never happened!\n",
    "\n",
    "Now, the same rules apply as before, except if removing a single level from an unsafe report would make it safe, the report instead counts as safe.\n",
    "\n",
    "More of the above example's reports are now safe:\n",
    "\n",
    "- `7 6 4 2 1`: Safe without removing any level.\n",
    "- `1 2 7 8 9`: Unsafe regardless of which level is removed.\n",
    "- `9 7 6 2 1`: Unsafe regardless of which level is removed.\n",
    "- `1 3 2 4 5`: Safe by removing the second level, 3.\n",
    "- `8 6 4 4 1`: Safe by removing the third level, 4.\n",
    "- `1 3 6 7 9`: Safe without removing any level.\n",
    "\n",
    "Thanks to the Problem Dampener, 4 reports are actually safe!\n",
    "\n",
    "Update your analysis by handling situations where the Problem Dampener can remove a single level from unsafe reports. How many reports are now safe?"
   ]
  },
  {
   "cell_type": "markdown",
   "id": "fb47b260-89fa-4b0a-8bbe-fea65a8ff00e",
   "metadata": {},
   "source": [
    "If an unsafe level change is found, drop it from the array and assess again."
   ]
  },
  {
   "cell_type": "code",
   "execution_count": 13,
   "id": "49fab62c-3637-4850-9827-c963b8c7ce38",
   "metadata": {},
   "outputs": [],
   "source": [
    "def reassess(arr):\n",
    "    diffs = np.diff(arr)\n",
    "    return is_safe_with_dampening(diffs)\n",
    "    \n",
    "def is_safe_with_dampening(diffs, num_unsafe_allowed=1):\n",
    "    num_safe_decreasing = np.sum((diffs == -1) | (diffs == -2) | (diffs == -3))\n",
    "    num_safe_increasing = np.sum((diffs == 1) | (diffs == 2) | (diffs == 3))\n",
    "\n",
    "    faulty_entries = diffs.size - max(num_safe_decreasing, num_safe_increasing)\n",
    "\n",
    "    return faulty_entries <= num_unsafe_allowed\n"
   ]
  },
  {
   "cell_type": "code",
   "execution_count": 17,
   "id": "3b7fb44f-2149-4bd7-8a28-7e03d2a2d2d0",
   "metadata": {},
   "outputs": [
    {
     "data": {
      "text/plain": [
       "np.True_"
      ]
     },
     "execution_count": 17,
     "metadata": {},
     "output_type": "execute_result"
    }
   ],
   "source": [
    "reassess(b)"
   ]
  },
  {
   "cell_type": "code",
   "execution_count": 18,
   "id": "1e79ec00-ae8f-4de1-9d7e-6e9da10f44d3",
   "metadata": {},
   "outputs": [
    {
     "data": {
      "text/plain": [
       "(1, 2, 7, 8, 9)"
      ]
     },
     "execution_count": 18,
     "metadata": {},
     "output_type": "execute_result"
    }
   ],
   "source": [
    "b"
   ]
  },
  {
   "cell_type": "code",
   "execution_count": 20,
   "id": "9ffcc242-8301-495b-8504-a9e9bc2b46a3",
   "metadata": {},
   "outputs": [
    {
     "data": {
      "text/plain": [
       "np.int64(1)"
      ]
     },
     "execution_count": 20,
     "metadata": {},
     "output_type": "execute_result"
    }
   ],
   "source": [
    "bdiffs = np.diff(b)\n",
    "b_safe_increasing = np.sum((bdiffs == 1) | (bdiffs == 2) | (bdiffs == 3))\n",
    "b_safe_decreasing = np.sum((bdiffs == -1) | (bdiffs == -2) | (bdiffs == -3))\n",
    "\n",
    "bdiffs.size - max(b_safe_decreasing, b_safe_increasing)"
   ]
  },
  {
   "cell_type": "code",
   "execution_count": 21,
   "id": "f4454bf0-e2f7-4465-ad74-6272e23bf048",
   "metadata": {},
   "outputs": [
    {
     "data": {
      "text/plain": [
       "np.int64(3)"
      ]
     },
     "execution_count": 21,
     "metadata": {},
     "output_type": "execute_result"
    }
   ],
   "source": [
    "b_safe_increasing"
   ]
  },
  {
   "cell_type": "code",
   "execution_count": null,
   "id": "8b0d4260-6593-4735-a3ad-c738f4dc2ce6",
   "metadata": {},
   "outputs": [],
   "source": []
  },
  {
   "cell_type": "code",
   "execution_count": 14,
   "id": "061dbae7-4980-416d-8dd6-3f303db6c55d",
   "metadata": {},
   "outputs": [
    {
     "data": {
      "text/plain": [
       "np.int64(678)"
      ]
     },
     "execution_count": 14,
     "metadata": {},
     "output_type": "execute_result"
    }
   ],
   "source": [
    "results = []\n",
    "for line in get_data(day=2, year=2024).splitlines():\n",
    "    array = np.fromstring(line, dtype=int, sep=\" \")\n",
    "    safe = reassess(array)\n",
    "\n",
    "    results.append(safe)\n",
    "\n",
    "np.sum(results)"
   ]
  },
  {
   "cell_type": "code",
   "execution_count": 15,
   "id": "5e0df79d-62f1-4cde-83b4-db83ae22cf0e",
   "metadata": {},
   "outputs": [],
   "source": [
    "def load_data_as_arrays():\n",
    "    data = get_data(day=2, year=2024)\n",
    "    return [np.fromstring(line, dtype=int, sep=\" \") for line in data.splitlines()]\n",
    "\n",
    "def assess_all(arrays, num_unsafe_allowed=1):\n",
    "    # compute diffs for all rows at once\n",
    "    diffs = np.diff(arrays, axis=1)\n",
    "\n",
    "    # filters to apply all checks at once\n",
    "    safe_decreasing = (diffs >= -3) & (diffs <= -1)\n",
    "    safe_increasing = (diffs >= 1) & (diffs <= 3)\n",
    "    \n",
    "    faulty_entries = diffs.shape[1] - np.maximum(np.sum(safe_decreasing, axis=1), np.sum(safe_increasing, axis=1))\n",
    "    \n",
    "    return faulty_entries <= num_unsafe_allowed\n",
    "\n",
    "\n",
    "arrays = load_data_as_arrays()\n",
    "results = np.array([assess(arr) for arr in arrays])\n",
    "\n",
    "# count True results\n",
    "count_safe = np.sum(results)"
   ]
  },
  {
   "cell_type": "code",
   "execution_count": 16,
   "id": "35f39dd2-b1b6-4942-aea4-0ac07ca3e5b8",
   "metadata": {},
   "outputs": [
    {
     "data": {
      "text/plain": [
       "np.int64(639)"
      ]
     },
     "execution_count": 16,
     "metadata": {},
     "output_type": "execute_result"
    }
   ],
   "source": [
    "count_safe"
   ]
  },
  {
   "cell_type": "markdown",
   "id": "51085a3c-f1cb-45e9-813d-f1c44a4a5743",
   "metadata": {},
   "source": [
    "Urgh... wrong again. I'll come back to this"
   ]
  }
 ],
 "metadata": {
  "kernelspec": {
   "display_name": "advent2024",
   "language": "python",
   "name": "advent2024"
  },
  "language_info": {
   "codemirror_mode": {
    "name": "ipython",
    "version": 3
   },
   "file_extension": ".py",
   "mimetype": "text/x-python",
   "name": "python",
   "nbconvert_exporter": "python",
   "pygments_lexer": "ipython3",
   "version": "3.11.4"
  }
 },
 "nbformat": 4,
 "nbformat_minor": 5
}
