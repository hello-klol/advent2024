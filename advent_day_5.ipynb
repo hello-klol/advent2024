{
 "cells": [
  {
   "cell_type": "code",
   "execution_count": 1,
   "id": "6bc08865-f422-4e8a-b918-07225c3cad70",
   "metadata": {},
   "outputs": [],
   "source": [
    "from aocd import get_data"
   ]
  },
  {
   "cell_type": "markdown",
   "id": "d25eaebf-1dd2-434d-8ec9-3c758e31521e",
   "metadata": {},
   "source": [
    "# Day 5: Print Queue"
   ]
  },
  {
   "cell_type": "markdown",
   "id": "79e7868f-f50d-4954-89b3-72140fa868ae",
   "metadata": {},
   "source": [
    "## Part One"
   ]
  },
  {
   "cell_type": "markdown",
   "id": "4449ae8e-85d3-4a66-a7a3-21cfef82564b",
   "metadata": {},
   "source": [
    "Safety protocols clearly indicate that new pages for the safety manuals must be printed in a very specific order. The notation `X|Y` means that if both page number `X` and page number `Y` are to be produced as part of an update, page number `X` must be printed at some point before page number `Y`.\n",
    "\n",
    "The Elf has for you both the page ordering rules and the pages to produce in each update (your puzzle input), but can't figure out whether each update has the pages in the right order.\n",
    "\n",
    "The first section specifies the page ordering rules, one per line. The first rule, `47|53`, means that if an update includes both page number `47` and page number `53`, then page number `47` must be printed at some point before page number `53`. (`47` doesn't necessarily need to be immediately before `53`; other pages are allowed to be between them.)\n",
    "\n",
    "The second section specifies the page numbers of each update. Because most safety manuals are different, the pages needed in the updates are different too. The first update, `75,47,61,53,29`, means that the update consists of page numbers `75`, `47`, `61`, `53`, and `29`.\n",
    "\n",
    "Start by identifying which updates are already in the right order.\n",
    "\n",
    "In the above example, the first update `(75,47,61,53,29)` is in the right order:<br/>\n",
    "`75` is correctly first because there are rules that put each other page after it: `75|47`, `75|61`, `75|53`, and `75|29`.<br/>\n",
    "`47` is correctly second because `75` must be before it `(75|47)` and every other page must be after it according to `47|61`, `47|53`, and `47|29`.<br/>\n",
    "`61` is correctly in the middle because `75` and `47` are before it (`75|61` and `47|61`) and `53` and `29` are after it (`61|53` and `61|29`).<br/>\n",
    "`53` is correctly fourth because it is before page number `29` (`53|29`).<br/>\n",
    "`29` is the only page left and so is correctly last.<br/>\n",
    "\n",
    "Because the first update does not include some page numbers, the ordering rules involving those missing page numbers are ignored."
   ]
  },
  {
   "cell_type": "code",
   "execution_count": 2,
   "id": "e23ef92a-fac8-48d0-8cba-48dcd1d65975",
   "metadata": {},
   "outputs": [],
   "source": [
    "example_input = \"\"\"\n",
    "47|53\n",
    "97|13\n",
    "97|61\n",
    "97|47\n",
    "75|29\n",
    "61|13\n",
    "75|53\n",
    "29|13\n",
    "97|29\n",
    "53|29\n",
    "61|53\n",
    "97|53\n",
    "61|29\n",
    "47|13\n",
    "75|47\n",
    "97|75\n",
    "47|61\n",
    "75|61\n",
    "47|29\n",
    "75|13\n",
    "53|13\n",
    "\n",
    "75,47,61,53,29\n",
    "97,61,53,29,13\n",
    "75,29,13\n",
    "75,97,47,61,53\n",
    "61,13,29\n",
    "97,13,75,29,47\n",
    "\"\"\""
   ]
  },
  {
   "cell_type": "code",
   "execution_count": 3,
   "id": "0378b8d8-a9bc-4854-93f8-fb39bef90d80",
   "metadata": {},
   "outputs": [],
   "source": [
    "import numpy as np\n",
    "\n",
    "def load_rules_and_updates(data):\n",
    "    rules_part, updates_part = data.strip().split('\\n\\n')\n",
    "    \n",
    "    rules = np.array([tuple(line.split('|')) for line in rules_part.strip().split('\\n')], dtype=int)\n",
    "    \n",
    "    updates = [np.array(line.split(','), dtype=int) for line in updates_part.strip().split('\\n')]\n",
    "    \n",
    "    return np.array(rules), updates"
   ]
  },
  {
   "cell_type": "code",
   "execution_count": 4,
   "id": "d2b86f8e-f443-49f4-a65d-105d174f238e",
   "metadata": {},
   "outputs": [
    {
     "data": {
      "text/plain": [
       "array([[47, 53],\n",
       "       [97, 13],\n",
       "       [97, 61],\n",
       "       [97, 47],\n",
       "       [75, 29]])"
      ]
     },
     "execution_count": 4,
     "metadata": {},
     "output_type": "execute_result"
    }
   ],
   "source": [
    "example_rules, example_updates = load_rules_and_updates(example_input); example_rules[:5]"
   ]
  },
  {
   "cell_type": "markdown",
   "id": "213f6835-d98f-44ba-8379-ece3ec6d6847",
   "metadata": {},
   "source": [
    "First figure out which rules are relevant to the update"
   ]
  },
  {
   "cell_type": "code",
   "execution_count": 5,
   "id": "5c55def8-8605-45a9-9dc4-f67559d6ac80",
   "metadata": {},
   "outputs": [
    {
     "data": {
      "text/plain": [
       "[array([75, 47, 61, 53, 29]),\n",
       " array([97, 61, 53, 29, 13]),\n",
       " array([75, 29, 13]),\n",
       " array([75, 97, 47, 61, 53]),\n",
       " array([61, 13, 29]),\n",
       " array([97, 13, 75, 29, 47])]"
      ]
     },
     "execution_count": 5,
     "metadata": {},
     "output_type": "execute_result"
    }
   ],
   "source": [
    "example_updates"
   ]
  },
  {
   "cell_type": "code",
   "execution_count": 6,
   "id": "15df032b-dbf2-4036-9d56-d01ef7702ed7",
   "metadata": {},
   "outputs": [
    {
     "data": {
      "text/plain": [
       "array([ True, False, False, False,  True, False,  True, False, False,\n",
       "        True,  True, False,  True, False,  True, False,  True,  True,\n",
       "        True, False, False])"
      ]
     },
     "execution_count": 6,
     "metadata": {},
     "output_type": "execute_result"
    }
   ],
   "source": [
    "matches_left = np.isin(example_rules[:, 0], example_updates[0])\n",
    "matches_right = np.isin(example_rules[:, 1], example_updates[0])\n",
    "\n",
    "both_matches = matches_left & matches_right; both_matches"
   ]
  },
  {
   "cell_type": "code",
   "execution_count": 7,
   "id": "8acfdd7b-971d-4230-b89e-e483f623ed4a",
   "metadata": {},
   "outputs": [],
   "source": [
    "from collections import defaultdict\n",
    "\n",
    "def build_graph(rules):\n",
    "    \"\"\"\n",
    "    Graph where the key represents the number that must come \n",
    "    ahead of any of the elements in the set of value numbers\n",
    "    \"\"\"\n",
    "    graph = defaultdict(set)\n",
    "    for x, y in rules:\n",
    "        graph[x].add(y)\n",
    "    return graph"
   ]
  },
  {
   "cell_type": "code",
   "execution_count": 8,
   "id": "c9e40622-9e9e-4335-b65f-a0665a12fd3c",
   "metadata": {},
   "outputs": [],
   "source": [
    "def is_update_valid(update, rules, rules_graph):\n",
    "    matches_left = np.isin(rules[:, 0], list(update))\n",
    "    matches_right = np.isin(rules[:, 1], list(update))\n",
    "    \n",
    "    both_matches = matches_left & matches_right\n",
    "    \n",
    "    # map array values to indices for efficient lookups\n",
    "    value_to_index = {value: idx for idx, value in enumerate(update)}\n",
    "    \n",
    "    for key in set(rules[both_matches][:,0]):\n",
    "        key_idx = value_to_index.get(key, None)\n",
    "        \n",
    "        for value in rules_graph[key]:\n",
    "            if value_idx := value_to_index.get(value, None):\n",
    "                if value_idx <= key_idx:\n",
    "                    return False\n",
    "    \n",
    "    return True"
   ]
  },
  {
   "cell_type": "code",
   "execution_count": 9,
   "id": "62019033-d3be-4271-8017-ceeb6085322b",
   "metadata": {},
   "outputs": [
    {
     "name": "stdout",
     "output_type": "stream",
     "text": [
      "[75 47 61 53 29] is valid\n",
      "[97 61 53 29 13] is valid\n",
      "[75 29 13] is valid\n",
      "[75 97 47 61 53] is valid\n",
      "[61 13 29] is not valid\n",
      "[97 13 75 29 47] is not valid\n"
     ]
    }
   ],
   "source": [
    "rules_graph = build_graph(example_rules)\n",
    "for update in example_updates:\n",
    "    print(f\"{update} is{' not' if not is_update_valid(update, example_rules, rules_graph) else ''} valid\")"
   ]
  },
  {
   "cell_type": "code",
   "execution_count": 10,
   "id": "85973d67-e13c-470e-a9ba-894a29ad1e0a",
   "metadata": {},
   "outputs": [],
   "source": [
    "data = get_data(day=5, year=2024)\n",
    "rules, updates = load_rules_and_updates(data)"
   ]
  },
  {
   "cell_type": "code",
   "execution_count": 11,
   "id": "a4f56fcf-9cb0-4b22-826f-931f9dde3350",
   "metadata": {},
   "outputs": [
    {
     "data": {
      "text/plain": [
       "np.int64(4609)"
      ]
     },
     "execution_count": 11,
     "metadata": {},
     "output_type": "execute_result"
    }
   ],
   "source": [
    "sum_valid = 0\n",
    "rules_graph = build_graph(rules)\n",
    "for update in updates:\n",
    "    if is_update_valid(update, rules, rules_graph):\n",
    "        sum_valid += update[len(update)//2]\n",
    "sum_valid"
   ]
  },
  {
   "cell_type": "markdown",
   "id": "edc83d58-71c1-498b-977e-1d51c985ee70",
   "metadata": {},
   "source": [
    "## Part Two"
   ]
  },
  {
   "cell_type": "markdown",
   "id": "f9f86f06-25ff-4a67-9262-69bd01932e6b",
   "metadata": {},
   "source": [
    "For each of the incorrectly-ordered updates, use the page ordering rules to put the page numbers in the right order. For the above example, here are the three incorrectly-ordered updates and their correct orderings:\n",
    "\n",
    "`75,97,47,61,53` becomes `97,75,47,61,53`.<br/>\n",
    "`61,13,29` becomes `61,29,13`.<br/>\n",
    "`97,13,75,29,47` becomes `97,75,47,29,13`.<br/>\n",
    "\n",
    "After taking only the incorrectly-ordered updates and ordering them correctly, their middle page numbers are `47`, `29`, and `47`. Adding these together produces `123`.\n",
    "\n",
    "Find the updates which are not in the correct order. What do you get if you add up the middle page numbers after correctly ordering just those updates?"
   ]
  },
  {
   "cell_type": "markdown",
   "id": "4ac5a43c-4b7b-4fd5-8927-8ff40c8a760c",
   "metadata": {},
   "source": [
    "- Perform loop through updates\n",
    "- If update is not valid\n",
    "    - Reorder update\n",
    "        - Get broken rules\n",
    "        - Perform swap for broken rules\n",
    "- Add middle number to counter"
   ]
  },
  {
   "cell_type": "code",
   "execution_count": 18,
   "id": "960e0550-e433-4a22-b340-931b35d616c6",
   "metadata": {},
   "outputs": [],
   "source": [
    "class Rule:\n",
    "    def __init__(self, value):\n",
    "        self.value = value\n",
    "        self.appears_before = rules_graph[value]\n",
    "\n",
    "    def __lt__(self, other):\n",
    "        return other.value in self.appears_before\n",
    "\n",
    "    def __repr__(self):\n",
    "        return str(self.value)\n",
    "\n",
    "    def __int__(self):\n",
    "        return int(self.value)\n"
   ]
  },
  {
   "cell_type": "code",
   "execution_count": 19,
   "id": "743a4876-96e5-455e-8c9c-0c906feb5eff",
   "metadata": {},
   "outputs": [],
   "source": [
    "rules = [(2,3),(3,4)]\n",
    "rules_graph = build_graph(rules)\n",
    "rule_vectorized = np.vectorize(Rule)"
   ]
  },
  {
   "cell_type": "code",
   "execution_count": 20,
   "id": "1cb20e8d-0c4f-44bc-a709-0d58d15a9f27",
   "metadata": {},
   "outputs": [
    {
     "data": {
      "text/plain": [
       "defaultdict(set, {2: {3}, 3: {4}})"
      ]
     },
     "execution_count": 20,
     "metadata": {},
     "output_type": "execute_result"
    }
   ],
   "source": [
    "rules_graph"
   ]
  },
  {
   "cell_type": "code",
   "execution_count": 21,
   "id": "27b93a6d-85e4-43bd-9733-1daca7c33191",
   "metadata": {},
   "outputs": [
    {
     "data": {
      "text/plain": [
       "[1, 2, 3, 4, 4]"
      ]
     },
     "execution_count": 21,
     "metadata": {},
     "output_type": "execute_result"
    }
   ],
   "source": [
    "update = np.array([1, 4, 3, 2, 4])\n",
    "sorted(rule_vectorized(update))"
   ]
  },
  {
   "cell_type": "code",
   "execution_count": 22,
   "id": "6da80c30-d69a-48e2-8fd8-7d05e6d39d39",
   "metadata": {},
   "outputs": [
    {
     "data": {
      "text/plain": [
       "5723"
      ]
     },
     "execution_count": 22,
     "metadata": {},
     "output_type": "execute_result"
    }
   ],
   "source": [
    "rules, updates = load_rules_and_updates(data)\n",
    "rules_graph = build_graph(rules)\n",
    "\n",
    "sum_corrected = 0\n",
    "for update in updates:\n",
    "    if not is_update_valid(update, rules, rules_graph):\n",
    "        corrected_update = [int(u) for u in sorted(rule_vectorized(update))]\n",
    "        sum_corrected += corrected_update[len(update)//2]\n",
    "        \n",
    "sum_corrected"
   ]
  }
 ],
 "metadata": {
  "kernelspec": {
   "display_name": "advent2024",
   "language": "python",
   "name": "advent2024"
  },
  "language_info": {
   "codemirror_mode": {
    "name": "ipython",
    "version": 3
   },
   "file_extension": ".py",
   "mimetype": "text/x-python",
   "name": "python",
   "nbconvert_exporter": "python",
   "pygments_lexer": "ipython3",
   "version": "3.11.4"
  }
 },
 "nbformat": 4,
 "nbformat_minor": 5
}
