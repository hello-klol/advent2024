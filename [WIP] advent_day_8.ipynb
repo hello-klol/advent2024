{
 "cells": [
  {
   "cell_type": "code",
   "execution_count": 1,
   "id": "7f033049-70e8-4940-a246-2fa7b5c9e5c8",
   "metadata": {},
   "outputs": [],
   "source": [
    "from aocd import get_data"
   ]
  },
  {
   "cell_type": "markdown",
   "id": "325b1089-f09d-42c6-b529-b463450feeca",
   "metadata": {},
   "source": [
    "Given a 2D grid representing antennas with specific frequencies (letters, digits), identify locations called \"antinodes\" where signals resonate.\n",
    "\n",
    "Rules for Antinodes:\n",
    "\n",
    "**Same Frequency:** Two antennas must have the same frequency for there to be antinodes\n",
    "\n",
    "**Collinearity:** The antennas and antinodes lie on a straight line\n",
    "\n",
    "**Resonance Condition:** One antenna must be twice as far from the antinode as the other\n",
    "\n",
    "**Antinode Count:** Each valid antenna pair generates two antinodes (one on each side)\n",
    "\n",
    "**Objective:** Count the unique antinode locations within the grid bounds"
   ]
  },
  {
   "cell_type": "code",
   "execution_count": 2,
   "id": "c0e3bde3-d082-48fa-b6b5-df2906037e54",
   "metadata": {},
   "outputs": [],
   "source": [
    "example_input = \"\"\"\n",
    "............\n",
    "........0...\n",
    ".....0......\n",
    ".......0....\n",
    "....0.......\n",
    "......A.....\n",
    "............\n",
    "............\n",
    "........A...\n",
    ".........A..\n",
    "............\n",
    "............\n",
    "\"\"\""
   ]
  },
  {
   "cell_type": "code",
   "execution_count": 4,
   "id": "ba9c6872-ddd1-43c6-b70d-0a79ab39fe76",
   "metadata": {},
   "outputs": [],
   "source": [
    "import numpy as np"
   ]
  },
  {
   "cell_type": "code",
   "execution_count": 5,
   "id": "4fafffce-81ef-4b2f-8fc2-b222fb983abf",
   "metadata": {},
   "outputs": [],
   "source": [
    "example_grid = np.array([list(line) for line in example_input.strip().split(\"\\n\")])"
   ]
  },
  {
   "cell_type": "code",
   "execution_count": 6,
   "id": "e3edb3ca-2c55-4273-b842-24076ea68fed",
   "metadata": {},
   "outputs": [
    {
     "data": {
      "text/plain": [
       "array([['.', '.', '.', '.', '.', '.', '.', '.', '.', '.', '.', '.'],\n",
       "       ['.', '.', '.', '.', '.', '.', '.', '.', '0', '.', '.', '.'],\n",
       "       ['.', '.', '.', '.', '.', '0', '.', '.', '.', '.', '.', '.'],\n",
       "       ['.', '.', '.', '.', '.', '.', '.', '0', '.', '.', '.', '.'],\n",
       "       ['.', '.', '.', '.', '0', '.', '.', '.', '.', '.', '.', '.'],\n",
       "       ['.', '.', '.', '.', '.', '.', 'A', '.', '.', '.', '.', '.'],\n",
       "       ['.', '.', '.', '.', '.', '.', '.', '.', '.', '.', '.', '.'],\n",
       "       ['.', '.', '.', '.', '.', '.', '.', '.', '.', '.', '.', '.'],\n",
       "       ['.', '.', '.', '.', '.', '.', '.', '.', 'A', '.', '.', '.'],\n",
       "       ['.', '.', '.', '.', '.', '.', '.', '.', '.', 'A', '.', '.'],\n",
       "       ['.', '.', '.', '.', '.', '.', '.', '.', '.', '.', '.', '.'],\n",
       "       ['.', '.', '.', '.', '.', '.', '.', '.', '.', '.', '.', '.']],\n",
       "      dtype='<U1')"
      ]
     },
     "execution_count": 6,
     "metadata": {},
     "output_type": "execute_result"
    }
   ],
   "source": [
    "example_grid"
   ]
  },
  {
   "cell_type": "markdown",
   "id": "6f8b70fd-8eac-4d9a-a33e-be2d374ee3bc",
   "metadata": {},
   "source": [
    "Identify the positions of all antennas with their corresponding \"frequency\" values"
   ]
  },
  {
   "cell_type": "code",
   "execution_count": 34,
   "id": "04f7ac42-96bb-4754-9f82-cd3c475b4502",
   "metadata": {},
   "outputs": [],
   "source": [
    "def parse_grid(grid):\n",
    "\n",
    "    # boolean mask for alphanumeric elements\n",
    "    mask = np.char.isalnum(grid)\n",
    "    \n",
    "    positions = np.argwhere(mask)\n",
    "    antenna_values = grid[mask]\n",
    "    \n",
    "    antennas = np.array([(i, j, val) for (i, j), val in zip(positions, antenna_values)], dtype=object)\n",
    "    \n",
    "    return antennas"
   ]
  },
  {
   "cell_type": "code",
   "execution_count": 35,
   "id": "b7e17c8b-98ec-4fd9-a12f-7e21fbfab8e9",
   "metadata": {},
   "outputs": [
    {
     "data": {
      "text/plain": [
       "array([[np.int64(1), np.int64(8), np.str_('0')],\n",
       "       [np.int64(2), np.int64(5), np.str_('0')],\n",
       "       [np.int64(3), np.int64(7), np.str_('0')],\n",
       "       [np.int64(4), np.int64(4), np.str_('0')],\n",
       "       [np.int64(5), np.int64(6), np.str_('A')],\n",
       "       [np.int64(8), np.int64(8), np.str_('A')],\n",
       "       [np.int64(9), np.int64(9), np.str_('A')]], dtype=object)"
      ]
     },
     "execution_count": 35,
     "metadata": {},
     "output_type": "execute_result"
    }
   ],
   "source": [
    "antennas = parse_grid(example_grid); antennas"
   ]
  },
  {
   "cell_type": "markdown",
   "id": "dc978bdb-81eb-483d-9c56-b060c43ddd0e",
   "metadata": {},
   "source": [
    "- Loop through all possible pairs of antennas that have the same frequency\n",
    "- For each pair, find the potential antinode locations such that one antenna is twice as far from the antinode as the other\n",
    "- Ensure that the calculated antinode locations are within the bounds of the map\n",
    "- Use a `set` to store and deduplicate the valid antinode locations\n",
    "- Return the number of unique locations stored in the set"
   ]
  },
  {
   "cell_type": "markdown",
   "id": "2fa679d8-0bd7-4e3e-a19c-347271f9d41d",
   "metadata": {},
   "source": [
    "### First Approach"
   ]
  },
  {
   "cell_type": "code",
   "execution_count": 27,
   "id": "153d3430-8260-41be-b41e-6d7f2d32a2ff",
   "metadata": {},
   "outputs": [],
   "source": [
    "def within_bounds(node, grid):\n",
    "    return 0 <= node[0] < len(grid) and 0 <= node[1] < len(grid[0])"
   ]
  },
  {
   "cell_type": "code",
   "execution_count": 28,
   "id": "656e3ad8-4577-4bc3-ac14-25cd71d35592",
   "metadata": {},
   "outputs": [],
   "source": [
    "antinodes = set()\n",
    "    \n",
    "for i in range(len(antennas)):\n",
    "    for j in range(i + 1, len(antennas)):\n",
    "        x1, y1, val1 = antennas[i]\n",
    "        x2, y2, val2 = antennas[j]\n",
    "        \n",
    "        if val1 != val2:\n",
    "            continue\n",
    "        \n",
    "        # deltas for calculating antinode locations\n",
    "        dx, dy = x2 - x1, y2 - y1\n",
    "        \n",
    "        # potential antinode locations\n",
    "        antinode1 = (x1 - dx, y1 - dy)\n",
    "        antinode2 = (x2 + dx, y2 + dy)\n",
    "        \n",
    "        # add valid antinodes that are within bounds\n",
    "        if within_bounds(antinode1, example_grid):\n",
    "            antinodes.add(antinode1)\n",
    "        if within_bounds(antinode2, example_grid):\n",
    "            antinodes.add(antinode2)"
   ]
  },
  {
   "cell_type": "code",
   "execution_count": 29,
   "id": "d039677c-0e4f-4e0e-8863-c5484f0da56b",
   "metadata": {},
   "outputs": [
    {
     "data": {
      "text/plain": [
       "14"
      ]
     },
     "execution_count": 29,
     "metadata": {},
     "output_type": "execute_result"
    }
   ],
   "source": [
    "len(antinodes)"
   ]
  },
  {
   "cell_type": "markdown",
   "id": "62977de0-f231-4785-b5a2-5ac98df7878f",
   "metadata": {},
   "source": [
    "### Vecotorized"
   ]
  },
  {
   "cell_type": "code",
   "execution_count": 38,
   "id": "02164fb9-0187-4489-b7e4-81c64b74c316",
   "metadata": {},
   "outputs": [],
   "source": [
    "def find_antinodes(antennas, grid_shape):\n",
    "    \n",
    "    coords = antennas[:, :2]\n",
    "    freq_values = antennas[:, -1]\n",
    "    \n",
    "    # create all unique pairs of indices (i, j) where i < j with this one weird trick\n",
    "    i_indices, j_indices = np.triu_indices(len(antennas), k=1)\n",
    "    \n",
    "    coords1 = coords[i_indices]\n",
    "    coords2 = coords[j_indices]\n",
    "    freqs1 = freq_values[i_indices]\n",
    "    freqs2 = freq_values[j_indices]\n",
    "    \n",
    "    matching_pairs = freqs1 == freqs2\n",
    "    \n",
    "    dx_dy = coords2[matching_pairs] - coords1[matching_pairs]\n",
    "    \n",
    "    # potential antinodes\n",
    "    antinode1 = coords1[matching_pairs] - dx_dy\n",
    "    antinode2 = coords2[matching_pairs] + dx_dy\n",
    "    \n",
    "    def within_bounds(coords, shape):\n",
    "        return np.all((coords >= 0) & (coords < shape), axis=1)\n",
    "    \n",
    "    valid_antinode1 = antinode1[within_bounds(antinode1, grid_shape)]\n",
    "    valid_antinode2 = antinode2[within_bounds(antinode2, grid_shape)]\n",
    "    \n",
    "    # combine and remove duplicates by converting to set of tuples\n",
    "    antinodes = set(map(tuple, valid_antinode1)) | set(map(tuple, valid_antinode2))\n",
    "    \n",
    "    return antinodes\n"
   ]
  },
  {
   "cell_type": "code",
   "execution_count": 39,
   "id": "5bdf8ae6-af01-4e38-b879-672f4c0cd158",
   "metadata": {},
   "outputs": [
    {
     "data": {
      "text/plain": [
       "14"
      ]
     },
     "execution_count": 39,
     "metadata": {},
     "output_type": "execute_result"
    }
   ],
   "source": [
    "len(find_antinodes(antennas, example_grid.shape))"
   ]
  },
  {
   "cell_type": "code",
   "execution_count": 42,
   "id": "3c7f0349-c1d6-49e9-bb76-748c1ebc8be9",
   "metadata": {},
   "outputs": [],
   "source": [
    "data = get_data(day=8, year=2024)"
   ]
  },
  {
   "cell_type": "code",
   "execution_count": 43,
   "id": "26367168-40b9-4a77-a890-ce025d17efa5",
   "metadata": {},
   "outputs": [],
   "source": [
    "grid = np.array([list(line) for line in data.strip().split(\"\\n\")])"
   ]
  },
  {
   "cell_type": "code",
   "execution_count": 47,
   "id": "8d34e099-0526-4fc6-b96f-bddd1c2c6df8",
   "metadata": {},
   "outputs": [
    {
     "data": {
      "text/plain": [
       "array([[np.int64(0), np.int64(21), np.str_('5')],\n",
       "       [np.int64(0), np.int64(37), np.str_('P')],\n",
       "       [np.int64(1), np.int64(13), np.str_('w')],\n",
       "       [np.int64(1), np.int64(19), np.str_('T')],\n",
       "       [np.int64(1), np.int64(29), np.str_('X')],\n",
       "       [np.int64(1), np.int64(30), np.str_('h')],\n",
       "       [np.int64(1), np.int64(36), np.str_('5')],\n",
       "       [np.int64(1), np.int64(49), np.str_('u')],\n",
       "       [np.int64(2), np.int64(19), np.str_('k')],\n",
       "       [np.int64(2), np.int64(20), np.str_('X')]], dtype=object)"
      ]
     },
     "execution_count": 47,
     "metadata": {},
     "output_type": "execute_result"
    }
   ],
   "source": [
    "antennas = parse_grid(grid); antennas[:10]"
   ]
  },
  {
   "cell_type": "code",
   "execution_count": 46,
   "id": "d2b67137-f84f-4ae5-8f2f-e2217e8759bd",
   "metadata": {},
   "outputs": [
    {
     "data": {
      "text/plain": [
       "400"
      ]
     },
     "execution_count": 46,
     "metadata": {},
     "output_type": "execute_result"
    }
   ],
   "source": [
    "len(find_antinodes(antennas, grid.shape))"
   ]
  },
  {
   "cell_type": "markdown",
   "id": "c26fc3d0-104e-472b-bac6-ddb0a2fc5f82",
   "metadata": {},
   "source": [
    "## Part Two"
   ]
  },
  {
   "cell_type": "markdown",
   "id": "c9857348-6b6d-4fa4-857f-c699f88743c1",
   "metadata": {},
   "source": [
    "Antinodes are not only created by pairs of antennas that are in line with each other but also by the positions of the antennas themselves—if there is more than one antenna with the same frequency.\n",
    "\n",
    "**Antennas can now be antinodes:** If an antenna shares its frequency with at least one other antenna, its position becomes an antinode.\n",
    "\n",
    "**New antinode locations:** For each pair of antennas with the same frequency, antinodes will be generated not only between them (based on distance) but also at the antennas' positions if there are multiple antennas of the same frequency.\n",
    "\n",
    "**Counting Unique Antinodes:** The goal is to count all unique positions that are antinodes, including those generated by overlapping antennas of the same frequency."
   ]
  },
  {
   "cell_type": "code",
   "execution_count": null,
   "id": "6bde4822-3558-4c5c-9b70-d02d8be3c03a",
   "metadata": {},
   "outputs": [],
   "source": []
  }
 ],
 "metadata": {
  "kernelspec": {
   "display_name": "advent2024",
   "language": "python",
   "name": "advent2024"
  },
  "language_info": {
   "codemirror_mode": {
    "name": "ipython",
    "version": 3
   },
   "file_extension": ".py",
   "mimetype": "text/x-python",
   "name": "python",
   "nbconvert_exporter": "python",
   "pygments_lexer": "ipython3",
   "version": "3.11.4"
  }
 },
 "nbformat": 4,
 "nbformat_minor": 5
}
