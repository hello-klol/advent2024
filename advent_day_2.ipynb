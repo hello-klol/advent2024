{
 "cells": [
  {
   "cell_type": "code",
   "execution_count": 1,
   "id": "72735faa-e332-4f70-9608-5c936f58be91",
   "metadata": {},
   "outputs": [],
   "source": [
    "from aocd import get_data"
   ]
  },
  {
   "cell_type": "markdown",
   "id": "a6567176-67da-49a8-9e92-415b3896c33b",
   "metadata": {},
   "source": [
    "# Day 2: Red-Nosed Reports"
   ]
  },
  {
   "cell_type": "markdown",
   "id": "06bba00a-153b-4e43-ae55-08635f0fd8fb",
   "metadata": {},
   "source": [
    "## Part One"
   ]
  },
  {
   "cell_type": "markdown",
   "id": "f09de722-96ea-4d60-9a1f-6b910aaa56ff",
   "metadata": {},
   "source": [
    "Each report is a list of numbers called levels that are separated by spaces.\n",
    "\n",
    "In the example above, the reports can be found safe or unsafe by checking those rules:\n",
    "\n",
    "- `7 6 4 2 1`: Safe because the levels are all decreasing by 1 or 2.\n",
    "- `1 2 7 8 9`: Unsafe because 2 7 is an increase of 5.\n",
    "- `9 7 6 2 1`: Unsafe because 6 2 is a decrease of 4.\n",
    "- `1 3 2 4 5`: Unsafe because 1 3 is increasing but 3 2 is decreasing.\n",
    "- `8 6 4 4 1`: Unsafe because 4 4 is neither an increase or a decrease.\n",
    "- `1 3 6 7 9`: Safe because the levels are all increasing by 1, 2, or 3.\n",
    "So, in this example, 2 reports are safe.\n",
    "\n",
    "Analyze the unusual data from the engineers. How many reports are safe?"
   ]
  },
  {
   "cell_type": "code",
   "execution_count": 2,
   "id": "cf553869-296a-4ba9-8d48-01ff04e6799e",
   "metadata": {},
   "outputs": [],
   "source": [
    "import numpy as np\n",
    "\n",
    "def assess(arr):\n",
    "    # diffs between consecutive elements\n",
    "    diffs = np.diff(arr)\n",
    "    all_decreasing_safely = np.all((diffs == -1) | (diffs == -2) | (diffs == -3))\n",
    "    all_increasing_safely = np.all((diffs == 1) | (diffs == 2) | (diffs == 3))\n",
    "\n",
    "    return all_decreasing_safely or all_increasing_safely"
   ]
  },
  {
   "cell_type": "markdown",
   "id": "041dd6e5-9d65-4b26-87dd-8bafdb77ac97",
   "metadata": {},
   "source": [
    "Check against the examples given"
   ]
  },
  {
   "cell_type": "code",
   "execution_count": 3,
   "id": "95385b5c-f4e8-4677-b417-426d58dcb217",
   "metadata": {},
   "outputs": [],
   "source": [
    "example_input = \"\"\"\n",
    "7 6 4 2 1\n",
    "1 2 7 8 9\n",
    "9 7 6 2 1\n",
    "1 3 2 4 5\n",
    "8 6 4 4 1\n",
    "1 3 6 7 9\n",
    "\"\"\""
   ]
  },
  {
   "cell_type": "code",
   "execution_count": 4,
   "id": "b54b671d-8a7e-4e82-9021-2f0ce2a3041a",
   "metadata": {},
   "outputs": [
    {
     "name": "stdout",
     "output_type": "stream",
     "text": [
      "Line 7 6 4 2 1 is safe\n",
      "Line 1 2 7 8 9 is not safe\n",
      "Line 9 7 6 2 1 is not safe\n",
      "Line 1 3 2 4 5 is not safe\n",
      "Line 8 6 4 4 1 is not safe\n",
      "Line 1 3 6 7 9 is safe\n"
     ]
    },
    {
     "data": {
      "text/plain": [
       "np.int64(2)"
      ]
     },
     "execution_count": 4,
     "metadata": {},
     "output_type": "execute_result"
    }
   ],
   "source": [
    "num_safe = 0\n",
    "for line in example_input.strip().splitlines():\n",
    "    array = np.fromstring(line, dtype=int, sep=\" \")\n",
    "    is_safe = assess(array)\n",
    "    print(f\"Line {line} is{' not' if not is_safe else ''} safe\")\n",
    "    num_safe += is_safe\n",
    "\n",
    "num_safe"
   ]
  },
  {
   "cell_type": "markdown",
   "id": "baa867ab-83e7-4ead-8eb3-7aaae4552d27",
   "metadata": {},
   "source": [
    "We can't process this in a vectorized manner as the lines in the real data have variable lengths :("
   ]
  },
  {
   "cell_type": "code",
   "execution_count": 5,
   "id": "3b8c7170-e4c5-4b49-aa29-546ee017c1dc",
   "metadata": {},
   "outputs": [],
   "source": [
    "data = get_data(day=2, year=2024)"
   ]
  },
  {
   "cell_type": "code",
   "execution_count": 6,
   "id": "250dc968-9b91-4dea-956f-6d7b005cebed",
   "metadata": {},
   "outputs": [],
   "source": [
    "num_safe = 0\n",
    "for line in data.strip().splitlines():\n",
    "    array = np.fromstring(line, dtype=int, sep=\" \")\n",
    "    num_safe += assess(array)"
   ]
  },
  {
   "cell_type": "code",
   "execution_count": 7,
   "id": "98184f73-9c80-4437-b47a-7aae18b4f3b1",
   "metadata": {},
   "outputs": [
    {
     "data": {
      "text/plain": [
       "np.int64(639)"
      ]
     },
     "execution_count": 7,
     "metadata": {},
     "output_type": "execute_result"
    }
   ],
   "source": [
    "num_safe"
   ]
  },
  {
   "cell_type": "markdown",
   "id": "93894b93-13ad-477b-8610-6d39f94b2562",
   "metadata": {},
   "source": [
    "## Part Two"
   ]
  },
  {
   "cell_type": "markdown",
   "id": "a228fc96-c33d-4ab4-a206-bbb7218766da",
   "metadata": {},
   "source": [
    "The Problem Dampener is a reactor-mounted module that lets the reactor safety systems tolerate a single bad level in what would otherwise be a safe report. It's like the bad level never happened!\n",
    "\n",
    "Now, the same rules apply as before, except if removing a single level from an unsafe report would make it safe, the report instead counts as safe.\n",
    "\n",
    "More of the above example's reports are now safe:\n",
    "\n",
    "- `7 6 4 2 1`: Safe without removing any level.\n",
    "- `1 2 7 8 9`: Unsafe regardless of which level is removed.\n",
    "- `9 7 6 2 1`: Unsafe regardless of which level is removed.\n",
    "- `1 3 2 4 5`: Safe by removing the second level, 3.\n",
    "- `8 6 4 4 1`: Safe by removing the third level, 4.\n",
    "- `1 3 6 7 9`: Safe without removing any level.\n",
    "\n",
    "Thanks to the Problem Dampener, 4 reports are actually safe!\n",
    "\n",
    "Update your analysis by handling situations where the Problem Dampener can remove a single level from unsafe reports. How many reports are now safe?"
   ]
  },
  {
   "cell_type": "markdown",
   "id": "fb47b260-89fa-4b0a-8bbe-fea65a8ff00e",
   "metadata": {},
   "source": [
    "- If there are two consective numbers or an increase-decrease combination then there's a possibilty of the issue being resolved.\n",
    "- If there is too big a step between levels there is no possibility of resolving.\n",
    "\n",
    "If an unsafe level change is found, drop it from the array and assess again."
   ]
  },
  {
   "cell_type": "markdown",
   "id": "e2d673a8-01b3-4446-83a5-7dff805f7864",
   "metadata": {},
   "source": [
    "In the below I tried to more efficienty find the solution by only checking unsafe problems where we see an"
   ]
  },
  {
   "cell_type": "code",
   "execution_count": 9,
   "id": "3d8cdc2b-a3c4-459e-8731-bc7571dba634",
   "metadata": {},
   "outputs": [],
   "source": [
    "def can_resolve(arr):\n",
    "    diffs = np.diff(arr)\n",
    "    \n",
    "    consecutive_same = (diffs == 0)\n",
    "    for diff_idx in np.nonzero(consecutive_same)[0]:\n",
    "        new_arr = np.delete(arr, diff_idx, 0)\n",
    "        if assess(new_arr):\n",
    "            return True\n",
    "\n",
    "    increase_then_decrease = (diffs[:-1] > 0) & (diffs[1:] < 0)\n",
    "    decrease_then_increase = (diffs[:-1] < 0) & (diffs[1:] > 0)\n",
    "    for diff_idx in np.nonzero(increase_then_decrease | decrease_then_increase)[0]:\n",
    "\n",
    "        fix = np.delete(arr, diff_idx, 0)\n",
    "        if assess(fix):\n",
    "            return True\n",
    "        \n",
    "        fix = np.delete(arr, diff_idx + 1, 0)\n",
    "        if assess(fix):\n",
    "            return True\n",
    "        \n",
    "        fix = np.delete(arr, diff_idx + 2, 0)\n",
    "        if assess(fix):\n",
    "            return True\n",
    "\n",
    "\n",
    "    return False\n",
    "        "
   ]
  },
  {
   "cell_type": "code",
   "execution_count": 8,
   "id": "82103d39-203f-47fd-b58a-96d9bb182960",
   "metadata": {},
   "outputs": [],
   "source": [
    "def can_resolve(arr):\n",
    "    # Check all possible single-element removals\n",
    "    for i in range(len(arr)):\n",
    "        new_arr = np.delete(arr, i, 0)\n",
    "        if assess(new_arr):\n",
    "            return True\n",
    "    return False"
   ]
  },
  {
   "cell_type": "code",
   "execution_count": 10,
   "id": "195f09ff-47e3-4365-9d1d-ea5f3e5df7e8",
   "metadata": {},
   "outputs": [
    {
     "name": "stdout",
     "output_type": "stream",
     "text": [
      "Line 7 6 4 2 1 is safe\n",
      "Line 1 2 7 8 9 is not safe\n",
      "Line 9 7 6 2 1 is not safe\n",
      "Line 1 3 2 4 5 is safe\n",
      "Line 8 6 4 4 1 is safe\n",
      "Line 1 3 6 7 9 is safe\n"
     ]
    },
    {
     "data": {
      "text/plain": [
       "np.int64(4)"
      ]
     },
     "execution_count": 10,
     "metadata": {},
     "output_type": "execute_result"
    }
   ],
   "source": [
    "num_safe = 0\n",
    "for line in example_input.strip().splitlines():\n",
    "    array = np.fromstring(line, dtype=int, sep=\" \")\n",
    "    is_safe = assess(array)\n",
    "    if not is_safe:\n",
    "        is_safe = can_resolve(array)\n",
    "    print(f\"Line {line} is{' not' if not is_safe else ''} safe\")\n",
    "    num_safe += is_safe\n",
    "\n",
    "num_safe"
   ]
  },
  {
   "cell_type": "code",
   "execution_count": 11,
   "id": "fb581e43-cfcf-4671-a8f7-24123096d3f3",
   "metadata": {},
   "outputs": [],
   "source": [
    "num_safe = 0\n",
    "for line in data.strip().splitlines():\n",
    "    array = np.fromstring(line, dtype=int, sep=\" \")\n",
    "    is_safe = assess(array)\n",
    "    if not is_safe:\n",
    "        is_safe = can_resolve(array)\n",
    "\n",
    "    num_safe += is_safe\n",
    "        "
   ]
  },
  {
   "cell_type": "code",
   "execution_count": 12,
   "id": "5cc35bc5-a74b-4123-8f5f-73968b95c74d",
   "metadata": {},
   "outputs": [
    {
     "data": {
      "text/plain": [
       "np.int64(674)"
      ]
     },
     "execution_count": 12,
     "metadata": {},
     "output_type": "execute_result"
    }
   ],
   "source": [
    "num_safe"
   ]
  }
 ],
 "metadata": {
  "kernelspec": {
   "display_name": "advent2024",
   "language": "python",
   "name": "advent2024"
  },
  "language_info": {
   "codemirror_mode": {
    "name": "ipython",
    "version": 3
   },
   "file_extension": ".py",
   "mimetype": "text/x-python",
   "name": "python",
   "nbconvert_exporter": "python",
   "pygments_lexer": "ipython3",
   "version": "3.11.4"
  }
 },
 "nbformat": 4,
 "nbformat_minor": 5
}
