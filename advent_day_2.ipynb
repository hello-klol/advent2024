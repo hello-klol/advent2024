{
 "cells": [
  {
   "cell_type": "markdown",
   "id": "f09de722-96ea-4d60-9a1f-6b910aaa56ff",
   "metadata": {},
   "source": [
    "Each report is a list of numbers called levels that are separated by spaces.\n",
    "\n",
    "In the example above, the reports can be found safe or unsafe by checking those rules:\n",
    "\n",
    "- `7 6 4 2 1`: Safe because the levels are all decreasing by 1 or 2.\n",
    "- `1 2 7 8 9`: Unsafe because 2 7 is an increase of 5.\n",
    "- `9 7 6 2 1`: Unsafe because 6 2 is a decrease of 4.\n",
    "- `1 3 2 4 5`: Unsafe because 1 3 is increasing but 3 2 is decreasing.\n",
    "- `8 6 4 4 1`: Unsafe because 4 4 is neither an increase or a decrease.\n",
    "- `1 3 6 7 9`: Safe because the levels are all increasing by 1, 2, or 3.\n",
    "So, in this example, 2 reports are safe.\n",
    "\n",
    "Analyze the unusual data from the engineers. How many reports are safe?"
   ]
  },
  {
   "cell_type": "code",
   "execution_count": 120,
   "id": "0fb035ec-5ca4-4c31-ac06-032441908040",
   "metadata": {},
   "outputs": [],
   "source": [
    "import numpy as np\n",
    "\n",
    "def is_unsafe(diffs):\n",
    "    increase_5 = np.any(diffs == 5)\n",
    "    decrease_4 = np.any(diffs == -4)\n",
    "    consecutive_same = np.any(diffs == 0)\n",
    "    increase_then_decrease = np.any((diffs[:-1] > 0) & (diffs[1:] < 0))\n",
    "    \n",
    "    return increase_5 or decrease_4 or consecutive_same or increase_then_decrease\n",
    "    \n",
    "\n",
    "def is_safe(diffs):\n",
    "    # I'm annoyed because above they don't specify decrease by 3 is safe\n",
    "    # but this is the only way to get the accepted answer\n",
    "    all_decreasing_1_2_or_3 = np.all((diffs == -1) | (diffs == -2) | (diffs == -3))\n",
    "    all_increasing_1_2_or_3 = np.all((diffs == 1) | (diffs == 2) | (diffs == 3))\n",
    "\n",
    "    return all_decreasing_1_or_2 or all_increasing_1_2_or_3\n",
    "\n",
    "\n",
    "def assess(arr):\n",
    "    # diffs between consecutive elements\n",
    "    diffs = np.diff(arr)\n",
    "\n",
    "    if is_unsafe(diffs):\n",
    "        return False\n",
    "\n",
    "    if is_safe(diffs):\n",
    "        return True\n",
    "\n",
    "    # The rules don't cover all cases ¯\\_(ツ)_/¯\n",
    "    return None\n"
   ]
  },
  {
   "cell_type": "markdown",
   "id": "041dd6e5-9d65-4b26-87dd-8bafdb77ac97",
   "metadata": {},
   "source": [
    "Check against the examples given"
   ]
  },
  {
   "cell_type": "code",
   "execution_count": 105,
   "id": "95385b5c-f4e8-4677-b417-426d58dcb217",
   "metadata": {},
   "outputs": [],
   "source": [
    "a = (7, 6, 4, 2, 1)\n",
    "b = (1, 2, 7, 8, 9)\n",
    "c = (9, 7, 6, 2, 1)\n",
    "d = (1, 3, 2, 4, 5)\n",
    "e = (8, 6, 4, 4, 1)\n",
    "f = (1, 3, 6, 7, 9)"
   ]
  },
  {
   "cell_type": "code",
   "execution_count": 106,
   "id": "b54b671d-8a7e-4e82-9021-2f0ce2a3041a",
   "metadata": {},
   "outputs": [
    {
     "data": {
      "text/plain": [
       "True"
      ]
     },
     "execution_count": 106,
     "metadata": {},
     "output_type": "execute_result"
    }
   ],
   "source": [
    "assess(a)"
   ]
  },
  {
   "cell_type": "code",
   "execution_count": 107,
   "id": "552bfd7b-ecb8-400a-ad48-cc4cbb413fdf",
   "metadata": {},
   "outputs": [
    {
     "data": {
      "text/plain": [
       "False"
      ]
     },
     "execution_count": 107,
     "metadata": {},
     "output_type": "execute_result"
    }
   ],
   "source": [
    "assess(b)"
   ]
  },
  {
   "cell_type": "code",
   "execution_count": 108,
   "id": "d6171c62-6c6c-48f9-9d56-954353bfe3f9",
   "metadata": {},
   "outputs": [
    {
     "data": {
      "text/plain": [
       "False"
      ]
     },
     "execution_count": 108,
     "metadata": {},
     "output_type": "execute_result"
    }
   ],
   "source": [
    "assess(c)"
   ]
  },
  {
   "cell_type": "code",
   "execution_count": 109,
   "id": "9c2b3782-0db2-4241-9dad-6215f8f2efca",
   "metadata": {},
   "outputs": [
    {
     "data": {
      "text/plain": [
       "False"
      ]
     },
     "execution_count": 109,
     "metadata": {},
     "output_type": "execute_result"
    }
   ],
   "source": [
    "assess(d)"
   ]
  },
  {
   "cell_type": "code",
   "execution_count": 110,
   "id": "1f3665e2-919b-4fbe-97f1-2a4b44729847",
   "metadata": {},
   "outputs": [
    {
     "data": {
      "text/plain": [
       "False"
      ]
     },
     "execution_count": 110,
     "metadata": {},
     "output_type": "execute_result"
    }
   ],
   "source": [
    "assess(e)"
   ]
  },
  {
   "cell_type": "code",
   "execution_count": 111,
   "id": "3d711b27-7d93-4a97-a0e7-5a65eaf5b893",
   "metadata": {},
   "outputs": [
    {
     "data": {
      "text/plain": [
       "True"
      ]
     },
     "execution_count": 111,
     "metadata": {},
     "output_type": "execute_result"
    }
   ],
   "source": [
    "assess(f)"
   ]
  },
  {
   "cell_type": "code",
   "execution_count": 112,
   "id": "72735faa-e332-4f70-9608-5c936f58be91",
   "metadata": {},
   "outputs": [],
   "source": [
    "from aocd import get_data"
   ]
  },
  {
   "cell_type": "markdown",
   "id": "43f7c7e2-f22d-4e53-8b0d-89212e38aa8b",
   "metadata": {},
   "source": [
    "I've overcomplicated things here but it was because I was trying to figure out why I had the wrong answer before I allowed decrementing by 3 in the \"safe\" category."
   ]
  },
  {
   "cell_type": "code",
   "execution_count": 114,
   "id": "8d86063d-91f6-4fb0-b24b-9ec832eacf58",
   "metadata": {},
   "outputs": [],
   "source": [
    "def count_true(arr):\n",
    "    arr = np.asarray(arr)\n",
    "    return np.sum(arr == True)"
   ]
  },
  {
   "cell_type": "code",
   "execution_count": 115,
   "id": "250dc968-9b91-4dea-956f-6d7b005cebed",
   "metadata": {},
   "outputs": [],
   "source": [
    "results = []\n",
    "for line in get_data(day=2, year=2024).splitlines():\n",
    "    array = np.fromstring(line, dtype=int, sep=\" \")\n",
    "    safe = assess(array)\n",
    "\n",
    "    results.append(safe)"
   ]
  },
  {
   "cell_type": "code",
   "execution_count": 117,
   "id": "10de8b2e-2fea-415f-a006-cf854788f44d",
   "metadata": {},
   "outputs": [
    {
     "data": {
      "text/plain": [
       "np.int64(639)"
      ]
     },
     "execution_count": 117,
     "metadata": {},
     "output_type": "execute_result"
    }
   ],
   "source": [
    "count_true(results)"
   ]
  }
 ],
 "metadata": {
  "kernelspec": {
   "display_name": "advent2024",
   "language": "python",
   "name": "advent2024"
  },
  "language_info": {
   "codemirror_mode": {
    "name": "ipython",
    "version": 3
   },
   "file_extension": ".py",
   "mimetype": "text/x-python",
   "name": "python",
   "nbconvert_exporter": "python",
   "pygments_lexer": "ipython3",
   "version": "3.11.4"
  }
 },
 "nbformat": 4,
 "nbformat_minor": 5
}
