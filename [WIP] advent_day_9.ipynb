{
 "cells": [
  {
   "cell_type": "code",
   "execution_count": 1,
   "id": "2384d9c6-57b4-4964-acf6-31d4f3d99f52",
   "metadata": {},
   "outputs": [],
   "source": [
    "from aocd import get_data"
   ]
  },
  {
   "cell_type": "code",
   "execution_count": 3,
   "id": "68bbc512-66c5-4e9b-8e87-7e8a2c5c7ca0",
   "metadata": {},
   "outputs": [],
   "source": [
    "import numpy as np"
   ]
  },
  {
   "cell_type": "markdown",
   "id": "6ad9b408-4c3d-4a28-872a-75f1d9e98bb9",
   "metadata": {},
   "source": [
    "# Day 9: Disk Fragmenter"
   ]
  },
  {
   "cell_type": "markdown",
   "id": "e7425a98-1333-4174-875b-d913ad8afa44",
   "metadata": {},
   "source": [
    "## Part One"
   ]
  },
  {
   "cell_type": "code",
   "execution_count": 153,
   "id": "4028fc39-b4d7-4c7d-b4fd-dc2fd7d4a893",
   "metadata": {},
   "outputs": [],
   "source": [
    "example_input = \"2333133121414131402\""
   ]
  },
  {
   "cell_type": "code",
   "execution_count": 154,
   "id": "590a16dc-c7a0-4075-a8bf-e668a7e36a4c",
   "metadata": {},
   "outputs": [
    {
     "data": {
      "text/plain": [
       "array([2, 3, 3, 3, 1, 3, 3, 1, 2, 1, 4, 1, 4, 1, 3, 1, 4, 0, 2])"
      ]
     },
     "execution_count": 154,
     "metadata": {},
     "output_type": "execute_result"
    }
   ],
   "source": [
    "counts = np.array(list(example_input), dtype=int); counts"
   ]
  },
  {
   "cell_type": "code",
   "execution_count": 155,
   "id": "4d5010bd-eba0-44c4-943f-3253c6760e62",
   "metadata": {},
   "outputs": [
    {
     "data": {
      "text/plain": [
       "19"
      ]
     },
     "execution_count": 155,
     "metadata": {},
     "output_type": "execute_result"
    }
   ],
   "source": [
    "len(counts)"
   ]
  },
  {
   "cell_type": "code",
   "execution_count": 156,
   "id": "57a256f7-8932-4ea1-9078-9b9777ee594e",
   "metadata": {},
   "outputs": [],
   "source": [
    "file_values = np.arange(0, len(list(example_input))//2 + 1)\n",
    "empty_values = np.full(len(list(example_input))//2 + 1, '.')"
   ]
  },
  {
   "cell_type": "code",
   "execution_count": 157,
   "id": "947dcc71-28a1-4439-99d8-eb8561ae6bd8",
   "metadata": {},
   "outputs": [],
   "source": [
    "interleaved = list(itertools.chain(*zip(file_values, empty_values)))"
   ]
  },
  {
   "cell_type": "code",
   "execution_count": 158,
   "id": "38fdf9b3-4551-4693-a581-9cde1fe87521",
   "metadata": {},
   "outputs": [
    {
     "data": {
      "text/plain": [
       "array(['0', '0', '.', '.', '.', '1', '1', '1', '.', '.', '.', '2', '.',\n",
       "       '.', '.', '3', '3', '3', '.', '4', '4', '.', '5', '5', '5', '5',\n",
       "       '.', '6', '6', '6', '6', '.', '7', '7', '7', '.', '8', '8', '8',\n",
       "       '8', '9', '9'], dtype='<U21')"
      ]
     },
     "execution_count": 158,
     "metadata": {},
     "output_type": "execute_result"
    }
   ],
   "source": [
    "blocks = np.repeat(interleaved[:len(counts)], counts); blocks"
   ]
  },
  {
   "cell_type": "code",
   "execution_count": 159,
   "id": "e862aed6-de8a-4dcd-a184-7c608a49e891",
   "metadata": {},
   "outputs": [
    {
     "data": {
      "text/plain": [
       "'00...111...2...333.44.5555.6666.777.888899'"
      ]
     },
     "execution_count": 159,
     "metadata": {},
     "output_type": "execute_result"
    }
   ],
   "source": [
    "''.join(blocks)"
   ]
  },
  {
   "cell_type": "code",
   "execution_count": 82,
   "id": "25eaab60-da6d-4a84-afd1-62e4a9df9568",
   "metadata": {},
   "outputs": [],
   "source": [
    "def shift_blocks(arr):\n",
    "    while '.' in arr:\n",
    "        value = arr[-1]  # get last element \n",
    "        arr = np.delete(arr, -1)  # remove last element, numpy doesn't have pop()\n",
    "        \n",
    "        dot_index = np.where(arr == '.')[0][0]\n",
    "        arr[dot_index] = value\n",
    "    \n",
    "    return arr\n",
    "        "
   ]
  },
  {
   "cell_type": "code",
   "execution_count": 83,
   "id": "19a20784-c10a-4ed2-9985-3ee4edc2ef09",
   "metadata": {},
   "outputs": [],
   "source": [
    "blocks = shift_blocks(blocks)"
   ]
  },
  {
   "cell_type": "code",
   "execution_count": 84,
   "id": "28eebf0f-1142-4a8c-b031-50fd6f28423f",
   "metadata": {},
   "outputs": [
    {
     "data": {
      "text/plain": [
       "array(['0', '0', '9', '9', '8', '1', '1', '1', '8', '8', '8', '2', '7',\n",
       "       '7', '7', '3', '3', '3', '6', '4', '4', '6', '5', '5', '5', '5',\n",
       "       '6', '6'], dtype='<U21')"
      ]
     },
     "execution_count": 84,
     "metadata": {},
     "output_type": "execute_result"
    }
   ],
   "source": [
    "blocks"
   ]
  },
  {
   "cell_type": "code",
   "execution_count": 17,
   "id": "6951ad4c-42d6-4789-b247-78c305cfdccb",
   "metadata": {},
   "outputs": [],
   "source": [
    "positions = np.arange(0, len(blocks))\n",
    "checksum = np.sum(positions * blocks.astype(int))"
   ]
  },
  {
   "cell_type": "code",
   "execution_count": 18,
   "id": "ee94ee54-ef4b-4765-a495-d4d2dfeee18e",
   "metadata": {},
   "outputs": [
    {
     "data": {
      "text/plain": [
       "np.int64(1928)"
      ]
     },
     "execution_count": 18,
     "metadata": {},
     "output_type": "execute_result"
    }
   ],
   "source": [
    "checksum"
   ]
  },
  {
   "cell_type": "markdown",
   "id": "38efce60-7584-420f-a490-343c73b804a6",
   "metadata": {},
   "source": [
    "`shift_blocks` isn't efficient for a larger dataset - we can do better"
   ]
  },
  {
   "cell_type": "code",
   "execution_count": 149,
   "id": "334438fa-d0d1-49c0-a543-934b07193d6c",
   "metadata": {},
   "outputs": [],
   "source": [
    "def replace_dots_with_reversed(arr):\n",
    "    # reverse array and remove dots\n",
    "    reversed_array = arr[::-1][arr[::-1] != '.']\n",
    "    # find all indices for dots and replace\n",
    "    dot_indices = np.where(arr == '.')\n",
    "    arr[dot_indices] = reversed_array[:len(arr[dot_indices])]\n",
    "    # num of ints in array should be the same as originally\n",
    "    return arr[:len(reversed_array)]"
   ]
  },
  {
   "cell_type": "code",
   "execution_count": 150,
   "id": "c9c17bae-6160-44eb-8b58-baa62fe1ef9d",
   "metadata": {},
   "outputs": [],
   "source": [
    "test_array = np.array(['1','.','.','2','.','3','4'])"
   ]
  },
  {
   "cell_type": "code",
   "execution_count": 152,
   "id": "6064816f-f529-43f3-b5f2-8464226f924b",
   "metadata": {},
   "outputs": [
    {
     "data": {
      "text/plain": [
       "array(['1', '4', '3', '2'], dtype='<U1')"
      ]
     },
     "execution_count": 152,
     "metadata": {},
     "output_type": "execute_result"
    }
   ],
   "source": [
    "replace_dots_with_reversed(test_array)"
   ]
  },
  {
   "cell_type": "code",
   "execution_count": 160,
   "id": "bb7dfd04-4f95-4f20-8de2-c374a33eb40b",
   "metadata": {},
   "outputs": [
    {
     "data": {
      "text/plain": [
       "array(['0', '0', '9', '9', '8', '1', '1', '1', '8', '8', '8', '2', '7',\n",
       "       '7', '7', '3', '3', '3', '6', '4', '4', '6', '5', '5', '5', '5',\n",
       "       '6', '6'], dtype='<U21')"
      ]
     },
     "execution_count": 160,
     "metadata": {},
     "output_type": "execute_result"
    }
   ],
   "source": [
    "replace_dots_with_reversed(blocks)"
   ]
  },
  {
   "cell_type": "code",
   "execution_count": 174,
   "id": "22f0f53d-d8d4-4b23-9eb1-bd334be47697",
   "metadata": {},
   "outputs": [],
   "source": [
    "data = get_data(day=9, year=2024)"
   ]
  },
  {
   "cell_type": "code",
   "execution_count": 161,
   "id": "760d04f3-4619-47dd-8460-e18cce5192c0",
   "metadata": {},
   "outputs": [],
   "source": [
    "import itertools\n",
    "\n",
    "def calculate(data):\n",
    "    # set up data\n",
    "    counts = np.array(list(data), dtype=int)\n",
    "    file_values = np.arange(0, len(data)//2 + 1)\n",
    "    empty_values = np.full(len(data)//2 + 1, '.')\n",
    "    interleaved = list(itertools.chain(*zip(file_values, empty_values)))\n",
    "    blocks = np.repeat(interleaved[:len(counts)], counts)\n",
    "\n",
    "    # run \"defragger\"\n",
    "    blocks = replace_dots_with_reversed(blocks)\n",
    "    \n",
    "    positions = np.arange(0, len(blocks))\n",
    "    checksum = np.sum(positions * blocks.astype(int))\n",
    "    \n",
    "    return checksum"
   ]
  },
  {
   "cell_type": "code",
   "execution_count": 163,
   "id": "b5c89b46-0cf6-4f0a-a19f-367e550162b9",
   "metadata": {},
   "outputs": [
    {
     "data": {
      "text/plain": [
       "np.int64(6370402949053)"
      ]
     },
     "execution_count": 163,
     "metadata": {},
     "output_type": "execute_result"
    }
   ],
   "source": [
    "calculate(data)"
   ]
  },
  {
   "cell_type": "markdown",
   "id": "d416fe67-9607-4543-895a-eb6728ce6a36",
   "metadata": {},
   "source": [
    "## Part Two"
   ]
  },
  {
   "cell_type": "markdown",
   "id": "b0d0a3cc-6dcc-440c-90a2-ae78e2e0a9bd",
   "metadata": {},
   "source": [
    "The eager amphipod already has a new plan: rather than move individual blocks, he'd like to try compacting the files on his disk by moving whole files instead.\n",
    "\n",
    "This time, attempt to move whole files to the leftmost span of free space blocks that could fit the file. Attempt to move each file exactly once in order of decreasing file ID number starting with the file with the highest file ID number. If there is no span of free space to the left of a file that is large enough to fit the file, the file does not move.\n",
    "\n",
    "Start over, now compacting the amphipod's hard drive using this new method instead. What is the resulting filesystem checksum?\n",
    "\n"
   ]
  },
  {
   "cell_type": "code",
   "execution_count": 223,
   "id": "c1215bc8-fe6b-447f-984a-5272d1a0d809",
   "metadata": {},
   "outputs": [],
   "source": [
    "keys = np.array(list(data), dtype=int)\n",
    "\n",
    "file_values = np.arange(0, len(data)//2 + 1)\n",
    "empty_values = np.full(len(data)//2 + 1, '.')\n",
    "values = list(itertools.chain(*zip(file_values, empty_values)))[:len(keys)]\n",
    "\n",
    "counts = np.stack((keys, values), axis=1)"
   ]
  },
  {
   "cell_type": "code",
   "execution_count": 224,
   "id": "a3db96fc-6e17-4a48-850b-c14711b41464",
   "metadata": {},
   "outputs": [
    {
     "data": {
      "text/plain": [
       "array([['1', '0'],\n",
       "       ['2', '.'],\n",
       "       ['3', '1'],\n",
       "       ...,\n",
       "       ['8', '9998'],\n",
       "       ['9', '.'],\n",
       "       ['7', '9999']], dtype='<U21')"
      ]
     },
     "execution_count": 224,
     "metadata": {},
     "output_type": "execute_result"
    }
   ],
   "source": [
    "counts"
   ]
  },
  {
   "cell_type": "code",
   "execution_count": 225,
   "id": "4c90a422-7737-4416-a30b-051da56e1ea3",
   "metadata": {},
   "outputs": [],
   "source": [
    "r_keys = np.array(list(reversed(keys)))\n",
    "r_values = np.array(list(reversed(values)))"
   ]
  },
  {
   "cell_type": "code",
   "execution_count": 244,
   "id": "34f35c7f-7dc7-477c-9452-d484848040bd",
   "metadata": {},
   "outputs": [],
   "source": [
    "reversed_counts = counts[::-1][(reversed_counts[:, 1] != '.')]"
   ]
  },
  {
   "cell_type": "code",
   "execution_count": 245,
   "id": "66c6b295-dc88-4fc8-903f-cdf29b3c7bb5",
   "metadata": {},
   "outputs": [
    {
     "data": {
      "text/plain": [
       "array([['7', '9999'],\n",
       "       ['8', '9998'],\n",
       "       ['7', '9997'],\n",
       "       ...,\n",
       "       ['6', '2'],\n",
       "       ['3', '1'],\n",
       "       ['1', '0']], dtype='<U21')"
      ]
     },
     "execution_count": 245,
     "metadata": {},
     "output_type": "execute_result"
    }
   ],
   "source": [
    "reversed_counts"
   ]
  },
  {
   "cell_type": "code",
   "execution_count": 210,
   "id": "49c2ad17-5e47-45ff-ac16-1c46a13c5aeb",
   "metadata": {},
   "outputs": [
    {
     "data": {
      "text/plain": [
       "array([['2', '.'],\n",
       "       ['4', '.'],\n",
       "       ['4', '.'],\n",
       "       ...,\n",
       "       ['0', '.'],\n",
       "       ['7', '.'],\n",
       "       ['9', '.']], dtype='<U21')"
      ]
     },
     "execution_count": 210,
     "metadata": {},
     "output_type": "execute_result"
    }
   ],
   "source": [
    "indices = np.where(np.array(values[:len(keys)]) == '.')\n",
    "counts[indices]"
   ]
  },
  {
   "cell_type": "code",
   "execution_count": 230,
   "id": "56492223-ac9c-49e0-a548-7827ec13845c",
   "metadata": {},
   "outputs": [
    {
     "data": {
      "text/plain": [
       "array([['7', '9999'],\n",
       "       ['7', '9997'],\n",
       "       ['7', '9990'],\n",
       "       ...,\n",
       "       ['7', '73'],\n",
       "       ['7', '31'],\n",
       "       ['7', '14']], dtype='<U21')"
      ]
     },
     "execution_count": 230,
     "metadata": {},
     "output_type": "execute_result"
    }
   ],
   "source": [
    "condition = (reversed_counts[:, 0] == '7') & (reversed_counts[:, 1] != '.')\n",
    "reversed_counts[condition]"
   ]
  },
  {
   "cell_type": "code",
   "execution_count": 246,
   "id": "110f475b-d338-4b82-9d1e-3894b33d9cf1",
   "metadata": {},
   "outputs": [
    {
     "name": "stdout",
     "output_type": "stream",
     "text": [
      "1\n",
      "0\n",
      "1146\n",
      "2\n",
      "1070\n",
      "1059\n",
      "3\n",
      "958\n",
      "1119\n",
      "4\n",
      "1014\n",
      "1117\n",
      "5\n",
      "979\n",
      "1058\n",
      "6\n",
      "1015\n",
      "1163\n",
      "7\n",
      "998\n",
      "1105\n",
      "8\n",
      "1035\n",
      "1106\n",
      "9\n",
      "1035\n",
      "1127\n"
     ]
    }
   ],
   "source": [
    "for i in range(1, 10):\n",
    "    print(i)\n",
    "    replace_condition = (counts[:, 0] == f'{i}') & (counts[:, 1] == '.')    \n",
    "    print(len(counts[replace_condition]))\n",
    "    condition = (reversed_counts[:, 0] == f'{i}') & (reversed_counts[:, 1] != '.')\n",
    "    print(len(reversed_counts[condition]))\n",
    "\n",
    "    counts[replace_condition][:len(reversed_counts[condition])] = reversed_counts[condition][:len(counts[replace_condition])]"
   ]
  },
  {
   "cell_type": "markdown",
   "id": "b22d7583-459b-4d46-9a87-e8ccae4e965c",
   "metadata": {},
   "source": [
    "Need to extend "
   ]
  }
 ],
 "metadata": {
  "kernelspec": {
   "display_name": "advent2024",
   "language": "python",
   "name": "advent2024"
  },
  "language_info": {
   "codemirror_mode": {
    "name": "ipython",
    "version": 3
   },
   "file_extension": ".py",
   "mimetype": "text/x-python",
   "name": "python",
   "nbconvert_exporter": "python",
   "pygments_lexer": "ipython3",
   "version": "3.11.4"
  }
 },
 "nbformat": 4,
 "nbformat_minor": 5
}
