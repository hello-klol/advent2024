{
 "cells": [
  {
   "cell_type": "code",
   "execution_count": 35,
   "id": "2384d9c6-57b4-4964-acf6-31d4f3d99f52",
   "metadata": {},
   "outputs": [],
   "source": [
    "from aocd import get_data"
   ]
  },
  {
   "cell_type": "markdown",
   "id": "6ad9b408-4c3d-4a28-872a-75f1d9e98bb9",
   "metadata": {},
   "source": [
    "# Day 9: Disk Fragmenter"
   ]
  },
  {
   "cell_type": "markdown",
   "id": "e7425a98-1333-4174-875b-d913ad8afa44",
   "metadata": {},
   "source": [
    "## Part One"
   ]
  },
  {
   "cell_type": "code",
   "execution_count": 1,
   "id": "4028fc39-b4d7-4c7d-b4fd-dc2fd7d4a893",
   "metadata": {},
   "outputs": [],
   "source": [
    "example_input = \"2333133121414131402\""
   ]
  },
  {
   "cell_type": "code",
   "execution_count": 2,
   "id": "68bbc512-66c5-4e9b-8e87-7e8a2c5c7ca0",
   "metadata": {},
   "outputs": [],
   "source": [
    "import numpy as np"
   ]
  },
  {
   "cell_type": "code",
   "execution_count": 3,
   "id": "590a16dc-c7a0-4075-a8bf-e668a7e36a4c",
   "metadata": {},
   "outputs": [
    {
     "data": {
      "text/plain": [
       "array([2, 3, 3, 3, 1, 3, 3, 1, 2, 1, 4, 1, 4, 1, 3, 1, 4, 0, 2])"
      ]
     },
     "execution_count": 3,
     "metadata": {},
     "output_type": "execute_result"
    }
   ],
   "source": [
    "counts = np.array(list(example_input), dtype=int); counts"
   ]
  },
  {
   "cell_type": "code",
   "execution_count": 4,
   "id": "4d5010bd-eba0-44c4-943f-3253c6760e62",
   "metadata": {},
   "outputs": [
    {
     "data": {
      "text/plain": [
       "19"
      ]
     },
     "execution_count": 4,
     "metadata": {},
     "output_type": "execute_result"
    }
   ],
   "source": [
    "len(counts)"
   ]
  },
  {
   "cell_type": "code",
   "execution_count": 5,
   "id": "1c6d31bf-1a46-4d58-ac88-d1e84eca8394",
   "metadata": {},
   "outputs": [
    {
     "data": {
      "text/plain": [
       "array(['0', '.', '1', '.', '2', '.', '3', '.', '4', '.', '5', '.', '6',\n",
       "       '.', '7', '.', '8', '.', '9', '.'], dtype='<U1')"
      ]
     },
     "execution_count": 5,
     "metadata": {},
     "output_type": "execute_result"
    }
   ],
   "source": [
    "values = np.array(list(''.join([f\"{i}.\" for i in range(0, len(example_input)//2 + 1)]))); values"
   ]
  },
  {
   "cell_type": "code",
   "execution_count": 6,
   "id": "09bb853b-aeb1-462a-b867-51da59c7bb74",
   "metadata": {},
   "outputs": [
    {
     "data": {
      "text/plain": [
       "20"
      ]
     },
     "execution_count": 6,
     "metadata": {},
     "output_type": "execute_result"
    }
   ],
   "source": [
    "len(values)"
   ]
  },
  {
   "cell_type": "code",
   "execution_count": 23,
   "id": "38fdf9b3-4551-4693-a581-9cde1fe87521",
   "metadata": {},
   "outputs": [
    {
     "data": {
      "text/plain": [
       "array(['0', '0', '.', '.', '.', '1', '1', '1', '.', '.', '.', '2', '.',\n",
       "       '.', '.', '3', '3', '3', '.', '4', '4', '.', '5', '5', '5', '5',\n",
       "       '.', '6', '6', '6', '6', '.', '7', '7', '7', '.', '8', '8', '8',\n",
       "       '8', '9', '9'], dtype='<U1')"
      ]
     },
     "execution_count": 23,
     "metadata": {},
     "output_type": "execute_result"
    }
   ],
   "source": [
    "blocks = np.repeat(values[:len(counts)], counts); blocks"
   ]
  },
  {
   "cell_type": "code",
   "execution_count": 24,
   "id": "e862aed6-de8a-4dcd-a184-7c608a49e891",
   "metadata": {},
   "outputs": [
    {
     "data": {
      "text/plain": [
       "'00...111...2...333.44.5555.6666.777.888899'"
      ]
     },
     "execution_count": 24,
     "metadata": {},
     "output_type": "execute_result"
    }
   ],
   "source": [
    "''.join(blocks)"
   ]
  },
  {
   "cell_type": "code",
   "execution_count": 25,
   "id": "25eaab60-da6d-4a84-afd1-62e4a9df9568",
   "metadata": {},
   "outputs": [],
   "source": [
    "def shift_blocks(arr):\n",
    "    while '.' in arr:\n",
    "        value = arr[-1]  # get last element \n",
    "        arr = np.delete(arr, -1)  # remove last element, numpy doesn't have pop()\n",
    "        \n",
    "        dot_index = np.where(arr == '.')[0][0]\n",
    "        arr[dot_index] = value\n",
    "    \n",
    "    return arr\n",
    "        "
   ]
  },
  {
   "cell_type": "code",
   "execution_count": 26,
   "id": "19a20784-c10a-4ed2-9985-3ee4edc2ef09",
   "metadata": {},
   "outputs": [],
   "source": [
    "blocks = shift_blocks(blocks)"
   ]
  },
  {
   "cell_type": "code",
   "execution_count": 27,
   "id": "28eebf0f-1142-4a8c-b031-50fd6f28423f",
   "metadata": {},
   "outputs": [
    {
     "data": {
      "text/plain": [
       "array(['0', '0', '9', '9', '8', '1', '1', '1', '8', '8', '8', '2', '7',\n",
       "       '7', '7', '3', '3', '3', '6', '4', '4', '6', '5', '5', '5', '5',\n",
       "       '6', '6'], dtype='<U1')"
      ]
     },
     "execution_count": 27,
     "metadata": {},
     "output_type": "execute_result"
    }
   ],
   "source": [
    "blocks"
   ]
  },
  {
   "cell_type": "code",
   "execution_count": 33,
   "id": "6951ad4c-42d6-4789-b247-78c305cfdccb",
   "metadata": {},
   "outputs": [],
   "source": [
    "positions = np.arange(0, len(blocks))\n",
    "checksum = np.sum(positions * blocks.astype(int))"
   ]
  },
  {
   "cell_type": "code",
   "execution_count": 34,
   "id": "ee94ee54-ef4b-4765-a495-d4d2dfeee18e",
   "metadata": {},
   "outputs": [
    {
     "data": {
      "text/plain": [
       "np.int64(1928)"
      ]
     },
     "execution_count": 34,
     "metadata": {},
     "output_type": "execute_result"
    }
   ],
   "source": [
    "checksum"
   ]
  },
  {
   "cell_type": "code",
   "execution_count": 36,
   "id": "22f0f53d-d8d4-4b23-9eb1-bd334be47697",
   "metadata": {},
   "outputs": [],
   "source": [
    "data = get_data(day=9, year=2024)"
   ]
  },
  {
   "cell_type": "code",
   "execution_count": 37,
   "id": "760d04f3-4619-47dd-8460-e18cce5192c0",
   "metadata": {},
   "outputs": [],
   "source": [
    "def calculate(data):\n",
    "    counts = np.array(list(data), dtype=int)\n",
    "    values = np.array(list(''.join([f\"{i}.\" for i in range(0, len(data)//2 + 1)])))\n",
    "    blocks = np.repeat(values[:len(counts)], counts)\n",
    "    blocks = shift_blocks(blocks)\n",
    "    positions = np.arange(0, len(blocks))\n",
    "    checksum = np.sum(positions * blocks.astype(int))\n",
    "    return checksum"
   ]
  },
  {
   "cell_type": "code",
   "execution_count": 38,
   "id": "b5c89b46-0cf6-4f0a-a19f-367e550162b9",
   "metadata": {},
   "outputs": [
    {
     "data": {
      "text/plain": [
       "np.int64(11422652359)"
      ]
     },
     "execution_count": 38,
     "metadata": {},
     "output_type": "execute_result"
    }
   ],
   "source": [
    "calculate(data)"
   ]
  },
  {
   "cell_type": "code",
   "execution_count": 40,
   "id": "cf9f46a0-ed1c-4096-a40d-5f6a1a678316",
   "metadata": {},
   "outputs": [],
   "source": [
    "counts = np.array(list(data), dtype=int)\n",
    "values = np.array(list(''.join([f\"{i}.\" for i in range(0, len(data)//2 + 1)])))\n",
    "blocks = np.repeat(values[:len(counts)], counts)\n",
    "blocks = shift_blocks(blocks)\n",
    "positions = np.arange(0, len(blocks))\n",
    "checksum = np.sum(positions * blocks.astype(int))"
   ]
  },
  {
   "cell_type": "code",
   "execution_count": 41,
   "id": "c0a0de2e-6bff-4b84-8553-e5de5dd77f92",
   "metadata": {},
   "outputs": [
    {
     "data": {
      "text/plain": [
       "array(['0', '1', '1', ..., '3', '3', '8'], dtype='<U1')"
      ]
     },
     "execution_count": 41,
     "metadata": {},
     "output_type": "execute_result"
    }
   ],
   "source": [
    "blocks"
   ]
  },
  {
   "cell_type": "code",
   "execution_count": 42,
   "id": "50f50cd7-39af-4001-9099-87021b9511d2",
   "metadata": {},
   "outputs": [
    {
     "data": {
      "text/plain": [
       "75910"
      ]
     },
     "execution_count": 42,
     "metadata": {},
     "output_type": "execute_result"
    }
   ],
   "source": [
    "len(blocks)"
   ]
  },
  {
   "cell_type": "code",
   "execution_count": 43,
   "id": "012e4414-c582-4a29-bc64-c8f5d415dfd4",
   "metadata": {},
   "outputs": [
    {
     "data": {
      "text/plain": [
       "array([    0,     1,     2, ..., 75907, 75908, 75909])"
      ]
     },
     "execution_count": 43,
     "metadata": {},
     "output_type": "execute_result"
    }
   ],
   "source": [
    "positions"
   ]
  },
  {
   "cell_type": "code",
   "execution_count": 44,
   "id": "058be5fd-dcbb-45a5-97ce-5fdb602c586a",
   "metadata": {},
   "outputs": [
    {
     "data": {
      "text/plain": [
       "array(['0', '1', '1', '1', '1', '1', '1', '1', '1', '1', '2', '2', '2',\n",
       "       '2', '2', '2', '1', '2', '2', '2'], dtype='<U1')"
      ]
     },
     "execution_count": 44,
     "metadata": {},
     "output_type": "execute_result"
    }
   ],
   "source": [
    "blocks[:20]"
   ]
  },
  {
   "cell_type": "code",
   "execution_count": 45,
   "id": "be0b2739-d3b1-458c-8d5f-9b02893c3c2f",
   "metadata": {},
   "outputs": [
    {
     "data": {
      "text/plain": [
       "'12346494626111444530'"
      ]
     },
     "execution_count": 45,
     "metadata": {},
     "output_type": "execute_result"
    }
   ],
   "source": [
    "data[:20]"
   ]
  },
  {
   "cell_type": "code",
   "execution_count": null,
   "id": "f1e6ef6e-2ffd-48a4-88de-7a7a630436bd",
   "metadata": {},
   "outputs": [],
   "source": []
  }
 ],
 "metadata": {
  "kernelspec": {
   "display_name": "advent2024",
   "language": "python",
   "name": "advent2024"
  },
  "language_info": {
   "codemirror_mode": {
    "name": "ipython",
    "version": 3
   },
   "file_extension": ".py",
   "mimetype": "text/x-python",
   "name": "python",
   "nbconvert_exporter": "python",
   "pygments_lexer": "ipython3",
   "version": "3.11.4"
  }
 },
 "nbformat": 4,
 "nbformat_minor": 5
}
