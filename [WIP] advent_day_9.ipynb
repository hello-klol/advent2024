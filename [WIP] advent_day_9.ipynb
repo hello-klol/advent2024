{
 "cells": [
  {
   "cell_type": "code",
   "execution_count": 1,
   "id": "2384d9c6-57b4-4964-acf6-31d4f3d99f52",
   "metadata": {},
   "outputs": [],
   "source": [
    "from aocd import get_data"
   ]
  },
  {
   "cell_type": "markdown",
   "id": "6ad9b408-4c3d-4a28-872a-75f1d9e98bb9",
   "metadata": {},
   "source": [
    "# Day 9: Disk Fragmenter"
   ]
  },
  {
   "cell_type": "markdown",
   "id": "e7425a98-1333-4174-875b-d913ad8afa44",
   "metadata": {},
   "source": [
    "## Part One"
   ]
  },
  {
   "cell_type": "code",
   "execution_count": 60,
   "id": "4028fc39-b4d7-4c7d-b4fd-dc2fd7d4a893",
   "metadata": {},
   "outputs": [
    {
     "data": {
      "text/plain": [
       "array([2, 3, 3, 3, 1, 3, 3, 1, 2, 1, 4, 1, 4, 1, 3, 1, 4, 0, 2])"
      ]
     },
     "execution_count": 60,
     "metadata": {},
     "output_type": "execute_result"
    }
   ],
   "source": [
    "import numpy as np\n",
    "\n",
    "example_input = \"2333133121414131402\"\n",
    "counts = np.array(list(example_input), dtype=int); counts"
   ]
  },
  {
   "cell_type": "code",
   "execution_count": 61,
   "id": "4d5010bd-eba0-44c4-943f-3253c6760e62",
   "metadata": {},
   "outputs": [
    {
     "data": {
      "text/plain": [
       "19"
      ]
     },
     "execution_count": 61,
     "metadata": {},
     "output_type": "execute_result"
    }
   ],
   "source": [
    "len(counts)"
   ]
  },
  {
   "cell_type": "markdown",
   "id": "8949a117-76e1-4f89-b3be-313963661bb5",
   "metadata": {},
   "source": [
    "First we need to convert the input into the file representation:"
   ]
  },
  {
   "cell_type": "code",
   "execution_count": 62,
   "id": "57a256f7-8932-4ea1-9078-9b9777ee594e",
   "metadata": {},
   "outputs": [],
   "source": [
    "file_values = np.arange(0, len(list(example_input))//2 + 1)\n",
    "empty_values = np.full(len(list(example_input))//2 + 1, '.')"
   ]
  },
  {
   "cell_type": "code",
   "execution_count": 63,
   "id": "947dcc71-28a1-4439-99d8-eb8561ae6bd8",
   "metadata": {},
   "outputs": [
    {
     "data": {
      "text/plain": [
       "array(['0', '.', '1', '.', '2', '.', '3', '.', '4', '.', '5', '.', '6',\n",
       "       '.', '7', '.', '8', '.', '9', '.'], dtype='<U21')"
      ]
     },
     "execution_count": 63,
     "metadata": {},
     "output_type": "execute_result"
    }
   ],
   "source": [
    "import itertools\n",
    "interleaved = np.array(list(itertools.chain(*zip(file_values, empty_values))), dtype=str); interleaved"
   ]
  },
  {
   "cell_type": "code",
   "execution_count": 64,
   "id": "38fdf9b3-4551-4693-a581-9cde1fe87521",
   "metadata": {},
   "outputs": [
    {
     "data": {
      "text/plain": [
       "array(['0', '0', '.', '.', '.', '1', '1', '1', '.', '.', '.', '2', '.',\n",
       "       '.', '.', '3', '3', '3', '.', '4', '4', '.', '5', '5', '5', '5',\n",
       "       '.', '6', '6', '6', '6', '.', '7', '7', '7', '.', '8', '8', '8',\n",
       "       '8', '9', '9'], dtype='<U21')"
      ]
     },
     "execution_count": 64,
     "metadata": {},
     "output_type": "execute_result"
    }
   ],
   "source": [
    "blocks = np.repeat(interleaved[:len(counts)], counts); blocks"
   ]
  },
  {
   "cell_type": "code",
   "execution_count": 65,
   "id": "e862aed6-de8a-4dcd-a184-7c608a49e891",
   "metadata": {},
   "outputs": [
    {
     "data": {
      "text/plain": [
       "'00...111...2...333.44.5555.6666.777.888899'"
      ]
     },
     "execution_count": 65,
     "metadata": {},
     "output_type": "execute_result"
    }
   ],
   "source": [
    "''.join(blocks)"
   ]
  },
  {
   "cell_type": "markdown",
   "id": "de4744b2-a5e8-4c26-9435-110fe78f0fbf",
   "metadata": {},
   "source": [
    "#### Apprach 1:"
   ]
  },
  {
   "cell_type": "markdown",
   "id": "4b791e22-3fa7-4b9d-be44-60f17e32d61b",
   "metadata": {},
   "source": [
    "Now we have our file representation we need to actually do the work of defragging"
   ]
  },
  {
   "cell_type": "code",
   "execution_count": 15,
   "id": "25eaab60-da6d-4a84-afd1-62e4a9df9568",
   "metadata": {},
   "outputs": [],
   "source": [
    "def shift_blocks(arr):\n",
    "    while '.' in arr:\n",
    "        value = arr[-1]  # get last element \n",
    "        arr = np.delete(arr, -1)  # remove last element, numpy doesn't have pop()\n",
    "        \n",
    "        dot_index = np.where(arr == '.')[0][0]\n",
    "        arr[dot_index] = value\n",
    "    \n",
    "    return arr\n",
    "        "
   ]
  },
  {
   "cell_type": "code",
   "execution_count": 16,
   "id": "19a20784-c10a-4ed2-9985-3ee4edc2ef09",
   "metadata": {},
   "outputs": [
    {
     "data": {
      "text/plain": [
       "array(['0', '0', '9', '9', '8', '1', '1', '1', '8', '8', '8', '2', '7',\n",
       "       '7', '7', '3', '3', '3', '6', '4', '4', '6', '5', '5', '5', '5',\n",
       "       '6', '6'], dtype='<U21')"
      ]
     },
     "execution_count": 16,
     "metadata": {},
     "output_type": "execute_result"
    }
   ],
   "source": [
    "blocks = shift_blocks(blocks); blocks"
   ]
  },
  {
   "cell_type": "code",
   "execution_count": 17,
   "id": "6951ad4c-42d6-4789-b247-78c305cfdccb",
   "metadata": {},
   "outputs": [
    {
     "data": {
      "text/plain": [
       "np.int64(1928)"
      ]
     },
     "execution_count": 17,
     "metadata": {},
     "output_type": "execute_result"
    }
   ],
   "source": [
    "positions = np.arange(0, len(blocks))\n",
    "checksum = np.sum(positions * blocks.astype(int)); checksum"
   ]
  },
  {
   "cell_type": "markdown",
   "id": "8738140d-ae6c-4d3e-a9a8-2e5707bf0a01",
   "metadata": {},
   "source": [
    "#### Approach 2:"
   ]
  },
  {
   "cell_type": "markdown",
   "id": "38efce60-7584-420f-a490-343c73b804a6",
   "metadata": {},
   "source": [
    "`shift_blocks` isn't efficient for a larger dataset - we can do better"
   ]
  },
  {
   "cell_type": "code",
   "execution_count": 18,
   "id": "334438fa-d0d1-49c0-a543-934b07193d6c",
   "metadata": {},
   "outputs": [],
   "source": [
    "def replace_dots_with_reversed(arr):\n",
    "    # reverse array and remove dots\n",
    "    reversed_array = arr[::-1][arr[::-1] != '.']\n",
    "    # find all indices for dots and replace\n",
    "    dot_indices = np.where(arr == '.')\n",
    "    arr[dot_indices] = reversed_array[:len(arr[dot_indices])]\n",
    "    # num of ints in array should be the same as originally\n",
    "    return arr[:len(reversed_array)]"
   ]
  },
  {
   "cell_type": "code",
   "execution_count": 19,
   "id": "c9c17bae-6160-44eb-8b58-baa62fe1ef9d",
   "metadata": {},
   "outputs": [],
   "source": [
    "test_array = np.array(['1','.','.','2','.','3','4'])"
   ]
  },
  {
   "cell_type": "code",
   "execution_count": 20,
   "id": "6064816f-f529-43f3-b5f2-8464226f924b",
   "metadata": {},
   "outputs": [
    {
     "data": {
      "text/plain": [
       "array(['1', '4', '3', '2'], dtype='<U1')"
      ]
     },
     "execution_count": 20,
     "metadata": {},
     "output_type": "execute_result"
    }
   ],
   "source": [
    "replace_dots_with_reversed(test_array)"
   ]
  },
  {
   "cell_type": "code",
   "execution_count": 21,
   "id": "bb7dfd04-4f95-4f20-8de2-c374a33eb40b",
   "metadata": {},
   "outputs": [
    {
     "data": {
      "text/plain": [
       "array(['0', '0', '9', '9', '8', '1', '1', '1', '8', '8', '8', '2', '7',\n",
       "       '7', '7', '3', '3', '3', '6', '4', '4', '6', '5', '5', '5', '5',\n",
       "       '6', '6'], dtype='<U21')"
      ]
     },
     "execution_count": 21,
     "metadata": {},
     "output_type": "execute_result"
    }
   ],
   "source": [
    "replace_dots_with_reversed(blocks)"
   ]
  },
  {
   "cell_type": "code",
   "execution_count": 22,
   "id": "22f0f53d-d8d4-4b23-9eb1-bd334be47697",
   "metadata": {},
   "outputs": [],
   "source": [
    "data = get_data(day=9, year=2024)"
   ]
  },
  {
   "cell_type": "code",
   "execution_count": 23,
   "id": "760d04f3-4619-47dd-8460-e18cce5192c0",
   "metadata": {},
   "outputs": [],
   "source": [
    "import itertools\n",
    "\n",
    "def calculate(data):\n",
    "    # set up data\n",
    "    counts = np.array(list(data), dtype=int)\n",
    "    file_values = np.arange(0, len(data)//2 + 1)\n",
    "    empty_values = np.full(len(data)//2 + 1, '.')\n",
    "    interleaved = list(itertools.chain(*zip(file_values, empty_values)))\n",
    "    blocks = np.repeat(interleaved[:len(counts)], counts)\n",
    "\n",
    "    # run \"defragger\"\n",
    "    blocks = replace_dots_with_reversed(blocks)\n",
    "    \n",
    "    positions = np.arange(0, len(blocks))\n",
    "    checksum = np.sum(positions * blocks.astype(int))\n",
    "    \n",
    "    return checksum"
   ]
  },
  {
   "cell_type": "code",
   "execution_count": 24,
   "id": "b5c89b46-0cf6-4f0a-a19f-367e550162b9",
   "metadata": {},
   "outputs": [
    {
     "data": {
      "text/plain": [
       "np.int64(6370402949053)"
      ]
     },
     "execution_count": 24,
     "metadata": {},
     "output_type": "execute_result"
    }
   ],
   "source": [
    "calculate(data)"
   ]
  },
  {
   "cell_type": "markdown",
   "id": "d416fe67-9607-4543-895a-eb6728ce6a36",
   "metadata": {},
   "source": [
    "## Part Two"
   ]
  },
  {
   "cell_type": "markdown",
   "id": "b0d0a3cc-6dcc-440c-90a2-ae78e2e0a9bd",
   "metadata": {},
   "source": [
    "The eager amphipod already has a new plan: rather than move individual blocks, he'd like to try compacting the files on his disk by moving whole files instead.\n",
    "\n",
    "This time, attempt to move whole files to the leftmost span of free space blocks that could fit the file. Attempt to move each file exactly once in order of decreasing file ID number starting with the file with the highest file ID number. If there is no span of free space to the left of a file that is large enough to fit the file, the file does not move.\n",
    "\n",
    "Start over, now compacting the amphipod's hard drive using this new method instead. What is the resulting filesystem checksum?\n",
    "\n"
   ]
  },
  {
   "cell_type": "code",
   "execution_count": 101,
   "id": "f56e160e-b67d-404d-98c1-cf705b3dc448",
   "metadata": {},
   "outputs": [],
   "source": [
    "class Block:\n",
    "    b_id: str\n",
    "    length: int\n",
    "\n",
    "    def __init__(self, b_id, length):\n",
    "        self.b_id = str(b_id)\n",
    "        self.length = int(length)\n",
    "\n",
    "    def __repr__(self):\n",
    "        return self.b_id * self.length"
   ]
  },
  {
   "cell_type": "code",
   "execution_count": 102,
   "id": "73135cba-fc0b-4e2d-9b90-216a2e964e88",
   "metadata": {},
   "outputs": [],
   "source": [
    "class Space:\n",
    "    length: int\n",
    "\n",
    "    def __init__(self, length):\n",
    "        self.length = length\n",
    "\n",
    "    def shrink_space(self, length):\n",
    "        \"When a file is placed in the space, the space shrinks\"\n",
    "        self.length -= length\n",
    "\n",
    "    def __repr__(self):\n",
    "        return \".\" * self.length"
   ]
  },
  {
   "cell_type": "markdown",
   "id": "cd3fbb3a-3677-4e7b-a472-82e3ea819538",
   "metadata": {},
   "source": [
    "Now use the above to represent our example input:"
   ]
  },
  {
   "cell_type": "code",
   "execution_count": 103,
   "id": "8fdfd66f-8c47-48b3-ab1f-b56f2ee22f4b",
   "metadata": {},
   "outputs": [
    {
     "data": {
      "text/plain": [
       "array([2, 3, 3, 3, 1, 3, 3, 1, 2, 1, 4, 1, 4, 1, 3, 1, 4, 0, 2])"
      ]
     },
     "execution_count": 103,
     "metadata": {},
     "output_type": "execute_result"
    }
   ],
   "source": [
    "counts"
   ]
  },
  {
   "cell_type": "code",
   "execution_count": 104,
   "id": "9cd13aad-082b-431c-860b-26fef2278b53",
   "metadata": {
    "scrolled": true
   },
   "outputs": [
    {
     "data": {
      "text/plain": [
       "array(['0', '.', '1', '.', '2', '.', '3', '.', '4', '.', '5', '.', '6',\n",
       "       '.', '7', '.', '8', '.', '9', '.'], dtype='<U21')"
      ]
     },
     "execution_count": 104,
     "metadata": {},
     "output_type": "execute_result"
    }
   ],
   "source": [
    "interleaved"
   ]
  },
  {
   "cell_type": "code",
   "execution_count": 228,
   "id": "0b165b2f-f838-450b-9bbb-8a62eb7331a1",
   "metadata": {},
   "outputs": [
    {
     "data": {
      "text/plain": [
       "'00...111...2...333.44.5555.6666.777.888899'"
      ]
     },
     "execution_count": 228,
     "metadata": {},
     "output_type": "execute_result"
    }
   ],
   "source": [
    "files = []\n",
    "for i, j in zip(counts, interleaved):\n",
    "    if j == '.':\n",
    "        files.append(Space(i))\n",
    "    else:\n",
    "        files.append(Block(j, i))\n",
    "        \n",
    "''.join([str(f) for f in files])"
   ]
  },
  {
   "cell_type": "code",
   "execution_count": 229,
   "id": "4108e589-fc3c-47f9-851b-8e47919d611e",
   "metadata": {},
   "outputs": [],
   "source": [
    "def recursive_sort(my_files):\n",
    "    sorted_files = []\n",
    "\n",
    "    last_file = my_files[-1]\n",
    "    for i, el in enumerate(my_files):\n",
    "        print(el)\n",
    "        if isinstance(el, Space) and isinstance(last_file, Block):\n",
    "            print(f\"Moving {last_file=}\")\n",
    "            if last_file.length <= el.length:\n",
    "                el.shrink_space(last_file.length)\n",
    "                print(el)\n",
    "                my_files.insert(i, last_file)  \n",
    "                print(''.join([str(f) for f in my_files[:-1]]))\n",
    "                print('Sort again')\n",
    "                sorted_files = recursive_sort(my_files[:-1])  \n",
    "\n",
    "    # if no space was found, put the block back at the end\n",
    "    sorted_files.append(last_file)  \n",
    "    \n",
    "    return sorted_files"
   ]
  },
  {
   "cell_type": "code",
   "execution_count": 230,
   "id": "e8548fa0-719a-4cbd-8202-15b2a8cebf18",
   "metadata": {},
   "outputs": [
    {
     "name": "stdout",
     "output_type": "stream",
     "text": [
      "00\n",
      "...\n",
      "Moving last_file=99\n",
      ".\n",
      "0099.111...2...333.44.5555.6666.777.8888\n",
      "Sort again\n",
      "00\n",
      "99\n",
      ".\n",
      "111\n",
      "...\n",
      "2\n",
      "...\n",
      "333\n",
      ".\n",
      "44\n",
      ".\n",
      "5555\n",
      ".\n",
      "6666\n",
      ".\n",
      "777\n",
      ".\n",
      "8888\n",
      "\n",
      ".\n",
      "Moving last_file=99\n",
      "111\n",
      "...\n",
      "Moving last_file=99\n",
      ".\n",
      "0099.11199.2...333.44.5555.6666.777.8888\n",
      "Sort again\n",
      "00\n",
      "99\n",
      ".\n",
      "111\n",
      "99\n",
      ".\n",
      "2\n",
      "...\n",
      "333\n",
      ".\n",
      "44\n",
      ".\n",
      "5555\n",
      ".\n",
      "6666\n",
      ".\n",
      "777\n",
      ".\n",
      "8888\n",
      "\n",
      ".\n",
      "Moving last_file=99\n",
      "2\n",
      "...\n",
      "Moving last_file=99\n",
      ".\n",
      "0099.11199.299.333.44.5555.6666.777.8888\n",
      "Sort again\n",
      "00\n",
      "99\n",
      ".\n",
      "111\n",
      "99\n",
      ".\n",
      "2\n",
      "99\n",
      ".\n",
      "333\n",
      ".\n",
      "44\n",
      ".\n",
      "5555\n",
      ".\n",
      "6666\n",
      ".\n",
      "777\n",
      ".\n",
      "8888\n",
      "\n",
      ".\n",
      "Moving last_file=99\n",
      "333\n",
      ".\n",
      "Moving last_file=99\n",
      "44\n",
      ".\n",
      "Moving last_file=99\n",
      "5555\n",
      ".\n",
      "Moving last_file=99\n",
      "6666\n",
      ".\n",
      "Moving last_file=99\n",
      "777\n",
      ".\n",
      "Moving last_file=99\n",
      "8888\n",
      "\n",
      "Moving last_file=99\n",
      "99\n"
     ]
    }
   ],
   "source": [
    "sort_1 = recursive_sort(files)"
   ]
  },
  {
   "cell_type": "code",
   "execution_count": 231,
   "id": "b917f50a-446d-4dc7-99f6-1b0a4c638e08",
   "metadata": {},
   "outputs": [
    {
     "data": {
      "text/plain": [
       "'99'"
      ]
     },
     "execution_count": 231,
     "metadata": {},
     "output_type": "execute_result"
    }
   ],
   "source": [
    "''.join([str(f) for f in sort_1])"
   ]
  },
  {
   "cell_type": "code",
   "execution_count": 146,
   "id": "54b88282-34ad-4e02-be71-8899cf1d4bfd",
   "metadata": {},
   "outputs": [
    {
     "data": {
      "text/plain": [
       "'0099.111...2...333.44.5555.6666.777.8888'"
      ]
     },
     "execution_count": 146,
     "metadata": {},
     "output_type": "execute_result"
    }
   ],
   "source": [
    "''.join([str(f) for f in recursive_sort(sort_1)])"
   ]
  },
  {
   "cell_type": "code",
   "execution_count": 147,
   "id": "ba94d765-0d59-44b1-a68a-2f8db261c233",
   "metadata": {},
   "outputs": [
    {
     "data": {
      "text/plain": [
       "[00, 99, ., 111, ..., 2, ..., 333, ., 44, ., 5555, ., 6666, ., 777, ., 8888, ]"
      ]
     },
     "execution_count": 147,
     "metadata": {},
     "output_type": "execute_result"
    }
   ],
   "source": [
    "sort_1"
   ]
  },
  {
   "cell_type": "markdown",
   "id": "089defd5-e685-40ae-9cdb-2c524d6ac2a9",
   "metadata": {},
   "source": [
    "Still not right - need to be moving the 2 and 4's.. why does it stop?"
   ]
  },
  {
   "cell_type": "code",
   "execution_count": null,
   "id": "704c37bc-34fb-4d3c-bd40-415603a8239f",
   "metadata": {},
   "outputs": [],
   "source": []
  }
 ],
 "metadata": {
  "kernelspec": {
   "display_name": "advent2024",
   "language": "python",
   "name": "advent2024"
  },
  "language_info": {
   "codemirror_mode": {
    "name": "ipython",
    "version": 3
   },
   "file_extension": ".py",
   "mimetype": "text/x-python",
   "name": "python",
   "nbconvert_exporter": "python",
   "pygments_lexer": "ipython3",
   "version": "3.11.4"
  }
 },
 "nbformat": 4,
 "nbformat_minor": 5
}
