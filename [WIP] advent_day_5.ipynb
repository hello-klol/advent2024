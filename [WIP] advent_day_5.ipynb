{
 "cells": [
  {
   "cell_type": "code",
   "execution_count": 1,
   "id": "6bc08865-f422-4e8a-b918-07225c3cad70",
   "metadata": {},
   "outputs": [],
   "source": [
    "from aocd import get_data\n",
    "import numpy as np"
   ]
  },
  {
   "cell_type": "markdown",
   "id": "4449ae8e-85d3-4a66-a7a3-21cfef82564b",
   "metadata": {},
   "source": [
    "Safety protocols clearly indicate that new pages for the safety manuals must be printed in a very specific order. The notation `X|Y` means that if both page number `X` and page number `Y` are to be produced as part of an update, page number `X` must be printed at some point before page number `Y`.\n",
    "\n",
    "The Elf has for you both the page ordering rules and the pages to produce in each update (your puzzle input), but can't figure out whether each update has the pages in the right order.\n",
    "\n",
    "The first section specifies the page ordering rules, one per line. The first rule, `47|53`, means that if an update includes both page number `47` and page number `53`, then page number `47` must be printed at some point before page number `53`. (`47` doesn't necessarily need to be immediately before `53`; other pages are allowed to be between them.)\n",
    "\n",
    "The second section specifies the page numbers of each update. Because most safety manuals are different, the pages needed in the updates are different too. The first update, `75,47,61,53,29`, means that the update consists of page numbers `75`, `47`, `61`, `53`, and `29`.\n",
    "\n",
    "Start by identifying which updates are already in the right order.\n",
    "\n",
    "In the above example, the first update `(75,47,61,53,29)` is in the right order:\n",
    "\n",
    "`75` is correctly first because there are rules that put each other page after it: `75|47`, `75|61`, `75|53`, and `75|29`.\n",
    "\n",
    "`47` is correctly second because `75` must be before it `(75|47)` and every other page must be after it according to `47|61`, `47|53`, and `47|29`.\n",
    "\n",
    "`61` is correctly in the middle because `75` and `47` are before it (`75|61` and `47|61`) and `53` and `29` are after it (`61|53` and `61|29`).\n",
    "\n",
    "`53` is correctly fourth because it is before page number `29` (`53|29`).\n",
    "\n",
    "`29` is the only page left and so is correctly last.\n",
    "\n",
    "Because the first update does not include some page numbers, the ordering rules involving those missing page numbers are ignored."
   ]
  },
  {
   "cell_type": "code",
   "execution_count": 18,
   "id": "85973d67-e13c-470e-a9ba-894a29ad1e0a",
   "metadata": {},
   "outputs": [],
   "source": [
    "rules_str, updates = get_data(day=5, year=2024).split('\\n\\n')[:2]"
   ]
  },
  {
   "cell_type": "code",
   "execution_count": 3,
   "id": "7ecc08c5-e0f8-4bbf-86da-3c600fd8aa21",
   "metadata": {},
   "outputs": [],
   "source": [
    "rules = np.genfromtxt(rules_str.strip().splitlines(), delimiter=\"|\", dtype=int)"
   ]
  },
  {
   "cell_type": "code",
   "execution_count": 26,
   "id": "3082a573-286c-42fd-ae26-a0e0a682978e",
   "metadata": {},
   "outputs": [
    {
     "data": {
      "text/plain": [
       "array([[76, 18],\n",
       "       [58, 19],\n",
       "       [58, 49],\n",
       "       ...,\n",
       "       [29, 56],\n",
       "       [29, 17],\n",
       "       [19, 93]])"
      ]
     },
     "execution_count": 26,
     "metadata": {},
     "output_type": "execute_result"
    }
   ],
   "source": [
    "rules"
   ]
  },
  {
   "cell_type": "code",
   "execution_count": 4,
   "id": "f26ed88b-cbeb-4f5c-9bd7-42eceac5ee3c",
   "metadata": {},
   "outputs": [],
   "source": [
    "from collections import defaultdict\n",
    "\n",
    "def build_graph(rules):\n",
    "    \"\"\"\n",
    "    Graph where the key represents the number that must come \n",
    "    ahead of any of the elements in the set of value numbers\n",
    "    \"\"\"\n",
    "    graph = defaultdict(set)\n",
    "    for x, y in rules:\n",
    "        graph[x].add(y)\n",
    "    return graph\n",
    "\n",
    "rules_graph = build_graph(rules)"
   ]
  },
  {
   "cell_type": "code",
   "execution_count": 5,
   "id": "01d45a96-644d-46fe-97bb-63d1ef503aca",
   "metadata": {},
   "outputs": [
    {
     "data": {
      "text/plain": [
       "'21,84,35,92,58,33,29,79,56,24,95,28,19,46,37'"
      ]
     },
     "execution_count": 5,
     "metadata": {},
     "output_type": "execute_result"
    }
   ],
   "source": [
    "updates_1 = updates.split(\"\\n\")[0]; updates_1"
   ]
  },
  {
   "cell_type": "code",
   "execution_count": 6,
   "id": "d55ef200-669a-490c-92e0-7587cf0806f5",
   "metadata": {},
   "outputs": [],
   "source": [
    "updates_1 = np.genfromtxt(updates_1.strip().splitlines(), delimiter=\",\", dtype=int)"
   ]
  },
  {
   "cell_type": "code",
   "execution_count": 7,
   "id": "c16a8a8a-4640-464d-9141-2d6549628530",
   "metadata": {},
   "outputs": [
    {
     "data": {
      "text/plain": [
       "array([21, 84, 35, 92, 58, 33, 29, 79, 56, 24, 95, 28, 19, 46, 37])"
      ]
     },
     "execution_count": 7,
     "metadata": {},
     "output_type": "execute_result"
    }
   ],
   "source": [
    "updates_1"
   ]
  },
  {
   "cell_type": "markdown",
   "id": "8bcd2d4a-4491-4d42-84fd-a3ca68eb95b9",
   "metadata": {},
   "source": [
    "Work out which rules to apply:"
   ]
  },
  {
   "cell_type": "code",
   "execution_count": 8,
   "id": "4c22b2f7-beca-4e7a-a31f-4bb592206ca0",
   "metadata": {},
   "outputs": [],
   "source": [
    "matches_left = np.isin(rules[:, 0], list(updates_1))\n",
    "matches_right = np.isin(rules[:, 1], list(updates_1))\n",
    "\n",
    "both_matches = matches_left & matches_right"
   ]
  },
  {
   "cell_type": "code",
   "execution_count": 9,
   "id": "b006cc54-8d80-48ce-8203-35725d6561ea",
   "metadata": {},
   "outputs": [
    {
     "data": {
      "text/plain": [
       "array([False,  True, False, ...,  True, False, False])"
      ]
     },
     "execution_count": 9,
     "metadata": {},
     "output_type": "execute_result"
    }
   ],
   "source": [
    "both_matches"
   ]
  },
  {
   "cell_type": "markdown",
   "id": "cca816a6-1d36-45ad-a7de-feaf82ac5f4e",
   "metadata": {},
   "source": [
    "The below set represents all the keys to look up in the rules graph to assess whether the rule is followed"
   ]
  },
  {
   "cell_type": "code",
   "execution_count": 58,
   "id": "c9e40622-9e9e-4335-b65f-a0665a12fd3c",
   "metadata": {},
   "outputs": [],
   "source": [
    "def is_update_valid(update):\n",
    "    matches_left = np.isin(rules[:, 0], list(update))\n",
    "    matches_right = np.isin(rules[:, 1], list(update))\n",
    "    \n",
    "    both_matches = matches_left & matches_right\n",
    "    \n",
    "    # map array values to indices for efficient lookups\n",
    "    value_to_index = {value: idx for idx, value in enumerate(update)}\n",
    "    \n",
    "    for key in set(rules[both_matches][:,0]):\n",
    "        key_idx = value_to_index.get(key, None)\n",
    "        \n",
    "        for value in rules_graph[key]:\n",
    "            if value_idx := value_to_index.get(value, None):\n",
    "                if value_idx <= key_idx:\n",
    "                    return False\n",
    "    \n",
    "    return True"
   ]
  },
  {
   "cell_type": "code",
   "execution_count": 61,
   "id": "a4f56fcf-9cb0-4b22-826f-931f9dde3350",
   "metadata": {},
   "outputs": [
    {
     "data": {
      "text/plain": [
       "np.int64(4609)"
      ]
     },
     "execution_count": 61,
     "metadata": {},
     "output_type": "execute_result"
    }
   ],
   "source": [
    "sum_valid = 0\n",
    "for line in updates.splitlines():\n",
    "    update = np.genfromtxt(line.strip().splitlines(), delimiter=\",\", dtype=int)\n",
    "    if is_update_valid(update):\n",
    "        sum_valid += update[len(update)//2]\n",
    "sum_valid"
   ]
  },
  {
   "cell_type": "markdown",
   "id": "f9f86f06-25ff-4a67-9262-69bd01932e6b",
   "metadata": {},
   "source": [
    "For each of the incorrectly-ordered updates, use the page ordering rules to put the page numbers in the right order. For the above example, here are the three incorrectly-ordered updates and their correct orderings:\n",
    "\n",
    "`75,97,47,61,53` becomes `97,75,47,61,53`.\n",
    "\n",
    "`61,13,29` becomes `61,29,13`.\n",
    "\n",
    "`97,13,75,29,47` becomes `97,75,47,29,13`.\n",
    "\n",
    "After taking only the incorrectly-ordered updates and ordering them correctly, their middle page numbers are 47, 29, and 47. Adding these together produces 123.\n",
    "\n",
    "Find the updates which are not in the correct order. What do you get if you add up the middle page numbers after correctly ordering just those updates?"
   ]
  },
  {
   "cell_type": "code",
   "execution_count": 62,
   "id": "35989b35-5291-49fa-b5ff-fec60b632ba1",
   "metadata": {},
   "outputs": [],
   "source": [
    "def reordered_update(update, rules):\n",
    "    pass"
   ]
  },
  {
   "cell_type": "code",
   "execution_count": null,
   "id": "71d94172-21d1-4e3c-ba78-8ed7a0fc9cd5",
   "metadata": {},
   "outputs": [],
   "source": [
    "sum_corrected = 0\n",
    "for line in updates.splitlines():\n",
    "    update = np.genfromtxt(line.strip().splitlines(), delimiter=\",\", dtype=int)\n",
    "    if not is_update_valid(update):\n",
    "        reordered_update = reorder(update)\n",
    "        sum_corrected += reordered_update[len(update)//2]\n",
    "        \n",
    "sum_corrected"
   ]
  }
 ],
 "metadata": {
  "kernelspec": {
   "display_name": "advent2024",
   "language": "python",
   "name": "advent2024"
  },
  "language_info": {
   "codemirror_mode": {
    "name": "ipython",
    "version": 3
   },
   "file_extension": ".py",
   "mimetype": "text/x-python",
   "name": "python",
   "nbconvert_exporter": "python",
   "pygments_lexer": "ipython3",
   "version": "3.11.4"
  }
 },
 "nbformat": 4,
 "nbformat_minor": 5
}
