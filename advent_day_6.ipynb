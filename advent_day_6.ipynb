{
 "cells": [
  {
   "cell_type": "code",
   "execution_count": 1,
   "id": "651b5d24-c8e4-4cf6-8d08-88ce8d0119ec",
   "metadata": {},
   "outputs": [],
   "source": [
    "from aocd import get_data\n",
    "import numpy as np"
   ]
  },
  {
   "cell_type": "markdown",
   "id": "e67cfc03-bd7b-4bca-b2c1-035a02a96b82",
   "metadata": {},
   "source": [
    "- Create a 2D grid representing the map\n",
    "- Identify the guard's starting position and initial facing direction (`^`, `>`, `v`, or `<`)\n",
    "- If the guard faces an obstacle (`#`) in the direction they are heading, turn 90 degrees to the right\n",
    "  -  Otherwise, move one step forward in the current facing direction\n",
    "- Track and store all distinct positions visited by the guard, including the starting position\n",
    "- Continue moving according to the rules until the guard moves outside the bounds of the grid\n",
    "- Count the number of distinct positions the guard visited\n",
    "- Return the total count of distinct positions"
   ]
  },
  {
   "cell_type": "code",
   "execution_count": 2,
   "id": "127ab6de-599a-4b78-8022-ef42c4e1d57f",
   "metadata": {},
   "outputs": [],
   "source": [
    "direction_map = {\n",
    "        '^': (-1, 0),\n",
    "        '>': (0, 1),\n",
    "        'v': (1, 0),\n",
    "        '<': (0, -1),\n",
    "    }"
   ]
  },
  {
   "cell_type": "code",
   "execution_count": 3,
   "id": "a499a413-7458-419c-904d-fc7171583096",
   "metadata": {},
   "outputs": [],
   "source": [
    "# to be used like turn_right[direction]\n",
    "turn_right = {'^': '>', '>': 'v', 'v': '<', '<': '^'}"
   ]
  },
  {
   "cell_type": "code",
   "execution_count": 4,
   "id": "2939289c-ba95-42ec-bde7-532be4bf5491",
   "metadata": {},
   "outputs": [],
   "source": [
    "def is_within_bounds(pos, grid):\n",
    "    return 0 <= pos[0] < len(grid) and 0 <= pos[1] < len(grid[0])\n",
    "    \n",
    "def hits_obstacle(pos, grid):\n",
    "    return grid[pos[0]][pos[1]] == '#'"
   ]
  },
  {
   "cell_type": "code",
   "execution_count": 22,
   "id": "e80609c2-c943-44c5-a53c-9e47f85bc02c",
   "metadata": {},
   "outputs": [],
   "source": [
    "def simulate_patrol(grid, start_pos, start_dir):\n",
    "    visited = set()\n",
    "    pos, direction = start_pos, start_dir\n",
    "    rows, cols = grid.shape\n",
    "\n",
    "    visited.add((pos, direction))\n",
    "       \n",
    "    while True:\n",
    "        delta_r, delta_c = direction_map[direction]\n",
    "        next_pos = (pos[0] + delta_r, pos[1] + delta_c)\n",
    "\n",
    "        if not is_within_bounds(next_pos, grid):\n",
    "            break\n",
    "            \n",
    "        elif hits_obstacle(next_pos, grid):\n",
    "            direction = turn_right[direction]\n",
    "\n",
    "        else:\n",
    "            pos = next_pos\n",
    "            visited.add((pos, direction))\n",
    "    \n",
    "    return visited\n"
   ]
  },
  {
   "cell_type": "code",
   "execution_count": 23,
   "id": "633b1dd6-856e-44c7-9a2c-91f478f2ad55",
   "metadata": {},
   "outputs": [],
   "source": [
    "ex_grid_str = \"\"\"\n",
    "....#.....\n",
    ".........#\n",
    "..........\n",
    "..#.......\n",
    ".......#..\n",
    "..........\n",
    ".#..^.....\n",
    "........#.\n",
    "#.........\n",
    "......#...\n",
    "\"\"\""
   ]
  },
  {
   "cell_type": "code",
   "execution_count": 24,
   "id": "18900eab-a5a0-4886-92a5-c0391a2fd88a",
   "metadata": {},
   "outputs": [],
   "source": [
    "example_grid = np.array([list(line) for line in ex_grid_str.strip().split(\"\\n\")])"
   ]
  },
  {
   "cell_type": "code",
   "execution_count": 25,
   "id": "ae7aac7f-b066-4565-af3c-ce0468ea30da",
   "metadata": {},
   "outputs": [],
   "source": [
    "def find_start_pos(grid):\n",
    "    mask = np.isin(grid, list(direction_map.keys()))\n",
    "    indices = np.argwhere(mask)\n",
    "    \n",
    "    if len(indices) > 0:\n",
    "        i, j = indices[0]\n",
    "        return (i, j), grid[i, j]\n",
    "    else:\n",
    "        return None, None "
   ]
  },
  {
   "cell_type": "code",
   "execution_count": 26,
   "id": "12b6b010-9973-4a26-b7e1-18a57ceb99c8",
   "metadata": {},
   "outputs": [],
   "source": [
    "ex_start_pos, ex_start_dir = find_start_pos(example_grid)"
   ]
  },
  {
   "cell_type": "code",
   "execution_count": 27,
   "id": "fac46223-08d9-45e5-9c26-8486dfb62747",
   "metadata": {},
   "outputs": [
    {
     "data": {
      "text/plain": [
       "((np.int64(6), np.int64(4)), np.str_('^'))"
      ]
     },
     "execution_count": 27,
     "metadata": {},
     "output_type": "execute_result"
    }
   ],
   "source": [
    "ex_start_pos, ex_start_dir"
   ]
  },
  {
   "cell_type": "code",
   "execution_count": 28,
   "id": "38930de4-1758-48db-a6a4-16ad74c91a6d",
   "metadata": {},
   "outputs": [],
   "source": [
    "visited_positions = simulate_patrol(example_grid, ex_start_pos, ex_start_dir)"
   ]
  },
  {
   "cell_type": "code",
   "execution_count": 29,
   "id": "85cf670a-8561-49f9-a601-f1d7a5b2d6a2",
   "metadata": {},
   "outputs": [
    {
     "data": {
      "text/plain": [
       "45"
      ]
     },
     "execution_count": 29,
     "metadata": {},
     "output_type": "execute_result"
    }
   ],
   "source": [
    "len(visited_positions)"
   ]
  },
  {
   "cell_type": "markdown",
   "id": "fff2baac-702c-4783-898e-4914963d312f",
   "metadata": {},
   "source": [
    "Now for the real data:"
   ]
  },
  {
   "cell_type": "code",
   "execution_count": 30,
   "id": "644cd970-ecef-4346-9175-05da69e59ab9",
   "metadata": {},
   "outputs": [],
   "source": [
    "grid = np.array([list(line) for line in get_data(day=6, year=2024).strip().split(\"\\n\")])"
   ]
  },
  {
   "cell_type": "code",
   "execution_count": 31,
   "id": "bef94248-cccb-4e6d-8c00-ebd9091e841d",
   "metadata": {},
   "outputs": [],
   "source": [
    "start_pos, start_dir = find_start_pos(grid)"
   ]
  },
  {
   "cell_type": "code",
   "execution_count": 32,
   "id": "16277da2-6ee8-4a34-af67-49344c26e370",
   "metadata": {},
   "outputs": [],
   "source": [
    "visited_positions = simulate_patrol(grid, start_pos, start_dir)"
   ]
  },
  {
   "cell_type": "code",
   "execution_count": 33,
   "id": "6f15b50f-2b91-4cc8-bb4b-217a9205bd63",
   "metadata": {},
   "outputs": [
    {
     "data": {
      "text/plain": [
       "5141"
      ]
     },
     "execution_count": 33,
     "metadata": {},
     "output_type": "execute_result"
    }
   ],
   "source": [
    "len(visited_positions)"
   ]
  },
  {
   "cell_type": "markdown",
   "id": "0d97f74f-281e-4df8-8c82-d47ac3c3dee6",
   "metadata": {},
   "source": [
    "### Part Two"
   ]
  },
  {
   "cell_type": "markdown",
   "id": "3f85ad24-7c98-4a78-b1c4-e54afa980c98",
   "metadata": {},
   "source": [
    "Follow the guard's movement rules (move forward unless blocked, then turn right) until they exit the grid or repeat a _position and direction_\n",
    "- Keep track of every (position, direction) pair the guard visits\n",
    "- If the guard visits the same position and direction more than once, they are in a loop\n",
    "\n",
    "Identify Loop-Causing Positions\n",
    "- For each empty position (excluding the starting position), simulate placing an obstruction there\n",
    "- Re-run the patrol simulation with this obstruction in place\n",
    "- Check if the guard gets stuck in a loop \n",
    "- Count the positions where adding an obstruction causes the guard to enter a loop\n",
    "- Exclude the guard's starting position\n"
   ]
  },
  {
   "cell_type": "code",
   "execution_count": 19,
   "id": "f5dec068-ce75-4014-95c1-39c138748fe7",
   "metadata": {},
   "outputs": [],
   "source": [
    "def simulate_patrol(grid, start_pos, start_dir):\n",
    "    visited = set()\n",
    "    pos, direction = start_pos, start_dir\n",
    "    visited.add((pos, direction))\n",
    "    \n",
    "    while True:\n",
    "        # Add detection for looping - this is the only change\n",
    "        if (pos, direction) in visited:\n",
    "            return visited  # The guard is looping\n",
    "        \n",
    "        delta_r, delta_c = direction_map[direction]\n",
    "        next_pos = (pos[0] + delta_r, pos[1] + delta_c)\n",
    "\n",
    "        if not is_within_bounds(next_pos, grid):\n",
    "            break\n",
    "        \n",
    "        elif hits_obstacle(next_pos, grid):\n",
    "            direction = turn_right[direction]\n",
    "        \n",
    "        else:\n",
    "            pos = next_pos\n",
    "            visited.add((pos, direction))\n",
    "\n",
    "def find_loop_positions(grid, start_pos, start_dir):\n",
    "    potential_positions = []\n",
    "    rows, cols = len(grid), len(grid[0])\n",
    "    \n",
    "    for r in range(rows):\n",
    "        for c in range(cols):\n",
    "            if grid[r][c] == '.' and (r, c) != start_pos:\n",
    "                new_grid = [list(row) for row in grid]\n",
    "                new_grid[r][c] = '#'\n",
    "                visited = simulate_patrol(new_grid, start_pos, start_dir)\n",
    "                \n",
    "                if visited:\n",
    "                    potential_positions.append((r, c))\n",
    "                    \n",
    "    return len(potential_positions)\n",
    "\n"
   ]
  },
  {
   "cell_type": "code",
   "execution_count": 20,
   "id": "6ef8286f-778c-413e-a6ca-46710dea13b5",
   "metadata": {},
   "outputs": [
    {
     "data": {
      "text/plain": [
       "6"
      ]
     },
     "execution_count": 20,
     "metadata": {},
     "output_type": "execute_result"
    }
   ],
   "source": [
    "find_loop_positions(example_grid, ex_start_pos, ex_start_dir)"
   ]
  },
  {
   "cell_type": "code",
   "execution_count": 21,
   "id": "a039bb2d-2a8c-4b80-b2c9-e0c251f2533f",
   "metadata": {},
   "outputs": [
    {
     "data": {
      "text/plain": [
       "1575"
      ]
     },
     "execution_count": 21,
     "metadata": {},
     "output_type": "execute_result"
    }
   ],
   "source": [
    "find_loop_positions(grid, start_pos, start_dir)"
   ]
  },
  {
   "cell_type": "code",
   "execution_count": null,
   "id": "b0597e8f-f6d8-4659-8076-a2c60f432d90",
   "metadata": {},
   "outputs": [],
   "source": []
  }
 ],
 "metadata": {
  "kernelspec": {
   "display_name": "advent2024",
   "language": "python",
   "name": "advent2024"
  },
  "language_info": {
   "codemirror_mode": {
    "name": "ipython",
    "version": 3
   },
   "file_extension": ".py",
   "mimetype": "text/x-python",
   "name": "python",
   "nbconvert_exporter": "python",
   "pygments_lexer": "ipython3",
   "version": "3.11.4"
  }
 },
 "nbformat": 4,
 "nbformat_minor": 5
}
