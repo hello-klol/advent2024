{
 "cells": [
  {
   "cell_type": "code",
   "execution_count": 1,
   "id": "c208ed15-d616-45c1-85e1-745a7abebf89",
   "metadata": {},
   "outputs": [],
   "source": [
    "from aocd import get_data"
   ]
  },
  {
   "cell_type": "code",
   "execution_count": 16,
   "id": "856a8125-c809-4b21-bf78-6e0d4a58cb93",
   "metadata": {},
   "outputs": [
    {
     "name": "stdout",
     "output_type": "stream",
     "text": [
      "174960292\n"
     ]
    }
   ],
   "source": [
    "import re\n",
    "import numpy as np\n",
    "\n",
    "my_pattern = r'mul\\((\\d{1,3}),(\\d{1,3})\\)'\n",
    "data = get_data(day=3, year=2024)\n",
    "\n",
    "matches = re.findall(my_pattern, data)\n",
    "\n",
    "if matches: \n",
    "    # vectorized multiplication and summation is faster\n",
    "    arr = np.array(matches, dtype=int)\n",
    "    total = np.sum(arr[:, 0] * arr[:, 1])\n",
    "else:\n",
    "    total = 0\n",
    "\n",
    "print(total)"
   ]
  }
 ],
 "metadata": {
  "kernelspec": {
   "display_name": "advent2024",
   "language": "python",
   "name": "advent2024"
  },
  "language_info": {
   "codemirror_mode": {
    "name": "ipython",
    "version": 3
   },
   "file_extension": ".py",
   "mimetype": "text/x-python",
   "name": "python",
   "nbconvert_exporter": "python",
   "pygments_lexer": "ipython3",
   "version": "3.11.4"
  }
 },
 "nbformat": 4,
 "nbformat_minor": 5
}
