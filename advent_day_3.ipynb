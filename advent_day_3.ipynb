{
 "cells": [
  {
   "cell_type": "code",
   "execution_count": 1,
   "id": "c208ed15-d616-45c1-85e1-745a7abebf89",
   "metadata": {},
   "outputs": [],
   "source": [
    "from aocd import get_data"
   ]
  },
  {
   "cell_type": "markdown",
   "id": "974aa3aa-3345-4358-a0d6-0c40884a768e",
   "metadata": {},
   "source": [
    "The goal of the program is just to multiply some numbers. It does that with instructions like `mul(X,Y)`, where `X` and `Y` are each 1-3 digit numbers. For instance, `mul(44,46)` multiplies 44 by 46 to get a result of 2024. Similarly, `mul(123,4)` would multiply 123 by 4.\n",
    "\n",
    "However, because the program's memory has been corrupted, there are also many invalid characters that should be ignored, even if they look like part of a mul instruction. Sequences like `mul(4*, mul(6,9!, ?(12,34)`, or `mul ( 2 , 4 )` do nothing.\n",
    "\n",
    "For example, consider the following section of corrupted memory:\n",
    "\n",
    "`xmul(2,4)%&mul[3,7]!@^do_not_mul(5,5)+mul(32,64]then(mul(11,8)mul(8,5))`\n",
    "\n",
    "Only the four highlighted sections are real mul instructions. Adding up the result of each instruction produces `161 (2*4 + 5*5 + 11*8 + 8*5)`.\n",
    "\n",
    "Scan the corrupted memory for uncorrupted mul instructions. What do you get if you add up all of the results of the multiplications?"
   ]
  },
  {
   "cell_type": "code",
   "execution_count": 2,
   "id": "856a8125-c809-4b21-bf78-6e0d4a58cb93",
   "metadata": {},
   "outputs": [
    {
     "name": "stdout",
     "output_type": "stream",
     "text": [
      "174960292\n"
     ]
    }
   ],
   "source": [
    "import re\n",
    "import numpy as np\n",
    "\n",
    "my_pattern = r'mul\\((\\d{1,3}),(\\d{1,3})\\)'\n",
    "data = get_data(day=3, year=2024)\n",
    "\n",
    "matches = re.findall(my_pattern, data)\n",
    "\n",
    "if matches: \n",
    "    # vectorized multiplication and summation is faster\n",
    "    arr = np.array(matches, dtype=int)\n",
    "    total = np.sum(arr[:, 0] * arr[:, 1])\n",
    "else:\n",
    "    total = 0\n",
    "\n",
    "print(total)"
   ]
  },
  {
   "cell_type": "markdown",
   "id": "12bff66c-0e8d-4918-8c7e-4b98d40437b8",
   "metadata": {},
   "source": [
    "---\n",
    "\n",
    "There are two new instructions you'll need to handle:\n",
    "\n",
    "The `do()` instruction enables future `mul` instructions.\n",
    "The `don't()` instruction disables future `mul` instructions.\n",
    "\n",
    "Only the most recent `do()` or `don't()` instruction applies. At the beginning of the program, `mul` instructions are enabled."
   ]
  },
  {
   "cell_type": "code",
   "execution_count": 3,
   "id": "27a60ea6-2878-4923-9219-7c0b0e644ec4",
   "metadata": {},
   "outputs": [],
   "source": [
    "valid_section_pattern = r'(^.*?don\\'t\\()|(do\\(\\)?.*?don\\'t\\(\\))|(do\\(\\)?.*?$)'"
   ]
  },
  {
   "cell_type": "code",
   "execution_count": 4,
   "id": "838e1342-2487-4352-999f-1892371b0ca0",
   "metadata": {},
   "outputs": [
    {
     "name": "stdout",
     "output_type": "stream",
     "text": [
      "56275602\n"
     ]
    }
   ],
   "source": [
    "total = 0\n",
    "\n",
    "for entry in re.findall(valid_section_pattern, data, re.DOTALL):\n",
    "    value =  entry[0] or entry[1] or entry[2]  # I know this is an anti pattern but...\n",
    "    matches = re.findall(my_pattern, value)\n",
    "    \n",
    "    if matches: \n",
    "        # vectorized multiplication and summation is faster\n",
    "        arr = np.array(matches, dtype=int)\n",
    "        total += np.sum(arr[:, 0] * arr[:, 1])\n",
    "\n",
    "print(total)"
   ]
  }
 ],
 "metadata": {
  "kernelspec": {
   "display_name": "advent2024",
   "language": "python",
   "name": "advent2024"
  },
  "language_info": {
   "codemirror_mode": {
    "name": "ipython",
    "version": 3
   },
   "file_extension": ".py",
   "mimetype": "text/x-python",
   "name": "python",
   "nbconvert_exporter": "python",
   "pygments_lexer": "ipython3",
   "version": "3.11.4"
  }
 },
 "nbformat": 4,
 "nbformat_minor": 5
}
