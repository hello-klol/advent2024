{
 "cells": [
  {
   "cell_type": "code",
   "execution_count": 1,
   "id": "365f7766-e08a-4bdf-a0d4-f0068d96cd54",
   "metadata": {},
   "outputs": [],
   "source": [
    "from aocd import get_data"
   ]
  },
  {
   "cell_type": "markdown",
   "id": "8f7d4454-3ad3-44bf-b843-b3ed437ee86c",
   "metadata": {},
   "source": [
    "Pair up the smallest number in the left list with the smallest number in the right list, then the second-smallest left number with the second-smallest right number, and so on.\n",
    "\n",
    "Within each pair, figure out how far apart the two numbers are; you'll need to add up all of those distances. \n",
    "\n",
    "For example, if you pair up a 3 from the left list with a 7 from the right list, the distance apart is 4; if you pair up a 9 with a 3, the distance apart is 6.\n",
    "\n",
    "To find the total distance between the left list and the right list, add up the distances between all of the pairs you found."
   ]
  },
  {
   "cell_type": "code",
   "execution_count": 2,
   "id": "4340fa2d-c094-43a2-99fe-43b2f4bbdcd8",
   "metadata": {},
   "outputs": [],
   "source": [
    "import numpy as np\n",
    "\n",
    "def calc_sum_list_distances(list1, list2):\n",
    "    if len(list1) != len(list2):\n",
    "        raise ValueError(\"Lists must be of the same length to calculate distance.\")\n",
    "    \n",
    "    arr1 = np.sort(np.array(list1))\n",
    "    arr2 = np.sort(np.array(list2))\n",
    "    \n",
    "    total_distance = np.sum(np.abs(arr1 - arr2))\n",
    "    \n",
    "    return total_distance"
   ]
  },
  {
   "cell_type": "code",
   "execution_count": 3,
   "id": "abd6c32f-ad0b-4be5-9ab0-15d58a6be3e0",
   "metadata": {},
   "outputs": [],
   "source": [
    "data = np.genfromtxt(get_data(day=1, year=2024).splitlines(), dtype=int)"
   ]
  },
  {
   "cell_type": "code",
   "execution_count": 4,
   "id": "fbc20958-17bb-48f0-b3a3-a36b60423e3d",
   "metadata": {},
   "outputs": [
    {
     "data": {
      "text/plain": [
       "array([[64430, 75582],\n",
       "       [87936, 20843],\n",
       "       [98310, 72035],\n",
       "       ...,\n",
       "       [47390, 75651],\n",
       "       [94550, 80760],\n",
       "       [61539, 20843]])"
      ]
     },
     "execution_count": 4,
     "metadata": {},
     "output_type": "execute_result"
    }
   ],
   "source": [
    "data"
   ]
  },
  {
   "cell_type": "code",
   "execution_count": 5,
   "id": "82f68b00-984a-4868-9e08-7ed73e0a6703",
   "metadata": {},
   "outputs": [],
   "source": [
    "left_column = data[:, 0]\n",
    "right_column = data[:, 1]"
   ]
  },
  {
   "cell_type": "code",
   "execution_count": 6,
   "id": "32435d0c-6c06-4ce9-b233-e35ace68e7d1",
   "metadata": {},
   "outputs": [
    {
     "data": {
      "text/plain": [
       "np.int64(2057374)"
      ]
     },
     "execution_count": 6,
     "metadata": {},
     "output_type": "execute_result"
    }
   ],
   "source": [
    "calc_sum_list_distances(left_column, right_column)"
   ]
  },
  {
   "cell_type": "markdown",
   "id": "a1101000-02bf-4802-8996-4d20564b0ae4",
   "metadata": {},
   "source": [
    "---\n",
    "\n",
    "Now figure out exactly how often each number from the left list appears in the right list. Calculate a total similarity score by adding up each number in the left list after multiplying it by the number of times that number appears in the right list."
   ]
  },
  {
   "cell_type": "markdown",
   "id": "0579195c-e6cc-41ce-8e05-4bb4e0f0c568",
   "metadata": {},
   "source": [
    "We create a boolean matrix where each row corresponds to a value in `left_column`, \n",
    "and each column corresponds to a value in `right_column`. \n",
    "\n",
    "An element in the matrix is `True` if the `left_column` value for that row matches the `right_column` value for that column."
   ]
  },
  {
   "cell_type": "markdown",
   "id": "e63c0028-4f21-496b-b202-e6bd7634387f",
   "metadata": {},
   "source": [
    "---\n",
    "\n",
    "First apply my approach to the example so I can see it's doing what I want"
   ]
  },
  {
   "cell_type": "code",
   "execution_count": 7,
   "id": "dfbb5fd6-1057-4d6e-9112-daabe45e365a",
   "metadata": {},
   "outputs": [],
   "source": [
    "example_string = \"\"\"\n",
    "3   4\n",
    "4   3\n",
    "2   5\n",
    "1   3\n",
    "3   9\n",
    "3   3\n",
    "\"\"\""
   ]
  },
  {
   "cell_type": "code",
   "execution_count": 8,
   "id": "5f4e3129-6728-4606-95cb-3720bd7f830f",
   "metadata": {},
   "outputs": [],
   "source": [
    "example_data = np.genfromtxt(example_string.splitlines(), dtype=int)"
   ]
  },
  {
   "cell_type": "code",
   "execution_count": 9,
   "id": "6d8d7892-d308-4fc4-946e-ab3c9ab393a7",
   "metadata": {},
   "outputs": [
    {
     "data": {
      "text/plain": [
       "array([[3, 4],\n",
       "       [4, 3],\n",
       "       [2, 5],\n",
       "       [1, 3],\n",
       "       [3, 9],\n",
       "       [3, 3]])"
      ]
     },
     "execution_count": 9,
     "metadata": {},
     "output_type": "execute_result"
    }
   ],
   "source": [
    "example_data"
   ]
  },
  {
   "cell_type": "code",
   "execution_count": 10,
   "id": "4047acf9-0c3a-445e-aa73-8dbd30cef3a2",
   "metadata": {},
   "outputs": [],
   "source": [
    "left = example_data[:, 0]\n",
    "right = example_data[:, 1]"
   ]
  },
  {
   "cell_type": "code",
   "execution_count": 11,
   "id": "cca3c7e1-9e5e-4789-903e-f9e1cd1f83ad",
   "metadata": {},
   "outputs": [
    {
     "data": {
      "text/plain": [
       "array([4, 3, 5, 3, 9, 3])"
      ]
     },
     "execution_count": 11,
     "metadata": {},
     "output_type": "execute_result"
    }
   ],
   "source": [
    "right"
   ]
  },
  {
   "cell_type": "code",
   "execution_count": 12,
   "id": "c8d64f6e-0752-4fad-ade0-a2ae4fdd2598",
   "metadata": {},
   "outputs": [
    {
     "data": {
      "text/plain": [
       "array([[False,  True, False,  True, False,  True],\n",
       "       [ True, False, False, False, False, False],\n",
       "       [False, False, False, False, False, False],\n",
       "       [False, False, False, False, False, False],\n",
       "       [False,  True, False,  True, False,  True],\n",
       "       [False,  True, False,  True, False,  True]])"
      ]
     },
     "execution_count": 12,
     "metadata": {},
     "output_type": "execute_result"
    }
   ],
   "source": [
    "comparison = left[:, None] == right[None, :]; comparison"
   ]
  },
  {
   "cell_type": "markdown",
   "id": "e651a86d-3cd0-482c-8144-bff9c5595cb9",
   "metadata": {},
   "source": [
    "Now we perform the similarity score by getting occurence counts by summing `True` values in each row and multiplying against the value in the `left_column`"
   ]
  },
  {
   "cell_type": "code",
   "execution_count": 13,
   "id": "1a2f38be-3512-45ee-aed5-296009b1db36",
   "metadata": {},
   "outputs": [
    {
     "data": {
      "text/plain": [
       "array([3, 1, 0, 0, 3, 3])"
      ]
     },
     "execution_count": 13,
     "metadata": {},
     "output_type": "execute_result"
    }
   ],
   "source": [
    "occurrence = np.sum(comparison, axis=1); occurrence"
   ]
  },
  {
   "cell_type": "code",
   "execution_count": 14,
   "id": "1bad9965-7768-45e2-837f-274d7aebd13f",
   "metadata": {},
   "outputs": [
    {
     "data": {
      "text/plain": [
       "np.int64(31)"
      ]
     },
     "execution_count": 14,
     "metadata": {},
     "output_type": "execute_result"
    }
   ],
   "source": [
    "similarity = np.dot(left, occurrence); similarity"
   ]
  },
  {
   "cell_type": "markdown",
   "id": "2667ee5c-8e3b-4f31-b638-612af5563100",
   "metadata": {},
   "source": [
    "---\n",
    "\n",
    "Now apply it to my actual data:"
   ]
  },
  {
   "cell_type": "code",
   "execution_count": 15,
   "id": "f8937ea2-a979-4c28-b858-baad77b248f5",
   "metadata": {},
   "outputs": [
    {
     "data": {
      "text/plain": [
       "array([[False, False, False, ..., False, False, False],\n",
       "       [False, False, False, ..., False, False, False],\n",
       "       [False, False, False, ..., False, False, False],\n",
       "       ...,\n",
       "       [False, False, False, ..., False, False, False],\n",
       "       [False, False, False, ..., False, False, False],\n",
       "       [False, False, False, ..., False, False, False]])"
      ]
     },
     "execution_count": 15,
     "metadata": {},
     "output_type": "execute_result"
    }
   ],
   "source": [
    "comparison_matrix = left_column[:, None] == right_column[None, :]; comparison_matrix"
   ]
  },
  {
   "cell_type": "code",
   "execution_count": 16,
   "id": "f2f150de-83b0-41a9-b2f8-88bbcd621858",
   "metadata": {},
   "outputs": [],
   "source": [
    "occurrence_counts = np.sum(comparison_matrix, axis=1)\n",
    "similarity_score = np.dot(left_column, occurrence_counts)"
   ]
  },
  {
   "cell_type": "code",
   "execution_count": 17,
   "id": "5c421b57-77fc-46dd-92e2-8f3a9accbdff",
   "metadata": {},
   "outputs": [
    {
     "data": {
      "text/plain": [
       "np.int64(23177084)"
      ]
     },
     "execution_count": 17,
     "metadata": {},
     "output_type": "execute_result"
    }
   ],
   "source": [
    "similarity_score"
   ]
  },
  {
   "cell_type": "markdown",
   "id": "b4501076-74b5-4bae-a1f8-65146f4264f1",
   "metadata": {},
   "source": [
    "... and yet this answer is wrong."
   ]
  }
 ],
 "metadata": {
  "kernelspec": {
   "display_name": "advent2024",
   "language": "python",
   "name": "advent2024"
  },
  "language_info": {
   "codemirror_mode": {
    "name": "ipython",
    "version": 3
   },
   "file_extension": ".py",
   "mimetype": "text/x-python",
   "name": "python",
   "nbconvert_exporter": "python",
   "pygments_lexer": "ipython3",
   "version": "3.11.4"
  }
 },
 "nbformat": 4,
 "nbformat_minor": 5
}
