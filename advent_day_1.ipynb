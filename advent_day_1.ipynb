{
 "cells": [
  {
   "cell_type": "code",
   "execution_count": 3,
   "id": "365f7766-e08a-4bdf-a0d4-f0068d96cd54",
   "metadata": {},
   "outputs": [],
   "source": [
    "from aocd import get_data"
   ]
  },
  {
   "cell_type": "code",
   "execution_count": 12,
   "id": "4340fa2d-c094-43a2-99fe-43b2f4bbdcd8",
   "metadata": {},
   "outputs": [],
   "source": [
    "import numpy as np\n",
    "\n",
    "def calculate_distance_numpy(list1, list2):\n",
    "    if len(list1) != len(list2):\n",
    "        raise ValueError(\"Lists must be of the same length to calculate distance.\")\n",
    "    \n",
    "    arr1 = np.sort(np.array(list1))\n",
    "    arr2 = np.sort(np.array(list2))\n",
    "    \n",
    "    total_distance = np.sum(np.abs(arr1 - arr2))\n",
    "    \n",
    "    return total_distance"
   ]
  },
  {
   "cell_type": "code",
   "execution_count": 7,
   "id": "abd6c32f-ad0b-4be5-9ab0-15d58a6be3e0",
   "metadata": {},
   "outputs": [],
   "source": [
    "from io import StringIO\n",
    "\n",
    "data_io = np.loadtxt(StringIO(get_data(day=1, year=2024)), dtype=int)"
   ]
  },
  {
   "cell_type": "code",
   "execution_count": 9,
   "id": "82f68b00-984a-4868-9e08-7ed73e0a6703",
   "metadata": {},
   "outputs": [],
   "source": [
    "column1 = data_io[:, 0]\n",
    "column2 = data_io[:, 1]"
   ]
  },
  {
   "cell_type": "code",
   "execution_count": 13,
   "id": "32435d0c-6c06-4ce9-b233-e35ace68e7d1",
   "metadata": {},
   "outputs": [
    {
     "data": {
      "text/plain": [
       "np.int64(2057374)"
      ]
     },
     "execution_count": 13,
     "metadata": {},
     "output_type": "execute_result"
    }
   ],
   "source": [
    "calculate_distance_numpy(column1, column2)"
   ]
  }
 ],
 "metadata": {
  "kernelspec": {
   "display_name": "advent2024",
   "language": "python",
   "name": "advent2024"
  },
  "language_info": {
   "codemirror_mode": {
    "name": "ipython",
    "version": 3
   },
   "file_extension": ".py",
   "mimetype": "text/x-python",
   "name": "python",
   "nbconvert_exporter": "python",
   "pygments_lexer": "ipython3",
   "version": "3.11.4"
  }
 },
 "nbformat": 4,
 "nbformat_minor": 5
}
