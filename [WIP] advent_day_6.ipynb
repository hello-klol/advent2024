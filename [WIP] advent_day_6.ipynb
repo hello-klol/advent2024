{
 "cells": [
  {
   "cell_type": "code",
   "execution_count": 1,
   "id": "651b5d24-c8e4-4cf6-8d08-88ce8d0119ec",
   "metadata": {},
   "outputs": [],
   "source": [
    "from aocd import get_data\n",
    "import numpy as np"
   ]
  },
  {
   "cell_type": "markdown",
   "id": "e67cfc03-bd7b-4bca-b2c1-035a02a96b82",
   "metadata": {},
   "source": [
    "- Create a 2D grid representing the map\n",
    "- Identify the guard's starting position and initial facing direction (`^`, `>`, `v`, or `<`)\n",
    "- If the guard faces an obstacle (`#`) in the direction they are heading, turn 90 degrees to the right\n",
    "  -  Otherwise, move one step forward in the current facing direction\n",
    "- Track and store all distinct positions visited by the guard, including the starting position\n",
    "- Continue moving according to the rules until the guard moves outside the bounds of the grid\n",
    "- Count the number of distinct positions the guard visited\n",
    "- Return the total count of distinct positions"
   ]
  },
  {
   "cell_type": "code",
   "execution_count": 2,
   "id": "127ab6de-599a-4b78-8022-ef42c4e1d57f",
   "metadata": {},
   "outputs": [],
   "source": [
    "direction_map = {\n",
    "        '^': (-1, 0),\n",
    "        '>': (0, 1),\n",
    "        'v': (1, 0),\n",
    "        '<': (0, -1),\n",
    "    }"
   ]
  },
  {
   "cell_type": "code",
   "execution_count": 3,
   "id": "a499a413-7458-419c-904d-fc7171583096",
   "metadata": {},
   "outputs": [],
   "source": [
    "def turn_right(direction):\n",
    "    \"\"\"New direction after turning right\"\"\"\n",
    "    turns = {'^': '>', '>': 'v', 'v': '<', '<': '^'}\n",
    "    return turns[direction]"
   ]
  },
  {
   "cell_type": "code",
   "execution_count": 4,
   "id": "b242ecc6-f09c-49bf-a422-e946027a9860",
   "metadata": {},
   "outputs": [],
   "source": [
    "def valid_position(grid, pos):\n",
    "    \"\"\"check the position is within the bounds and not an obstacle (#)\"\"\"\n",
    "    rows, cols = grid.shape\n",
    "    r, c = pos\n",
    "    return 0 <= r < rows and 0 <= c < cols and grid[r, c] != '#'\n"
   ]
  },
  {
   "cell_type": "code",
   "execution_count": 56,
   "id": "e80609c2-c943-44c5-a53c-9e47f85bc02c",
   "metadata": {},
   "outputs": [],
   "source": [
    "def simulate_patrol(grid, start_pos, start_dir):\n",
    "    rows, cols = grid.shape\n",
    "    pos = start_pos\n",
    "    direction = start_dir\n",
    "    visited = set()\n",
    "    # add starting position\n",
    "    visited.add(pos)\n",
    "    \n",
    "    while True:\n",
    "        delta_r, delta_c = direction_map[direction]\n",
    "        next_pos = (pos[0] + delta_r, pos[1] + delta_c)\n",
    "\n",
    "        if valid_position(grid, next_pos):\n",
    "            pos = next_pos\n",
    "            visited.add(pos)\n",
    "        \n",
    "        else:\n",
    "            # turn right if blocked\n",
    "            direction = turn_right(direction)\n",
    "        \n",
    "        # if the guard moves out of bounds\n",
    "        if not 0 <= next_pos[0] < rows and 0 <= next_pos[1] < cols:\n",
    "            break\n",
    "    \n",
    "    return visited"
   ]
  },
  {
   "cell_type": "code",
   "execution_count": 57,
   "id": "633b1dd6-856e-44c7-9a2c-91f478f2ad55",
   "metadata": {},
   "outputs": [],
   "source": [
    "ex_grid_str = \"\"\"\n",
    "....#.....\n",
    ".........#\n",
    "..........\n",
    "..#.......\n",
    ".......#..\n",
    "..........\n",
    ".#..^.....\n",
    "........#.\n",
    "#.........\n",
    "......#...\n",
    "\"\"\""
   ]
  },
  {
   "cell_type": "code",
   "execution_count": 52,
   "id": "18900eab-a5a0-4886-92a5-c0391a2fd88a",
   "metadata": {},
   "outputs": [
    {
     "data": {
      "text/plain": [
       "array([['.', '.', '.', '.', '#', '.', '.', '.', '.', '.'],\n",
       "       ['.', '.', '.', '.', '.', '.', '.', '.', '.', '#'],\n",
       "       ['.', '.', '.', '.', '.', '.', '.', '.', '.', '.'],\n",
       "       ['.', '.', '#', '.', '.', '.', '.', '.', '.', '.'],\n",
       "       ['.', '.', '.', '.', '.', '.', '.', '#', '.', '.'],\n",
       "       ['.', '.', '.', '.', '.', '.', '.', '.', '.', '.'],\n",
       "       ['.', '#', '.', '.', '^', '.', '.', '.', '.', '.'],\n",
       "       ['.', '.', '.', '.', '.', '.', '.', '.', '#', '.'],\n",
       "       ['#', '.', '.', '.', '.', '.', '.', '.', '.', '.'],\n",
       "       ['.', '.', '.', '.', '.', '.', '#', '.', '.', '.']], dtype='<U1')"
      ]
     },
     "execution_count": 52,
     "metadata": {},
     "output_type": "execute_result"
    }
   ],
   "source": [
    "example_grid = np.array([list(line) for line in ex_grid_str.strip().split(\"\\n\")]); grid"
   ]
  },
  {
   "cell_type": "code",
   "execution_count": 53,
   "id": "12b6b010-9973-4a26-b7e1-18a57ceb99c8",
   "metadata": {},
   "outputs": [],
   "source": [
    "for i, row in enumerate(example_grid):\n",
    "    for j, cell in enumerate(row):\n",
    "        if cell in direction_map:\n",
    "            start_pos = (i,j)\n",
    "            start_dir = cell"
   ]
  },
  {
   "cell_type": "code",
   "execution_count": 54,
   "id": "38930de4-1758-48db-a6a4-16ad74c91a6d",
   "metadata": {},
   "outputs": [],
   "source": [
    "visited_positions = simulate_patrol(example_grid, start_pos, start_dir)"
   ]
  },
  {
   "cell_type": "code",
   "execution_count": 55,
   "id": "85cf670a-8561-49f9-a601-f1d7a5b2d6a2",
   "metadata": {},
   "outputs": [
    {
     "data": {
      "text/plain": [
       "41"
      ]
     },
     "execution_count": 55,
     "metadata": {},
     "output_type": "execute_result"
    }
   ],
   "source": [
    "len(visited_positions)"
   ]
  },
  {
   "cell_type": "markdown",
   "id": "fff2baac-702c-4783-898e-4914963d312f",
   "metadata": {},
   "source": [
    "Now for the real data:"
   ]
  },
  {
   "cell_type": "code",
   "execution_count": 63,
   "id": "644cd970-ecef-4346-9175-05da69e59ab9",
   "metadata": {},
   "outputs": [],
   "source": [
    "grid = np.array([list(line) for line in get_data(day=6, year=2024).strip().split(\"\\n\")])"
   ]
  },
  {
   "cell_type": "code",
   "execution_count": 64,
   "id": "bef94248-cccb-4e6d-8c00-ebd9091e841d",
   "metadata": {},
   "outputs": [],
   "source": [
    "for i, row in enumerate(grid):\n",
    "    for j, cell in enumerate(row):\n",
    "        if cell in direction_map:\n",
    "            start_pos = (i,j)\n",
    "            start_dir = cell"
   ]
  },
  {
   "cell_type": "code",
   "execution_count": 65,
   "id": "16277da2-6ee8-4a34-af67-49344c26e370",
   "metadata": {},
   "outputs": [],
   "source": [
    "visited_positions = simulate_patrol(grid, start_pos, start_dir)"
   ]
  },
  {
   "cell_type": "code",
   "execution_count": 66,
   "id": "6f15b50f-2b91-4cc8-bb4b-217a9205bd63",
   "metadata": {},
   "outputs": [
    {
     "data": {
      "text/plain": [
       "4656"
      ]
     },
     "execution_count": 66,
     "metadata": {},
     "output_type": "execute_result"
    }
   ],
   "source": [
    "len(visited_positions)"
   ]
  },
  {
   "cell_type": "markdown",
   "id": "0d97f74f-281e-4df8-8c82-d47ac3c3dee6",
   "metadata": {},
   "source": [
    "### Part Two"
   ]
  },
  {
   "cell_type": "markdown",
   "id": "3f85ad24-7c98-4a78-b1c4-e54afa980c98",
   "metadata": {},
   "source": [
    "- Follow the guard's movement rules (move forward unless blocked, then turn right) until they exit the grid or repeat a position and direction\n",
    "- Keep track of every (position, direction) pair the guard visits\n",
    "- If the guard visits the same position and direction more than once, they are in a loop\n",
    "- For each empty cell (`.`) not currently visited, temporarily place an obstruction (`#`) and simulate the guard's patrol again\n",
    "- Check if the guard gets stuck in a loop with the obstruction in place\n",
    "- Count the positions where adding an obstruction causes the guard to enter a loop\n",
    "- Exclude the guard's starting position\n"
   ]
  },
  {
   "cell_type": "code",
   "execution_count": null,
   "id": "f5dec068-ce75-4014-95c1-39c138748fe7",
   "metadata": {},
   "outputs": [],
   "source": []
  }
 ],
 "metadata": {
  "kernelspec": {
   "display_name": "advent2024",
   "language": "python",
   "name": "advent2024"
  },
  "language_info": {
   "codemirror_mode": {
    "name": "ipython",
    "version": 3
   },
   "file_extension": ".py",
   "mimetype": "text/x-python",
   "name": "python",
   "nbconvert_exporter": "python",
   "pygments_lexer": "ipython3",
   "version": "3.11.4"
  }
 },
 "nbformat": 4,
 "nbformat_minor": 5
}
