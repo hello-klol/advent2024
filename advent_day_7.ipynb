{
 "cells": [
  {
   "cell_type": "code",
   "execution_count": 1,
   "id": "6e559e6b-799c-4b1f-98ee-49d998352cfd",
   "metadata": {},
   "outputs": [],
   "source": [
    "from aocd import get_data"
   ]
  },
  {
   "cell_type": "markdown",
   "id": "091cbb0b-ca1e-47a5-a136-fb0564f911ce",
   "metadata": {},
   "source": [
    "Given a list of calibration equations, determine which ones can be made true by inserting `+` (add) or `*` (multiply) operators between the numbers. Operators are evaluated left-to-right (not by precedence), and numbers cannot be rearranged."
   ]
  },
  {
   "cell_type": "markdown",
   "id": "70c915f8-27c0-4216-b9b2-fe86f5ffb7ff",
   "metadata": {},
   "source": [
    "Each line represents an equation in the format:\n",
    "\n",
    "`target: num1 num2 num3 ...`\n",
    "\n",
    "`target` is the test value you need to match.\n",
    "\n",
    "`num1` `num2` `num3` ... are the numbers to combine using `+` and `*`."
   ]
  },
  {
   "cell_type": "markdown",
   "id": "38191af9-2a22-40d9-bea6-07e2ef84c15b",
   "metadata": {},
   "source": [
    "The final solution should return the sum of all `target` values for equations that can be made true by inserting `+` or `*`."
   ]
  },
  {
   "cell_type": "code",
   "execution_count": 2,
   "id": "e5d2689f-ed69-43b9-b1a5-08757d0cdc5c",
   "metadata": {},
   "outputs": [],
   "source": [
    "example_input = \"\"\"\n",
    "190: 10 19  \n",
    "3267: 81 40 27  \n",
    "83: 17 5  \n",
    "156: 15 6  \n",
    "7290: 6 8 6 15  \n",
    "161011: 16 10 13  \n",
    "192: 17 8 14  \n",
    "21037: 9 7 18 13  \n",
    "292: 11 6 16 20  \n",
    "\"\"\""
   ]
  },
  {
   "cell_type": "markdown",
   "id": "7726c5bd-38bf-48b9-8195-0a9b71608608",
   "metadata": {},
   "source": [
    "For the above example, the solution would be `3749`"
   ]
  },
  {
   "cell_type": "markdown",
   "id": "afa07259-b9d2-4d88-87a8-2719cd32eab8",
   "metadata": {},
   "source": [
    "Explanation:\n",
    "From the example:\n",
    "\n",
    "`190`: `10 19 → 10 * 19 = 190` ✅\n",
    "\n",
    "`3267`: `81 40 27 → 81 + 40 * 27 = 3267` ✅\n",
    "\n",
    "`292`: `11 6 16 20 → 11 + 6 * 16 + 20 = 292` ✅\n",
    "\n",
    "Other equations cannot match their target with any combination of `+` or `*`.\n",
    "\n",
    "The sum of valid targets: `190 + 3267 + 292 = 3749`."
   ]
  },
  {
   "cell_type": "markdown",
   "id": "dd2dba24-62fd-4be2-87e3-db2630be3aff",
   "metadata": {},
   "source": [
    "What we need to do:\n",
    "\n",
    "- Generate all possible combinations of operators given input length\n",
    "- Insert `+` or `*` between numbers using all possible combinations\n",
    "- Evaluate the expressions left-to-right\n",
    "- Check if any combination equals the target\n",
    "- If valid, add the target to the result\n",
    "- Return the sum of all valid targets"
   ]
  },
  {
   "cell_type": "markdown",
   "id": "1a1d989f-0e5e-4431-a774-d888e0dbc6d4",
   "metadata": {},
   "source": [
    "First generate all the possible combinations that could be used for the numbers"
   ]
  },
  {
   "cell_type": "code",
   "execution_count": 3,
   "id": "9f00ab87-7ddc-45a9-8f3e-da8bfda4c5fc",
   "metadata": {},
   "outputs": [
    {
     "name": "stdout",
     "output_type": "stream",
     "text": [
      "('+', '+', '*')\n",
      "('*', '*', '+')\n",
      "('*', '*', '*')\n",
      "('+', '+', '+')\n",
      "('*', '+', '+')\n",
      "('*', '+', '*')\n",
      "('+', '*', '+')\n",
      "('+', '*', '*')\n"
     ]
    }
   ],
   "source": [
    "from itertools import product\n",
    "\n",
    "symbols = ['*', '+']\n",
    "\n",
    "def generate_combinations(n):\n",
    "    # return set of tuples\n",
    "    return set(product(symbols, repeat=n))\n",
    "\n",
    "# Example for 3 elements\n",
    "combinations = generate_combinations(3)\n",
    "for combo in combinations:\n",
    "    print(combo)"
   ]
  },
  {
   "cell_type": "code",
   "execution_count": 4,
   "id": "7f3cddb3-69d3-4cf5-99d1-91ab5df1f1e3",
   "metadata": {},
   "outputs": [],
   "source": [
    "import re\n",
    "\n",
    "def parse_data(input_str):\n",
    "    return [(int(t), list(map(int, n.split()))) for t, n in re.findall(r\"(\\d+):\\s*([\\d\\s]+)\\n\", input_str)]"
   ]
  },
  {
   "cell_type": "code",
   "execution_count": 5,
   "id": "6fb09f4c-b7e3-49a7-a7bf-67722fec986b",
   "metadata": {},
   "outputs": [],
   "source": [
    "def left_to_right_eval(numbers, ops):\n",
    "    result = numbers[0]\n",
    "    \n",
    "    for i in range(len(ops)):\n",
    "        operator = ops[i]\n",
    "        number = numbers[i + 1]\n",
    "        \n",
    "        if operator == '+':\n",
    "            result += number\n",
    "        elif operator == '*':\n",
    "            result *= number\n",
    "    \n",
    "    return result"
   ]
  },
  {
   "cell_type": "markdown",
   "id": "cfaf21fd-e664-4700-8872-b3eae6c6c12a",
   "metadata": {},
   "source": [
    "Wrote recursively for fun / interview practice. Despite recursion not actually being great here:"
   ]
  },
  {
   "cell_type": "code",
   "execution_count": 6,
   "id": "28f76701-4f4d-4402-befd-2783b2ece8cf",
   "metadata": {},
   "outputs": [],
   "source": [
    "def left_to_right_eval_recur(numbers, ops):\n",
    "    if not ops:\n",
    "        return numbers[0]\n",
    "\n",
    "    if ops[0] == '+':\n",
    "        result = numbers[0] + numbers[1]\n",
    "    elif ops[0] == '*':\n",
    "        result = numbers[0] * numbers[1]\n",
    "\n",
    "    return left_to_right_eval_recur([result] + numbers[2:], ops[1:])"
   ]
  },
  {
   "cell_type": "markdown",
   "id": "599be7bb-614d-4457-a4e4-99ab06e253ef",
   "metadata": {},
   "source": [
    "Recursion causes a performance overhead!\n",
    "\n",
    "*Function Call Overhead:* Each recursive call adds a new frame to the call stack. This increases memory usage and function call time, making recursion less efficient than iteration for large datasets.\n",
    "\n",
    "*Stack Limits:* Python has a recursion depth limit (default is typically 1000). For large inputs, the recursive function can result in a RecursionError."
   ]
  },
  {
   "cell_type": "code",
   "execution_count": 7,
   "id": "e3f19ec4-81d9-4704-8377-7a393cc0777a",
   "metadata": {},
   "outputs": [
    {
     "name": "stdout",
     "output_type": "stream",
     "text": [
      "190: [10, 19] ('*',)\n",
      "3267: [81, 40, 27] ('+', '*')\n",
      "292: [11, 6, 16, 20] ('+', '*', '+')\n"
     ]
    }
   ],
   "source": [
    "total = 0\n",
    "for target, numbers in parse_data(example_input):\n",
    "    \n",
    "    operator_combinations = generate_combinations(len(numbers) - 1)\n",
    "    \n",
    "    for ops in operator_combinations:\n",
    "        result = left_to_right_eval_recur(numbers, ops)\n",
    "        \n",
    "        if result == target:\n",
    "            print(f'{target}: {numbers} {ops}')\n",
    "            total += target\n",
    "            break  # we only need the first solution  \n",
    "        "
   ]
  },
  {
   "cell_type": "code",
   "execution_count": 8,
   "id": "bb9289c0-bb7b-436e-a863-dd15765c31b2",
   "metadata": {},
   "outputs": [
    {
     "data": {
      "text/plain": [
       "3749"
      ]
     },
     "execution_count": 8,
     "metadata": {},
     "output_type": "execute_result"
    }
   ],
   "source": [
    "total"
   ]
  },
  {
   "cell_type": "code",
   "execution_count": 9,
   "id": "a1845ddb-f9ef-4397-9ed7-00cb46b2efd5",
   "metadata": {},
   "outputs": [],
   "source": [
    "data = get_data(day=7, year=2024)"
   ]
  },
  {
   "cell_type": "code",
   "execution_count": 10,
   "id": "9d69240f-6169-456a-8f12-f94575a6b7a3",
   "metadata": {},
   "outputs": [],
   "source": [
    "total = 0\n",
    "for target, numbers in parse_data(data):\n",
    "    \n",
    "    operator_combinations = generate_combinations(len(numbers) - 1)\n",
    "    \n",
    "    for ops in operator_combinations:\n",
    "        result = left_to_right_eval(numbers, ops)\n",
    "        \n",
    "        if result == target:\n",
    "            total += target\n",
    "            break  # we only need the first solution  "
   ]
  },
  {
   "cell_type": "code",
   "execution_count": 11,
   "id": "f5e12374-c967-4534-8381-3a23bd1e2f47",
   "metadata": {},
   "outputs": [
    {
     "data": {
      "text/plain": [
       "2941973819040"
      ]
     },
     "execution_count": 11,
     "metadata": {},
     "output_type": "execute_result"
    }
   ],
   "source": [
    "total"
   ]
  },
  {
   "cell_type": "markdown",
   "id": "0aa83796-318f-4f8e-a593-5686a7b559c5",
   "metadata": {},
   "source": [
    "## Part Two"
   ]
  },
  {
   "cell_type": "markdown",
   "id": "cc6543a9-cc7d-435f-bcd0-d7c7e57c43f5",
   "metadata": {},
   "source": [
    "Determine which equations can be made true by introducing a new operator: concatenation (`||`)"
   ]
  },
  {
   "cell_type": "markdown",
   "id": "66d47d4e-92f5-4211-9f9d-db77dd33507b",
   "metadata": {},
   "source": [
    "- Update `generate_combinations` to take an array of symbols instead of having them hardcoded\n",
    "- Update our evaluation function to include an operator for concatenation"
   ]
  },
  {
   "cell_type": "code",
   "execution_count": 12,
   "id": "f42031db-a6f0-4e86-9fe1-8e2d4af3d0aa",
   "metadata": {},
   "outputs": [],
   "source": [
    "new_symbols = ['*', '+', '||']\n",
    "\n",
    "def generate_combinations(symbols, n):    \n",
    "    return set(product(symbols, repeat=n))"
   ]
  },
  {
   "cell_type": "code",
   "execution_count": 13,
   "id": "52472108-eeb3-409e-b211-50d2247ead4e",
   "metadata": {},
   "outputs": [],
   "source": [
    "def left_to_right_eval(numbers, ops):\n",
    "    result = numbers[0]\n",
    "    \n",
    "    for i in range(len(ops)):\n",
    "        operator = ops[i]\n",
    "        number = numbers[i + 1]\n",
    "        \n",
    "        if operator == '+':\n",
    "            result += number\n",
    "        elif operator == '*':\n",
    "            result *= number\n",
    "        elif operator == '||':\n",
    "            result = int(f'{result}{number}')\n",
    "    \n",
    "    return result"
   ]
  },
  {
   "cell_type": "markdown",
   "id": "ab8fcd36-5c03-46b9-9405-86f779c77783",
   "metadata": {},
   "source": [
    "We can replace `if-elif-...` with a dictionary"
   ]
  },
  {
   "cell_type": "code",
   "execution_count": 14,
   "id": "3a561e9c-9875-412e-9487-0a95173f5e87",
   "metadata": {},
   "outputs": [],
   "source": [
    "evaluate = {\n",
    "    '+': lambda x: result + x,\n",
    "    '*': lambda x: result * x,\n",
    "    '||': lambda x: int(f'{result}{number}')\n",
    "}\n",
    "\n",
    "def left_to_right_eval_new(numbers, ops):\n",
    "    result = numbers[0]\n",
    "    \n",
    "    for i in range(len(ops)):\n",
    "        operator = ops[i]\n",
    "        number = numbers[i + 1]\n",
    "\n",
    "        result = evaluate[operator](number)\n",
    "    \n",
    "    return result"
   ]
  },
  {
   "cell_type": "code",
   "execution_count": 17,
   "id": "349ce323-47f6-4ab4-a92e-85a521e37c14",
   "metadata": {},
   "outputs": [],
   "source": [
    "def search_solution(target, numbers, operator_combinations):\n",
    "    for ops in operator_combinations:\n",
    "        result = left_to_right_eval(numbers, ops)\n",
    "        if result == target:\n",
    "            return target"
   ]
  },
  {
   "cell_type": "code",
   "execution_count": 18,
   "id": "0b92b73e-9ca8-4b34-82c2-ce4954a31a10",
   "metadata": {},
   "outputs": [],
   "source": [
    "total = 0\n",
    "\n",
    "for target, numbers in parse_data(data):\n",
    "\n",
    "    operator_combinations = generate_combinations(symbols, len(numbers) - 1)\n",
    "    if result := search_solution(target, numbers, operator_combinations):\n",
    "        total += target\n",
    "        continue  # move onto the next target\n",
    "\n",
    "    # no point in trying the basic combinations again\n",
    "    additional_combinations = generate_combinations(new_symbols, len(numbers) - 1) - operator_combinations\n",
    "    if result := search_solution(target, numbers, additional_combinations):\n",
    "        total += result"
   ]
  },
  {
   "cell_type": "code",
   "execution_count": 19,
   "id": "689e6fbc-47c0-4580-bab2-fa25fd07876b",
   "metadata": {},
   "outputs": [
    {
     "name": "stdout",
     "output_type": "stream",
     "text": [
      "249943037374011\n"
     ]
    }
   ],
   "source": [
    "print(total)"
   ]
  },
  {
   "cell_type": "code",
   "execution_count": null,
   "id": "8b4d7fa2-70d8-4f69-a872-8438f5fae1c0",
   "metadata": {},
   "outputs": [],
   "source": []
  }
 ],
 "metadata": {
  "kernelspec": {
   "display_name": "advent2024",
   "language": "python",
   "name": "advent2024"
  },
  "language_info": {
   "codemirror_mode": {
    "name": "ipython",
    "version": 3
   },
   "file_extension": ".py",
   "mimetype": "text/x-python",
   "name": "python",
   "nbconvert_exporter": "python",
   "pygments_lexer": "ipython3",
   "version": "3.11.4"
  }
 },
 "nbformat": 4,
 "nbformat_minor": 5
}
