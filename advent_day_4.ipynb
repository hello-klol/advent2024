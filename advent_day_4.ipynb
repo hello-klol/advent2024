{
 "cells": [
  {
   "cell_type": "code",
   "execution_count": 51,
   "id": "e8746075-1b8d-49c4-a697-93a509b019d4",
   "metadata": {},
   "outputs": [],
   "source": [
    "from aocd import get_data"
   ]
  },
  {
   "cell_type": "markdown",
   "id": "76b83f67-0ca5-4f1f-9b31-8c225cefdfa2",
   "metadata": {},
   "source": [
    "she'd like to know if you could help her with her word search (your puzzle input). She only has to find one word: XMAS.\n",
    "\n",
    "This word search allows words to be horizontal, vertical, diagonal, written backwards, or even overlapping other words. It's a little unusual, though, as you don't merely need to find one instance of XMAS - you need to find all of them. Here are a few ways XMAS might appear, where irrelevant characters have been replaced with .:\n",
    "\n",
    "```\n",
    "..X...\n",
    ".SAMX.\n",
    ".A..A.\n",
    "XMAS.S\n",
    ".X....\n",
    "```"
   ]
  },
  {
   "cell_type": "markdown",
   "id": "61514358-fcf8-438e-aadf-ff5686314ac9",
   "metadata": {},
   "source": [
    "The actual word search will be full of letters instead. For example:"
   ]
  },
  {
   "cell_type": "code",
   "execution_count": 24,
   "id": "4bc5e923-8313-4c56-8353-fa13b28a4b70",
   "metadata": {},
   "outputs": [],
   "source": [
    "example_ws = \"\"\"\n",
    "MMMSXXMASM\n",
    "MSAMXMSMSA\n",
    "AMXSXMAAMM\n",
    "MSAMASMSMX\n",
    "XMASAMXAMM\n",
    "XXAMMXXAMA\n",
    "SMSMSASXSS\n",
    "SAXAMASAAA\n",
    "MAMMMXMMMM\n",
    "MXMXAXMASX\n",
    "\"\"\""
   ]
  },
  {
   "cell_type": "markdown",
   "id": "60aea9dd-444c-4b55-84ce-75367b5e73b8",
   "metadata": {},
   "source": [
    "In this word search, XMAS occurs a total of 18 times; here's the same word search again, but where letters not involved in any XMAS have been replaced with `.`:\n",
    "\n",
    "```\n",
    "....XXMAS.\n",
    ".SAMXMS...\n",
    "...S..A...\n",
    "..A.A.MS.X\n",
    "XMASAMX.MM\n",
    "X.....XA.A\n",
    "S.S.S.S.SS\n",
    ".A.A.A.A.A\n",
    "..M.M.M.MM\n",
    ".X.X.XMASX\n",
    "```"
   ]
  },
  {
   "cell_type": "code",
   "execution_count": 11,
   "id": "a5efad47-0886-4f9b-9d3f-96fc178497ad",
   "metadata": {},
   "outputs": [],
   "source": [
    "import numpy as np\n",
    "import re"
   ]
  },
  {
   "cell_type": "markdown",
   "id": "0412bbc7-0fed-4fd9-8db2-151f8c97854c",
   "metadata": {},
   "source": [
    "Get instances reading forward horizontally"
   ]
  },
  {
   "cell_type": "code",
   "execution_count": 33,
   "id": "ce17875c-9353-466f-82fc-2af5662e2283",
   "metadata": {},
   "outputs": [
    {
     "data": {
      "text/plain": [
       "array(['MMMSXXMASM', 'MSAMXMSMSA', 'AMXSXMAAMM', 'MSAMASMSMX',\n",
       "       'XMASAMXAMM', 'XXAMMXXAMA', 'SMSMSASXSS', 'SAXAMASAAA',\n",
       "       'MAMMMXMMMM', 'MXMXAXMASX'], dtype='<U10')"
      ]
     },
     "execution_count": 33,
     "metadata": {},
     "output_type": "execute_result"
    }
   ],
   "source": [
    "rows = np.array(example_ws.strip().splitlines()); rows"
   ]
  },
  {
   "cell_type": "code",
   "execution_count": 34,
   "id": "2cda9c56-8aaf-4988-90b1-222dce6e46d6",
   "metadata": {},
   "outputs": [],
   "source": [
    "vectorized_extract_fwd = np.vectorize(lambda x: len(re.findall(r'XMAS', x)))\n",
    "vectorized_extract_bwd = np.vectorize(lambda x: len(re.findall(r'SAMX', x)))"
   ]
  },
  {
   "cell_type": "code",
   "execution_count": 36,
   "id": "09a6e66b-37fe-43df-b4a5-7d3aeb6850a1",
   "metadata": {},
   "outputs": [],
   "source": [
    "instances = 0\n",
    "instances += np.sum(vectorized_extract_fwd(rows))\n",
    "instances += np.sum(vectorized_extract_bwd(rows))"
   ]
  },
  {
   "cell_type": "code",
   "execution_count": 37,
   "id": "98bc70e2-7189-4e0c-af39-364bbacabd42",
   "metadata": {},
   "outputs": [
    {
     "data": {
      "text/plain": [
       "np.int64(5)"
      ]
     },
     "execution_count": 37,
     "metadata": {},
     "output_type": "execute_result"
    }
   ],
   "source": [
    "instances"
   ]
  },
  {
   "cell_type": "markdown",
   "id": "4bbc8580-5fdc-486e-b4e9-1dd612fcf16e",
   "metadata": {},
   "source": [
    "Now a little bit of manipilation to get cols and diagonals"
   ]
  },
  {
   "cell_type": "code",
   "execution_count": 39,
   "id": "6ced4867-7f9b-42a4-b0a0-96311737676a",
   "metadata": {},
   "outputs": [
    {
     "data": {
      "text/plain": [
       "['MMAMXXSSMM',\n",
       " 'MSMSMXMAAX',\n",
       " 'MAXAAASXMM',\n",
       " 'SMSMSMMAMX',\n",
       " 'XXXAAMSMMA',\n",
       " 'XMMSMXAAXX',\n",
       " 'MSAMXXSSMM',\n",
       " 'AMASAAXAMA',\n",
       " 'SSMMMMSAMS',\n",
       " 'MAMXMASAMX']"
      ]
     },
     "execution_count": 39,
     "metadata": {},
     "output_type": "execute_result"
    }
   ],
   "source": [
    "chars = np.array([list(line) for line in example_ws.strip().splitlines()])\n",
    "cols = np.array([''.join(col) for col in chars.T]); cols"
   ]
  },
  {
   "cell_type": "code",
   "execution_count": 40,
   "id": "5ecd5eaa-8702-430b-8f32-00ffa35097ff",
   "metadata": {},
   "outputs": [],
   "source": [
    "instances += np.sum(vectorized_extract_fwd(cols))\n",
    "instances += np.sum(vectorized_extract_bwd(cols))"
   ]
  },
  {
   "cell_type": "code",
   "execution_count": 41,
   "id": "12e829ef-9e04-4746-b4f1-b8562e8a3fc3",
   "metadata": {},
   "outputs": [
    {
     "data": {
      "text/plain": [
       "np.int64(8)"
      ]
     },
     "execution_count": 41,
     "metadata": {},
     "output_type": "execute_result"
    }
   ],
   "source": [
    "instances"
   ]
  },
  {
   "cell_type": "code",
   "execution_count": 53,
   "id": "973e0807-4f97-4247-8074-b9c90b2668bd",
   "metadata": {},
   "outputs": [],
   "source": [
    "def extract_diagonals(array):\n",
    "    diagonals = []\n",
    "\n",
    "    # main diagonals (bottom-left to top-right)\n",
    "    for offset in range(-array.shape[0] + 1, array.shape[1]):\n",
    "        diagonals.append(''.join(array.diagonal(offset)))\n",
    "\n",
    "    # anti-diagonals (bottom-right to top-left)\n",
    "    flipped_array = np.fliplr(array)\n",
    "    for offset in range(-flipped_array.shape[0] + 1, flipped_array.shape[1]):\n",
    "        diagonals.append(''.join(flipped_array.diagonal(offset)))\n",
    "\n",
    "    return diagonals\n",
    "\n",
    "\n",
    "diagonal_strings = extract_diagonals(chars)\n",
    "\n",
    "# Can't do vectorized here because the diags vary in length\n",
    "for diag in diagonal_strings:\n",
    "    instances += len(re.findall(r'XMAS', diag))\n",
    "    instances += len(re.findall(r'SAMX', diag))"
   ]
  },
  {
   "cell_type": "code",
   "execution_count": 50,
   "id": "c9d08708-1d63-400b-bb11-aaf640052dc4",
   "metadata": {},
   "outputs": [
    {
     "data": {
      "text/plain": [
       "np.int64(18)"
      ]
     },
     "execution_count": 50,
     "metadata": {},
     "output_type": "execute_result"
    }
   ],
   "source": [
    "instances"
   ]
  },
  {
   "cell_type": "markdown",
   "id": "96831a82-1e26-4d42-99d1-df1d6c934856",
   "metadata": {},
   "source": [
    "Now apply to our real data:"
   ]
  },
  {
   "cell_type": "code",
   "execution_count": 52,
   "id": "7d993da4-d5bd-4f8e-a95c-3230b2ce7cab",
   "metadata": {},
   "outputs": [
    {
     "data": {
      "text/plain": [
       "np.int64(2336)"
      ]
     },
     "execution_count": 52,
     "metadata": {},
     "output_type": "execute_result"
    }
   ],
   "source": [
    "data = get_data(day=4, year=2024)\n",
    "\n",
    "rows = np.array(data.strip().splitlines())\n",
    "chars = np.array([list(line) for line in data.strip().splitlines()])\n",
    "cols = np.array([''.join(col) for col in chars.T])\n",
    "diagonal_strings = extract_diagonals(chars)\n",
    "\n",
    "instances = 0\n",
    "instances += np.sum(vectorized_extract_fwd(rows))\n",
    "instances += np.sum(vectorized_extract_bwd(rows))\n",
    "instances += np.sum(vectorized_extract_fwd(cols))\n",
    "instances += np.sum(vectorized_extract_bwd(cols))\n",
    "for diag in diagonal_strings:\n",
    "    instances += len(re.findall(r'XMAS', diag))\n",
    "    instances += len(re.findall(r'SAMX', diag))\n",
    "\n",
    "instances"
   ]
  },
  {
   "cell_type": "markdown",
   "id": "9cd608b5-b050-463e-9a31-f5bc31141a4f",
   "metadata": {},
   "source": [
    "## Part 2"
   ]
  },
  {
   "cell_type": "markdown",
   "id": "8d8c3076-4dce-4232-b1cc-fc8e3b42d548",
   "metadata": {},
   "source": [
    "We can search for instances of `A` and then check the diagonal chars for `M` and `S`."
   ]
  },
  {
   "cell_type": "markdown",
   "id": "5a68d936-bc36-41be-9a72-71aeec63232d",
   "metadata": {},
   "source": [
    "Find all instances of A but ignore top row, bottom row, and left-most and right-most columns"
   ]
  },
  {
   "cell_type": "code",
   "execution_count": 83,
   "id": "28476200-6db3-435d-be62-cdac81cef981",
   "metadata": {},
   "outputs": [],
   "source": [
    "a_chars = chars[1:-1, 1:-1] == 'A'"
   ]
  },
  {
   "cell_type": "code",
   "execution_count": 84,
   "id": "90ecc594-ba95-4b61-b600-5b54eac8987b",
   "metadata": {},
   "outputs": [
    {
     "data": {
      "text/plain": [
       "array([[False,  True, False, ..., False, False, False],\n",
       "       [False, False, False, ..., False,  True,  True],\n",
       "       [False,  True, False, ..., False, False, False],\n",
       "       ...,\n",
       "       [False, False, False, ..., False, False,  True],\n",
       "       [False, False, False, ..., False, False,  True],\n",
       "       [ True,  True, False, ...,  True, False, False]])"
      ]
     },
     "execution_count": 84,
     "metadata": {},
     "output_type": "execute_result"
    }
   ],
   "source": [
    "a_chars"
   ]
  },
  {
   "cell_type": "code",
   "execution_count": 85,
   "id": "1698a45c-ccad-4c68-864c-63521e8646b5",
   "metadata": {},
   "outputs": [],
   "source": [
    "a_chars = np.pad(a_chars, ((1, 1), (1, 1)), constant_values=False)"
   ]
  },
  {
   "cell_type": "code",
   "execution_count": 86,
   "id": "5176f0e6-8366-4ede-a2e4-cb5aa7bfae0a",
   "metadata": {},
   "outputs": [
    {
     "data": {
      "text/plain": [
       "(140, 140)"
      ]
     },
     "execution_count": 86,
     "metadata": {},
     "output_type": "execute_result"
    }
   ],
   "source": [
    "a_chars.shape"
   ]
  },
  {
   "cell_type": "markdown",
   "id": "1f313934-7885-465e-8f7f-724764037b9c",
   "metadata": {},
   "source": [
    "Now we know the co-ords of each `A` char that might be part of the solution, we can perform checks on whether their relatives chars match the `MAS` diagonal pattern:"
   ]
  },
  {
   "cell_type": "code",
   "execution_count": 88,
   "id": "0d344dee-0a0f-4dea-be83-502285540682",
   "metadata": {},
   "outputs": [],
   "source": [
    "coordinates = np.argwhere(a_chars)"
   ]
  },
  {
   "cell_type": "code",
   "execution_count": 89,
   "id": "c1ee7269-46fe-40a0-b6ca-e5692fbddb21",
   "metadata": {},
   "outputs": [
    {
     "data": {
      "text/plain": [
       "array([[  1,   2],\n",
       "       [  1,   5],\n",
       "       [  1,   7],\n",
       "       ...,\n",
       "       [138, 123],\n",
       "       [138, 128],\n",
       "       [138, 136]])"
      ]
     },
     "execution_count": 89,
     "metadata": {},
     "output_type": "execute_result"
    }
   ],
   "source": [
    "coordinates"
   ]
  },
  {
   "cell_type": "code",
   "execution_count": 100,
   "id": "aca7d23c-763f-4f5d-a629-c4232f5ca3ab",
   "metadata": {},
   "outputs": [],
   "source": [
    "def extract_x_pattern(array, center_row, center_col):\n",
    "    # rel positions for the 'X' pattern\n",
    "    x_offsets = [(-1, -1), (-1, 1), (0, 0), (1, -1), (1, 1)]\n",
    "    result = []\n",
    "    \n",
    "    for dr, dc in x_offsets:\n",
    "        row, col = center_row + dr, center_col + dc\n",
    "        result.append(array[row, col])\n",
    "    \n",
    "    return result\n",
    "\n",
    "def check_x_pattern_for_words(array, coords, words):\n",
    "    matches = []\n",
    "    \n",
    "    for center_row, center_col in coords:\n",
    "        x_pattern = extract_x_pattern(array, center_row, center_col)\n",
    "        # convert the extracted pattern into diagonals as strings\n",
    "        diagonals = [\n",
    "            \"\".join([x_pattern[i] for i in [0, 2, 4] if x_pattern[i] is not None]),  # top-left to bottom-right\n",
    "            \"\".join([x_pattern[i] for i in [1, 2, 3] if x_pattern[i] is not None])   # top-right to bottom-left\n",
    "        ]\n",
    "        if all(diag in words for diag in diagonals):\n",
    "            matches.append((center_row, center_col))\n",
    "    \n",
    "    return matches\n",
    "\n",
    "words_to_check = [\"MAS\", \"SAM\"]\n",
    "matches = check_x_pattern_for_words(chars, coordinates, words_to_check)\n"
   ]
  },
  {
   "cell_type": "code",
   "execution_count": 101,
   "id": "18f2894c-c526-4a4b-8014-32e1157e2257",
   "metadata": {},
   "outputs": [
    {
     "data": {
      "text/plain": [
       "1831"
      ]
     },
     "execution_count": 101,
     "metadata": {},
     "output_type": "execute_result"
    }
   ],
   "source": [
    "len(matches)"
   ]
  },
  {
   "cell_type": "code",
   "execution_count": null,
   "id": "725ff494-e2a6-491f-9616-cd921c7a2782",
   "metadata": {},
   "outputs": [],
   "source": []
  }
 ],
 "metadata": {
  "kernelspec": {
   "display_name": "advent2024",
   "language": "python",
   "name": "advent2024"
  },
  "language_info": {
   "codemirror_mode": {
    "name": "ipython",
    "version": 3
   },
   "file_extension": ".py",
   "mimetype": "text/x-python",
   "name": "python",
   "nbconvert_exporter": "python",
   "pygments_lexer": "ipython3",
   "version": "3.11.4"
  }
 },
 "nbformat": 4,
 "nbformat_minor": 5
}
